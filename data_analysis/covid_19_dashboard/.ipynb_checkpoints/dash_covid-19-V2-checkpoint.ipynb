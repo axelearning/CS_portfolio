{
 "cells": [
  {
   "cell_type": "markdown",
   "metadata": {},
   "source": [
    "# Covid-19 dashboard\n",
    "---\n",
    "__Goal,__ create a dynamic dashboard from tableau example"
   ]
  },
  {
   "cell_type": "code",
   "execution_count": 1,
   "metadata": {},
   "outputs": [],
   "source": [
    "import pandas as pd\n",
    "import numpy as np\n",
    "import plotly.graph_objects as go\n",
    "import plotly.express as px"
   ]
  },
  {
   "cell_type": "markdown",
   "metadata": {},
   "source": [
    "## 1.Data Cleanning and Preparation\n",
    "---"
   ]
  },
  {
   "cell_type": "code",
   "execution_count": 2,
   "metadata": {},
   "outputs": [
    {
     "name": "stdout",
     "output_type": "stream",
     "text": [
      "<class 'pandas.core.frame.DataFrame'>\n",
      "RangeIndex: 33250 entries, 0 to 33249\n",
      "Data columns (total 8 columns):\n",
      " #   Column          Non-Null Count  Dtype  \n",
      "---  ------          --------------  -----  \n",
      " 0   Province/State  33250 non-null  object \n",
      " 1   Country/Region  31125 non-null  object \n",
      " 2   Lat             33250 non-null  float64\n",
      " 3   Long            33250 non-null  float64\n",
      " 4   Date            33250 non-null  object \n",
      " 5   Confirmed       33250 non-null  int64  \n",
      " 6   Death           33250 non-null  int64  \n",
      " 7   Recovered       29750 non-null  float64\n",
      "dtypes: float64(3), int64(2), object(3)\n",
      "memory usage: 2.0+ MB\n"
     ]
    }
   ],
   "source": [
    "df = pd.read_csv('database.csv')\n",
    "df.info()"
   ]
  },
  {
   "cell_type": "code",
   "execution_count": 3,
   "metadata": {},
   "outputs": [
    {
     "data": {
      "text/html": [
       "<div>\n",
       "<style scoped>\n",
       "    .dataframe tbody tr th:only-of-type {\n",
       "        vertical-align: middle;\n",
       "    }\n",
       "\n",
       "    .dataframe tbody tr th {\n",
       "        vertical-align: top;\n",
       "    }\n",
       "\n",
       "    .dataframe thead th {\n",
       "        text-align: right;\n",
       "    }\n",
       "</style>\n",
       "<table border=\"1\" class=\"dataframe\">\n",
       "  <thead>\n",
       "    <tr style=\"text-align: right;\">\n",
       "      <th></th>\n",
       "      <th>Province/State</th>\n",
       "      <th>Country/Region</th>\n",
       "      <th>Lat</th>\n",
       "      <th>Long</th>\n",
       "      <th>Date</th>\n",
       "      <th>Confirmed</th>\n",
       "      <th>Death</th>\n",
       "      <th>Recovered</th>\n",
       "    </tr>\n",
       "  </thead>\n",
       "  <tbody>\n",
       "    <tr>\n",
       "      <th>3875</th>\n",
       "      <td>Burkina Faso</td>\n",
       "      <td>NaN</td>\n",
       "      <td>12.2383</td>\n",
       "      <td>-1.5616</td>\n",
       "      <td>2020-01-22</td>\n",
       "      <td>0</td>\n",
       "      <td>0</td>\n",
       "      <td>0.0</td>\n",
       "    </tr>\n",
       "    <tr>\n",
       "      <th>3876</th>\n",
       "      <td>Burkina Faso</td>\n",
       "      <td>NaN</td>\n",
       "      <td>12.2383</td>\n",
       "      <td>-1.5616</td>\n",
       "      <td>2020-01-23</td>\n",
       "      <td>0</td>\n",
       "      <td>0</td>\n",
       "      <td>0.0</td>\n",
       "    </tr>\n",
       "    <tr>\n",
       "      <th>3877</th>\n",
       "      <td>Burkina Faso</td>\n",
       "      <td>NaN</td>\n",
       "      <td>12.2383</td>\n",
       "      <td>-1.5616</td>\n",
       "      <td>2020-01-24</td>\n",
       "      <td>0</td>\n",
       "      <td>0</td>\n",
       "      <td>0.0</td>\n",
       "    </tr>\n",
       "    <tr>\n",
       "      <th>3878</th>\n",
       "      <td>Burkina Faso</td>\n",
       "      <td>NaN</td>\n",
       "      <td>12.2383</td>\n",
       "      <td>-1.5616</td>\n",
       "      <td>2020-01-25</td>\n",
       "      <td>0</td>\n",
       "      <td>0</td>\n",
       "      <td>0.0</td>\n",
       "    </tr>\n",
       "    <tr>\n",
       "      <th>3879</th>\n",
       "      <td>Burkina Faso</td>\n",
       "      <td>NaN</td>\n",
       "      <td>12.2383</td>\n",
       "      <td>-1.5616</td>\n",
       "      <td>2020-01-26</td>\n",
       "      <td>0</td>\n",
       "      <td>0</td>\n",
       "      <td>0.0</td>\n",
       "    </tr>\n",
       "    <tr>\n",
       "      <th>...</th>\n",
       "      <td>...</td>\n",
       "      <td>...</td>\n",
       "      <td>...</td>\n",
       "      <td>...</td>\n",
       "      <td>...</td>\n",
       "      <td>...</td>\n",
       "      <td>...</td>\n",
       "      <td>...</td>\n",
       "    </tr>\n",
       "    <tr>\n",
       "      <th>32620</th>\n",
       "      <td>Western Sahara</td>\n",
       "      <td>NaN</td>\n",
       "      <td>24.2155</td>\n",
       "      <td>-12.8858</td>\n",
       "      <td>2020-05-21</td>\n",
       "      <td>6</td>\n",
       "      <td>0</td>\n",
       "      <td>6.0</td>\n",
       "    </tr>\n",
       "    <tr>\n",
       "      <th>32621</th>\n",
       "      <td>Western Sahara</td>\n",
       "      <td>NaN</td>\n",
       "      <td>24.2155</td>\n",
       "      <td>-12.8858</td>\n",
       "      <td>2020-05-22</td>\n",
       "      <td>6</td>\n",
       "      <td>0</td>\n",
       "      <td>6.0</td>\n",
       "    </tr>\n",
       "    <tr>\n",
       "      <th>32622</th>\n",
       "      <td>Western Sahara</td>\n",
       "      <td>NaN</td>\n",
       "      <td>24.2155</td>\n",
       "      <td>-12.8858</td>\n",
       "      <td>2020-05-23</td>\n",
       "      <td>6</td>\n",
       "      <td>0</td>\n",
       "      <td>6.0</td>\n",
       "    </tr>\n",
       "    <tr>\n",
       "      <th>32623</th>\n",
       "      <td>Western Sahara</td>\n",
       "      <td>NaN</td>\n",
       "      <td>24.2155</td>\n",
       "      <td>-12.8858</td>\n",
       "      <td>2020-05-24</td>\n",
       "      <td>9</td>\n",
       "      <td>0</td>\n",
       "      <td>6.0</td>\n",
       "    </tr>\n",
       "    <tr>\n",
       "      <th>32624</th>\n",
       "      <td>Western Sahara</td>\n",
       "      <td>NaN</td>\n",
       "      <td>24.2155</td>\n",
       "      <td>-12.8858</td>\n",
       "      <td>2020-05-25</td>\n",
       "      <td>9</td>\n",
       "      <td>0</td>\n",
       "      <td>6.0</td>\n",
       "    </tr>\n",
       "  </tbody>\n",
       "</table>\n",
       "<p>2125 rows × 8 columns</p>\n",
       "</div>"
      ],
      "text/plain": [
       "       Province/State Country/Region      Lat     Long        Date  Confirmed  \\\n",
       "3875     Burkina Faso            NaN  12.2383  -1.5616  2020-01-22          0   \n",
       "3876     Burkina Faso            NaN  12.2383  -1.5616  2020-01-23          0   \n",
       "3877     Burkina Faso            NaN  12.2383  -1.5616  2020-01-24          0   \n",
       "3878     Burkina Faso            NaN  12.2383  -1.5616  2020-01-25          0   \n",
       "3879     Burkina Faso            NaN  12.2383  -1.5616  2020-01-26          0   \n",
       "...               ...            ...      ...      ...         ...        ...   \n",
       "32620  Western Sahara            NaN  24.2155 -12.8858  2020-05-21          6   \n",
       "32621  Western Sahara            NaN  24.2155 -12.8858  2020-05-22          6   \n",
       "32622  Western Sahara            NaN  24.2155 -12.8858  2020-05-23          6   \n",
       "32623  Western Sahara            NaN  24.2155 -12.8858  2020-05-24          9   \n",
       "32624  Western Sahara            NaN  24.2155 -12.8858  2020-05-25          9   \n",
       "\n",
       "       Death  Recovered  \n",
       "3875       0        0.0  \n",
       "3876       0        0.0  \n",
       "3877       0        0.0  \n",
       "3878       0        0.0  \n",
       "3879       0        0.0  \n",
       "...      ...        ...  \n",
       "32620      0        6.0  \n",
       "32621      0        6.0  \n",
       "32622      0        6.0  \n",
       "32623      0        6.0  \n",
       "32624      0        6.0  \n",
       "\n",
       "[2125 rows x 8 columns]"
      ]
     },
     "metadata": {},
     "output_type": "display_data"
    },
    {
     "data": {
      "text/html": [
       "<div>\n",
       "<style scoped>\n",
       "    .dataframe tbody tr th:only-of-type {\n",
       "        vertical-align: middle;\n",
       "    }\n",
       "\n",
       "    .dataframe tbody tr th {\n",
       "        vertical-align: top;\n",
       "    }\n",
       "\n",
       "    .dataframe thead th {\n",
       "        text-align: right;\n",
       "    }\n",
       "</style>\n",
       "<table border=\"1\" class=\"dataframe\">\n",
       "  <thead>\n",
       "    <tr style=\"text-align: right;\">\n",
       "      <th></th>\n",
       "      <th>Province/State</th>\n",
       "      <th>Country/Region</th>\n",
       "      <th>Lat</th>\n",
       "      <th>Long</th>\n",
       "      <th>Date</th>\n",
       "      <th>Confirmed</th>\n",
       "      <th>Death</th>\n",
       "      <th>Recovered</th>\n",
       "    </tr>\n",
       "  </thead>\n",
       "  <tbody>\n",
       "    <tr>\n",
       "      <th>4250</th>\n",
       "      <td>Cameroon</td>\n",
       "      <td>Cameroun</td>\n",
       "      <td>3.848000</td>\n",
       "      <td>11.502100</td>\n",
       "      <td>2020-01-22</td>\n",
       "      <td>0</td>\n",
       "      <td>0</td>\n",
       "      <td>NaN</td>\n",
       "    </tr>\n",
       "    <tr>\n",
       "      <th>4251</th>\n",
       "      <td>Cameroon</td>\n",
       "      <td>Cameroun</td>\n",
       "      <td>3.848000</td>\n",
       "      <td>11.502100</td>\n",
       "      <td>2020-01-23</td>\n",
       "      <td>0</td>\n",
       "      <td>0</td>\n",
       "      <td>NaN</td>\n",
       "    </tr>\n",
       "    <tr>\n",
       "      <th>4252</th>\n",
       "      <td>Cameroon</td>\n",
       "      <td>Cameroun</td>\n",
       "      <td>3.848000</td>\n",
       "      <td>11.502100</td>\n",
       "      <td>2020-01-24</td>\n",
       "      <td>0</td>\n",
       "      <td>0</td>\n",
       "      <td>NaN</td>\n",
       "    </tr>\n",
       "    <tr>\n",
       "      <th>4253</th>\n",
       "      <td>Cameroon</td>\n",
       "      <td>Cameroun</td>\n",
       "      <td>3.848000</td>\n",
       "      <td>11.502100</td>\n",
       "      <td>2020-01-25</td>\n",
       "      <td>0</td>\n",
       "      <td>0</td>\n",
       "      <td>NaN</td>\n",
       "    </tr>\n",
       "    <tr>\n",
       "      <th>4254</th>\n",
       "      <td>Cameroon</td>\n",
       "      <td>Cameroun</td>\n",
       "      <td>3.848000</td>\n",
       "      <td>11.502100</td>\n",
       "      <td>2020-01-26</td>\n",
       "      <td>0</td>\n",
       "      <td>0</td>\n",
       "      <td>NaN</td>\n",
       "    </tr>\n",
       "    <tr>\n",
       "      <th>...</th>\n",
       "      <td>...</td>\n",
       "      <td>...</td>\n",
       "      <td>...</td>\n",
       "      <td>...</td>\n",
       "      <td>...</td>\n",
       "      <td>...</td>\n",
       "      <td>...</td>\n",
       "      <td>...</td>\n",
       "    </tr>\n",
       "    <tr>\n",
       "      <th>33120</th>\n",
       "      <td>Tajikistan</td>\n",
       "      <td>Tajikistan</td>\n",
       "      <td>38.861034</td>\n",
       "      <td>71.276093</td>\n",
       "      <td>2020-05-21</td>\n",
       "      <td>2350</td>\n",
       "      <td>44</td>\n",
       "      <td>NaN</td>\n",
       "    </tr>\n",
       "    <tr>\n",
       "      <th>33121</th>\n",
       "      <td>Tajikistan</td>\n",
       "      <td>Tajikistan</td>\n",
       "      <td>38.861034</td>\n",
       "      <td>71.276093</td>\n",
       "      <td>2020-05-22</td>\n",
       "      <td>2551</td>\n",
       "      <td>44</td>\n",
       "      <td>NaN</td>\n",
       "    </tr>\n",
       "    <tr>\n",
       "      <th>33122</th>\n",
       "      <td>Tajikistan</td>\n",
       "      <td>Tajikistan</td>\n",
       "      <td>38.861034</td>\n",
       "      <td>71.276093</td>\n",
       "      <td>2020-05-23</td>\n",
       "      <td>2738</td>\n",
       "      <td>44</td>\n",
       "      <td>NaN</td>\n",
       "    </tr>\n",
       "    <tr>\n",
       "      <th>33123</th>\n",
       "      <td>Tajikistan</td>\n",
       "      <td>Tajikistan</td>\n",
       "      <td>38.861034</td>\n",
       "      <td>71.276093</td>\n",
       "      <td>2020-05-24</td>\n",
       "      <td>2929</td>\n",
       "      <td>46</td>\n",
       "      <td>NaN</td>\n",
       "    </tr>\n",
       "    <tr>\n",
       "      <th>33124</th>\n",
       "      <td>Tajikistan</td>\n",
       "      <td>Tajikistan</td>\n",
       "      <td>38.861034</td>\n",
       "      <td>71.276093</td>\n",
       "      <td>2020-05-25</td>\n",
       "      <td>3100</td>\n",
       "      <td>46</td>\n",
       "      <td>NaN</td>\n",
       "    </tr>\n",
       "  </tbody>\n",
       "</table>\n",
       "<p>3500 rows × 8 columns</p>\n",
       "</div>"
      ],
      "text/plain": [
       "      Province/State Country/Region        Lat       Long        Date  \\\n",
       "4250        Cameroon       Cameroun   3.848000  11.502100  2020-01-22   \n",
       "4251        Cameroon       Cameroun   3.848000  11.502100  2020-01-23   \n",
       "4252        Cameroon       Cameroun   3.848000  11.502100  2020-01-24   \n",
       "4253        Cameroon       Cameroun   3.848000  11.502100  2020-01-25   \n",
       "4254        Cameroon       Cameroun   3.848000  11.502100  2020-01-26   \n",
       "...              ...            ...        ...        ...         ...   \n",
       "33120     Tajikistan     Tajikistan  38.861034  71.276093  2020-05-21   \n",
       "33121     Tajikistan     Tajikistan  38.861034  71.276093  2020-05-22   \n",
       "33122     Tajikistan     Tajikistan  38.861034  71.276093  2020-05-23   \n",
       "33123     Tajikistan     Tajikistan  38.861034  71.276093  2020-05-24   \n",
       "33124     Tajikistan     Tajikistan  38.861034  71.276093  2020-05-25   \n",
       "\n",
       "       Confirmed  Death  Recovered  \n",
       "4250           0      0        NaN  \n",
       "4251           0      0        NaN  \n",
       "4252           0      0        NaN  \n",
       "4253           0      0        NaN  \n",
       "4254           0      0        NaN  \n",
       "...          ...    ...        ...  \n",
       "33120       2350     44        NaN  \n",
       "33121       2551     44        NaN  \n",
       "33122       2738     44        NaN  \n",
       "33123       2929     46        NaN  \n",
       "33124       3100     46        NaN  \n",
       "\n",
       "[3500 rows x 8 columns]"
      ]
     },
     "metadata": {},
     "output_type": "display_data"
    }
   ],
   "source": [
    "display(df[df['Country/Region'].isnull()],\n",
    "df[df['Recovered'].isnull()])"
   ]
  },
  {
   "cell_type": "markdown",
   "metadata": {},
   "source": [
    "Let's delete the `Country/Region` (we will only use the `Province/State` column) and the `Recovered` feature.\n",
    "\n",
    "🤔 We will maybe go back in our choice and fill the `Recovered` feature. but for the moment let's go like that"
   ]
  },
  {
   "cell_type": "code",
   "execution_count": 4,
   "metadata": {},
   "outputs": [],
   "source": [
    "df.drop(columns=['Country/Region','Recovered'], inplace=True)"
   ]
  },
  {
   "cell_type": "markdown",
   "metadata": {},
   "source": [
    "We also need to convert Date into datetime format"
   ]
  },
  {
   "cell_type": "code",
   "execution_count": 5,
   "metadata": {},
   "outputs": [
    {
     "name": "stdout",
     "output_type": "stream",
     "text": [
      "<class 'pandas.core.frame.DataFrame'>\n",
      "RangeIndex: 33250 entries, 0 to 33249\n",
      "Data columns (total 6 columns):\n",
      " #   Column          Non-Null Count  Dtype  \n",
      "---  ------          --------------  -----  \n",
      " 0   Province/State  33250 non-null  object \n",
      " 1   Lat             33250 non-null  float64\n",
      " 2   Long            33250 non-null  float64\n",
      " 3   Date            33250 non-null  object \n",
      " 4   Confirmed       33250 non-null  int64  \n",
      " 5   Death           33250 non-null  int64  \n",
      "dtypes: float64(2), int64(2), object(2)\n",
      "memory usage: 1.5+ MB\n"
     ]
    }
   ],
   "source": [
    "# df['Date'] = pd.to_datetime(df['Date'])\n",
    "df.info()"
   ]
  },
  {
   "cell_type": "markdown",
   "metadata": {},
   "source": [
    "Sounds good now we need to create the different part of the dashboard:\n",
    "- sliders\n",
    "- global map\n",
    "- histogram for Confirmed cases and Death\n",
    "- the 10 counbtry with the biggest death and confirmed cases"
   ]
  },
  {
   "cell_type": "markdown",
   "metadata": {},
   "source": [
    "##  Gloabal map\n",
    "---\n",
    "In that purpose we will use mapbox API (scatter mapbox), for that we need to retreive the mapbox token from `mapbox_token.txt`.\n",
    "\n",
    "⚠️ I also notice something weird, the plotly mapbox API use string Data for the animation instead of datetime"
   ]
  },
  {
   "cell_type": "code",
   "execution_count": 6,
   "metadata": {},
   "outputs": [],
   "source": [
    "# read the mapbox file\n",
    "with open('mapbox_token.txt') as f:\n",
    "    lines=[x.rstrip() for x in f]\n",
    "mapbox_access_token = lines[0]"
   ]
  },
  {
   "cell_type": "code",
   "execution_count": 7,
   "metadata": {},
   "outputs": [],
   "source": [
    "last_date = df['Date'].iloc[-1]\n",
    "df1 = df[df['Date'] == last_date]"
   ]
  },
  {
   "cell_type": "markdown",
   "metadata": {},
   "source": [
    "We add a `color` feature which is just the log value of confirmed cases! The goal here is to decrease the huge difference of color between the US and the other country"
   ]
  },
  {
   "cell_type": "code",
   "execution_count": 10,
   "metadata": {},
   "outputs": [
    {
     "name": "stderr",
     "output_type": "stream",
     "text": [
      "<ipython-input-10-c66e24401ff1>:1: SettingWithCopyWarning:\n",
      "\n",
      "\n",
      "A value is trying to be set on a copy of a slice from a DataFrame.\n",
      "Try using .loc[row_indexer,col_indexer] = value instead\n",
      "\n",
      "See the caveats in the documentation: https://pandas.pydata.org/pandas-docs/stable/user_guide/indexing.html#returning-a-view-versus-a-copy\n",
      "\n"
     ]
    },
    {
     "data": {
      "application/vnd.plotly.v1+json": {
       "config": {
        "plotlyServerURL": "https://plot.ly"
       },
       "data": [
        {
         "hovertemplate": "<b>%{hovertext}</b><br><br>Confirmed=%{marker.size}<br>Lat=%{lat}<br>Long=%{lon}<br>color=%{marker.color}<extra></extra>",
         "hovertext": [
          "Afghanistan",
          "Albania",
          "Algeria",
          "Andorra",
          "Angola",
          "Antigua and Barbuda",
          "Argentina",
          "Armenia",
          "Australian Capital Territory",
          "New South Wales",
          "Northern Territory",
          "Queensland",
          "South Australia",
          "Tasmania",
          "Victoria",
          "Western Australia",
          "Austria",
          "Azerbaijan",
          "Bahamas",
          "Bahrain",
          "Bangladesh",
          "Barbados",
          "Belarus",
          "Belgium",
          "Benin",
          "Bhutan",
          "Bolivia",
          "Bosnia and Herzegovina",
          "Brazil",
          "Brunei",
          "Bulgaria",
          "Burkina Faso",
          "Cabo Verde",
          "Cambodia",
          "Cameroon",
          "Alberta",
          "British Columbia",
          "Grand Princess",
          "Manitoba",
          "New Brunswick",
          "Newfoundland and Labrador",
          "Nova Scotia",
          "Ontario",
          "Prince Edward Island",
          "Quebec",
          "Saskatchewan",
          "Central African Republic",
          "Chad",
          "Chile",
          "Anhui",
          "Beijing",
          "Chongqing",
          "Fujian",
          "Gansu",
          "Guangdong",
          "Guangxi",
          "Guizhou",
          "Hainan",
          "Hebei",
          "Heilongjiang",
          "Henan",
          "Hong Kong",
          "Hubei",
          "Hunan",
          "Inner Mongolia",
          "Jiangsu",
          "Jiangxi",
          "Jilin",
          "Liaoning",
          "Macau",
          "Ningxia",
          "Qinghai",
          "Shaanxi",
          "Shandong",
          "Shanghai",
          "Shanxi",
          "Sichuan",
          "Tianjin",
          "Tibet",
          "Xinjiang",
          "Yunnan",
          "Zhejiang",
          "Colombia",
          "Congo (Brazzaville)",
          "Congo (Kinshasa)",
          "Costa Rica",
          "Cote d'Ivoire",
          "Croatia",
          "Diamond Princess",
          "Cuba",
          "Cyprus",
          "Czechia",
          "Faroe Islands",
          "Greenland",
          "Denmark",
          "Djibouti",
          "Dominican Republic",
          "Ecuador",
          "Egypt",
          "El Salvador",
          "Equatorial Guinea",
          "Eritrea",
          "Estonia",
          "Eswatini",
          "Ethiopia",
          "Fiji",
          "Finland",
          "French Guiana",
          "French Polynesia",
          "Guadeloupe",
          "Mayotte",
          "New Caledonia",
          "Reunion",
          "Saint Barthelemy",
          "St Martin",
          "Martinique",
          "France",
          "Gabon",
          "Gambia",
          "Georgia",
          "Germany",
          "Ghana",
          "Greece",
          "Guatemala",
          "Guinea",
          "Guyana",
          "Haiti",
          "Holy See",
          "Honduras",
          "Hungary",
          "Iceland",
          "India",
          "Indonesia",
          "Iran",
          "Iraq",
          "Ireland",
          "Israel",
          "Italy",
          "Jamaica",
          "Japan",
          "Jordan",
          "Kazakhstan",
          "Kenya",
          "Korea, South",
          "Kuwait",
          "Kyrgyzstan",
          "Latvia",
          "Lebanon",
          "Liberia",
          "Liechtenstein",
          "Lithuania",
          "Luxembourg",
          "Madagascar",
          "Malaysia",
          "Maldives",
          "Malta",
          "Mauritania",
          "Mauritius",
          "Mexico",
          "Moldova",
          "Monaco",
          "Mongolia",
          "Montenegro",
          "Morocco",
          "Namibia",
          "Nepal",
          "Aruba",
          "Curacao",
          "Sint Maarten",
          "Netherlands",
          "New Zealand",
          "Nicaragua",
          "Niger",
          "Nigeria",
          "North Macedonia",
          "Norway",
          "Oman",
          "Pakistan",
          "Panama",
          "Papua New Guinea",
          "Paraguay",
          "Peru",
          "Philippines",
          "Poland",
          "Portugal",
          "Qatar",
          "Romania",
          "Russia",
          "Rwanda",
          "Saint Lucia",
          "Saint Vincent and the Grenadines",
          "San Marino",
          "Saudi Arabia",
          "Senegal",
          "Serbia",
          "Seychelles",
          "Singapore",
          "Slovakia",
          "Slovenia",
          "Somalia",
          "South Africa",
          "Spain",
          "Sri Lanka",
          "Sudan",
          "Suriname",
          "Sweden",
          "Switzerland",
          "Taiwan*",
          "Tanzania",
          "Thailand",
          "Togo",
          "Trinidad and Tobago",
          "Tunisia",
          "Turkey",
          "Uganda",
          "Ukraine",
          "United Arab Emirates",
          "Bermuda",
          "Cayman Islands",
          "Channel Islands",
          "Gibraltar",
          "Isle of Man",
          "Montserrat",
          "United Kingdom",
          "Uruguay",
          "US",
          "Uzbekistan",
          "Venezuela",
          "Vietnam",
          "Zambia",
          "Zimbabwe",
          "Diamond Princess",
          "Dominica",
          "Grenada",
          "Mozambique",
          "Syria",
          "Timor-Leste",
          "Belize",
          "Laos",
          "Libya",
          "West Bank and Gaza",
          "Guinea-Bissau",
          "Mali",
          "Saint Kitts and Nevis",
          "Northwest Territories",
          "Yukon",
          "Kosovo",
          "Burma",
          "Anguilla",
          "British Virgin Islands",
          "Turks and Caicos Islands",
          "MS Zaandam",
          "Botswana",
          "Burundi",
          "Sierra Leone",
          "Bonaire, Sint Eustatius and Saba",
          "Malawi",
          "Falkland Islands (Malvinas)",
          "Saint Pierre and Miquelon",
          "South Sudan",
          "Western Sahara",
          "Sao Tome and Principe",
          "Yemen",
          "Comoros",
          "Tajikistan",
          "Lesotho"
         ],
         "lat": [
          33,
          41.1533,
          28.0339,
          42.5063,
          -11.2027,
          17.0608,
          -38.4161,
          40.0691,
          -35.4735,
          -33.8688,
          -12.4634,
          -28.0167,
          -34.9285,
          -41.4545,
          -37.8136,
          -31.9505,
          47.5162,
          40.1431,
          25.0343,
          26.0275,
          23.685,
          13.1939,
          53.7098,
          50.8333,
          9.3077,
          27.5142,
          -16.2902,
          43.9159,
          -14.235,
          4.5353,
          42.7339,
          12.2383,
          16.5388,
          11.55,
          3.848,
          53.9333,
          49.2827,
          37.6489,
          53.7609,
          46.5653,
          53.1355,
          44.682,
          51.2538,
          46.5107,
          52.9399,
          52.9399,
          6.6111,
          15.4542,
          -35.6751,
          31.8257,
          40.1824,
          30.0572,
          26.0789,
          37.8099,
          23.3417,
          23.8298,
          26.8154,
          19.1959,
          39.549,
          47.862,
          33.882,
          22.3,
          30.9756,
          27.6104,
          44.0935,
          32.9711,
          27.614,
          43.6661,
          41.2956,
          22.1667,
          37.2692,
          35.7452,
          35.1917,
          36.3427,
          31.202,
          37.5777,
          30.6171,
          39.3054,
          31.6927,
          41.1129,
          24.974,
          29.1832,
          4.5709,
          -4.0383,
          -4.0383,
          9.7489,
          7.54,
          45.1,
          0,
          22,
          35.1264,
          49.8175,
          61.8926,
          71.7069,
          56.2639,
          11.8251,
          18.7357,
          -1.8312,
          26,
          13.7942,
          1.5,
          15.1794,
          58.5953,
          -26.5225,
          9.145,
          -17.7134,
          64,
          3.9339,
          -17.6797,
          16.25,
          -12.8275,
          -20.9043,
          -21.1351,
          17.9,
          18.0708,
          14.6415,
          46.2276,
          -0.8037,
          13.4432,
          42.3154,
          51,
          7.9465,
          39.0742,
          15.7835,
          9.9456,
          5,
          18.9712,
          41.9029,
          15.2,
          47.1625,
          64.9631,
          21,
          -0.7893,
          32,
          33,
          53.1424,
          31,
          43,
          18.1096,
          36,
          31.24,
          48.0196,
          -0.0236,
          36,
          29.5,
          41.2044,
          56.8796,
          33.8547,
          6.4281,
          47.14,
          55.1694,
          49.8153,
          -18.7669,
          2.5,
          3.2028,
          35.9375,
          21.0079,
          -20.2,
          23.6345,
          47.4116,
          43.7333,
          46.8625,
          42.5,
          31.7917,
          -22.9576,
          28.1667,
          12.5186,
          12.1696,
          18.0425,
          52.1326,
          -40.9006,
          12.8654,
          17.6078,
          9.082,
          41.6086,
          60.472,
          21,
          30.3753,
          8.538,
          -6.315,
          -23.4425,
          -9.19,
          13,
          51.9194,
          39.3999,
          25.3548,
          45.9432,
          60,
          -1.9403,
          13.9094,
          12.9843,
          43.9424,
          24,
          14.4974,
          44.0165,
          -4.6796,
          1.2833,
          48.669,
          46.1512,
          5.1521,
          -30.5595,
          40,
          7,
          12.8628,
          3.9193,
          63,
          46.8182,
          23.7,
          -6.369,
          15,
          8.6195,
          10.6918,
          34,
          38.9637,
          1,
          48.3794,
          24,
          32.3078,
          19.3133,
          49.3723,
          36.1408,
          54.2361,
          16.7425,
          55.3781,
          -32.5228,
          37.0902,
          41.3775,
          6.4238,
          16,
          -15.4167,
          -20,
          0,
          15.415,
          12.1165,
          -18.665695,
          34.802075,
          -8.874217,
          13.1939,
          19.85627,
          26.3351,
          31.9522,
          11.8037,
          17.570692,
          17.357822,
          64.8255,
          64.2823,
          42.602636,
          21.9162,
          18.2206,
          18.4207,
          21.69400000000001,
          0,
          -22.3285,
          -3.3731,
          8.460555000000001,
          12.1784,
          -13.254307999999998,
          -51.7963,
          46.8852,
          6.877000000000002,
          24.2155,
          0.18636,
          15.552727,
          -11.6455,
          38.861034,
          -29.609988
         ],
         "legendgroup": "",
         "lon": [
          65,
          20.1683,
          1.6596,
          1.5218,
          17.8739,
          -61.7964,
          -63.6167,
          45.0382,
          149.0124,
          151.2093,
          130.8456,
          153.4,
          138.6007,
          145.9707,
          144.9631,
          115.8605,
          14.5501,
          47.5769,
          -77.3963,
          50.55,
          90.3563,
          -59.5432,
          27.9534,
          4,
          2.3158,
          90.4336,
          -63.5887,
          17.6791,
          -51.9253,
          114.7277,
          25.4858,
          -1.5616,
          -23.0418,
          104.9167,
          11.5021,
          -116.5765,
          -123.1207,
          -122.6655,
          -98.8139,
          -66.4619,
          -57.6604,
          -63.7443,
          -85.3232,
          -63.4168,
          -73.5491,
          -106.4509,
          20.9394,
          18.7322,
          -71.543,
          117.2264,
          116.4142,
          107.874,
          117.9874,
          101.0583,
          113.4244,
          108.7881,
          106.8748,
          109.7453,
          116.1306,
          127.7615,
          113.614,
          114.2,
          112.2707,
          111.7088,
          113.9448,
          119.455,
          115.7221,
          126.1923,
          122.6085,
          113.55,
          106.1655,
          95.9956,
          108.8701,
          118.1498,
          121.4491,
          112.2922,
          102.7103,
          117.323,
          88.0924,
          85.2401,
          101.487,
          120.0934,
          -74.2973,
          21.7587,
          21.7587,
          -83.7534,
          -5.5471,
          15.2,
          0,
          -80,
          33.4299,
          15.473,
          -6.9118,
          -42.6043,
          9.5018,
          42.5903,
          -70.1627,
          -78.1834,
          30,
          -88.8965,
          10,
          39.7823,
          25.0136,
          31.4659,
          40.4897,
          178.065,
          26,
          -53.1258,
          149.4068,
          -61.5833,
          45.1662,
          165.618,
          55.2471,
          -62.8333,
          -63.0501,
          -61.0242,
          2.2137,
          11.6094,
          -15.3101,
          43.3569,
          9,
          -1.0232,
          21.8243,
          -90.2308,
          -9.6966,
          -58.75,
          -72.2852,
          12.4534,
          -86.2419,
          19.5033,
          -19.0208,
          78,
          113.9213,
          53,
          44,
          -7.6921,
          35,
          12,
          -77.2975,
          138,
          36.51,
          66.9237,
          37.9062,
          128,
          47.75,
          74.7661,
          24.6032,
          35.8623,
          -9.4295,
          9.55,
          23.8813,
          6.1296,
          46.8691,
          112.5,
          73.2207,
          14.3754,
          10.9408,
          57.5,
          -102.5528,
          28.3699,
          7.4167,
          103.8467,
          19.3,
          -7.0926,
          18.4904,
          84.25,
          -70.0358,
          -68.99,
          -63.0548,
          5.2913,
          174.886,
          -85.2072,
          8.0817,
          8.6753,
          21.7453,
          8.4689,
          57,
          69.3451,
          -80.7821,
          143.9555,
          -58.4438,
          -75.0152,
          122,
          19.1451,
          -8.2245,
          51.1839,
          24.9668,
          90,
          29.8739,
          -60.9789,
          -61.2872,
          12.4578,
          45,
          -14.4524,
          21.0059,
          55.492,
          103.8333,
          19.699,
          14.9955,
          46.1996,
          22.9375,
          -4,
          81,
          30.2176,
          -56.0278,
          16,
          8.2275,
          121,
          34.8888,
          101,
          0.8248,
          -61.2225,
          9,
          35.2433,
          32,
          31.1656,
          54,
          -64.7505,
          -81.2546,
          -2.3644,
          -5.3536,
          -4.5481,
          -62.1874,
          -3.4360000000000004,
          -55.7658,
          -95.7129,
          64.5853,
          -66.5897,
          108,
          28.2833,
          30,
          0,
          -61.371,
          -61.679,
          35.529562,
          38.99681500000001,
          125.727539,
          -59.5432,
          102.495496,
          17.228331,
          35.2332,
          -15.1804,
          -3.996166000000001,
          -62.782998,
          -124.8457,
          -135,
          20.902977,
          95.956,
          -63.0686,
          -64.64,
          -71.7979,
          0,
          24.6849,
          29.9189,
          -11.779889,
          -68.2385,
          34.301525,
          -59.5236,
          -56.3159,
          31.307,
          -12.8858,
          6.613081,
          48.516388,
          43.3333,
          71.276093,
          28.233608
         ],
         "marker": {
          "color": [
           13.447728987524478,
           9.971543555387719,
           13.053756222731813,
           9.575539248725349,
           6.129283037554895,
           4.643856247482526,
           13.62433854542723,
           12.79624244840599,
           6.741466999884278,
           11.594324604391437,
           4.857981044875676,
           10.04575966274758,
           8.778077132821679,
           7.832890020492352,
           10.652844973898063,
           9.139551354956764,
           14.013584386899497,
           12.06035818297993,
           6.643856204201675,
           13.162863337765437,
           15.11898161555771,
           6.523561971738481,
           15.180841565605503,
           15.807304603995428,
           7.577428835589126,
           4.754887555596618,
           12.701306462175246,
           11.232420927775701,
           18.516138603620202,
           7.139551362630673,
           11.248520605531398,
           9.700439719875101,
           8.60733031744883,
           6.954196322021512,
           12.255618750134627,
           12.747983140511675,
           11.304921670151908,
           3.7004398291176295,
           8.189824563820753,
           6.918863249197694,
           8.022367818577282,
           10.037546955334866,
           14.736719018820496,
           4.754887555596618,
           15.550536377043857,
           9.30833903241495,
           9.3487281564438,
           9.424166290918093,
           16.17517916148815,
           9.952741248642285,
           9.211888296978879,
           9.177419540480939,
           8.479780268070263,
           7.118941083102609,
           10.636624621449865,
           7.988684692452067,
           7.199672354650616,
           7.400879444818841,
           8.357552009016544,
           9.884170520635097,
           10.317412614895508,
           10.056637716467844,
           16.05610846055531,
           9.99293833758161,
           7.857981001346086,
           9.350939183755765,
           9.871905239198883,
           7.276124414581948,
           7.219168530144678,
           5.491853128389564,
           6.228818709731814,
           4.169925081592035,
           8.266786545378976,
           9.622051821287208,
           9.385862402797956,
           7.629356627365948,
           9.139551354956764,
           7.584962508235193,
           1.4426943194232382e-06,
           6.247927532426415,
           7.531381468314664,
           10.30833903127718,
           14.423969401126227,
           8.927777965044754,
           11.165535142006002,
           9.893301532377594,
           11.242578690046763,
           11.131856961251705,
           9.475733432992655,
           10.92703716946128,
           9.871905239198883,
           13.136029849545816,
           7.546894467602583,
           3.584962620945738,
           13.475100086756619,
           11.269126679733978,
           13.87967896674558,
           15.189013741542821,
           14.13306191777984,
           10.953468962956379,
           10.026523443902983,
           5.285402255854429,
           10.832890014955693,
           8.000000005635528,
           9.3553510986274,
           4.169925081592035,
           12.688031702632557,
           8.463524377358135,
           5.906890619653436,
           7.330916887075456,
           10.651948611620087,
           4.169925081592035,
           8.832890017328547,
           2.5849627411703096,
           5.3219281309547375,
           7.6220518267797015,
           17.458967253301683,
           11.060020355183587,
           4.643856247482526,
           9.513727597926028,
           17.462438367263573,
           12.733015321897874,
           11.492854620675336,
           11.876516946948696,
           11.677279191752692,
           7.098032093491147,
           9.903881847242126,
           3.584962620945738,
           12.032390169210924,
           11.87498134803788,
           10.816983624055101,
           17.145195807846076,
           14.4735789249242,
           17.071420462125904,
           12.177419538300699,
           14.592106599275892,
           14.030494719835682,
           17.812265064125192,
           9.118941075318283,
           14.017243398022327,
           9.473705751648522,
           13.130731425434071,
           10.328674928449795,
           13.454427824644396,
           14.423050236146945,
           10.48482289526891,
           10.034798963952573,
           10.127994322265666,
           8.049848554894695,
           6.357552022211926,
           10.675074921267827,
           11.963257356994355,
           9.08214904401567,
           12.856620053871357,
           10.44604940775074,
           9.255028572179933,
           8.03342300704392,
           8.383704296793498,
           16.11766339119471,
           12.803122073137265,
           6.614709858836586,
           7.139551362630673,
           8.339850007337388,
           12.87881728480577,
           4.392317491478523,
           9.413627931139562,
           6.658211497035904,
           4.169925081592035,
           6.266786559431201,
           15.471833952944156,
           10.554588852636876,
           8.124121317000137,
           9.893301532377594,
           12.97799536879178,
           10.965062757466336,
           13.029977346762069,
           12.923698883480748,
           15.782102387348907,
           13.449019643399392,
           3.0000001803368685,
           9.756556324191942,
           16.919736246983295,
           13.805643121874114,
           14.400812742174129,
           14.910080532013213,
           15.472468732424579,
           14.158215196742738,
           18.431052733000968,
           8.392317427072495,
           4.169925081592035,
           4.169925081592035,
           9.379378369237472,
           16.190654209624068,
           11.611946942280905,
           13.450309145666829,
           3.459431749791386,
           14.96397978786048,
           10.561287946119624,
           10.520618681538373,
           10.721953613655558,
           14.52741591509902,
           17.8447547948193,
           10.207014321398086,
           11.957102041925136,
           3.459431749791386,
           15.046569840877549,
           14.90811111019357,
           8.784634848828938,
           8.991521848910066,
           11.570804438198754,
           8.592457041005632,
           6.857981007564598,
           10.037546955334866,
           17.267865669877523,
           7.794415872848732,
           14.374835723268555,
           14.887363430685715,
           7.055282446348521,
           7.066089201224154,
           9.12670447542404,
           7.266786550063051,
           8.392317427072495,
           3.459431749791386,
           17.994706995263623,
           9.620219827340645,
           20.664751077981098,
           11.638888382704659,
           10.200898606264184,
           8.348728158656522,
           9.845490052512522,
           5.8073549478200155,
           1.4426943194232382e-06,
           4.000000090168437,
           4.523562018782883,
           7.70735913898373,
           6.727920468173529,
           4.584962560833448,
           4.169925081592035,
           4.247927589374902,
           6.228818709731814,
           8.724513856530576,
           10.202123825055159,
           10.048486875354655,
           3.9068906917881847,
           2.3219283834263416,
           3.459431749791386,
           10.01959072974776,
           7.665335924292048,
           1.584962981619423,
           3.0000001803368685,
           3.584962620945738,
           3.1699251617417525,
           5.129283058164824,
           5.392317457128642,
           9.521600441686576,
           2.5849627411703096,
           6.658211497035904,
           3.7004398291176295,
           1.4426943194232382e-06,
           9.654636030317912,
           3.1699251617417525,
           8.224001679023171,
           7.864186150846105,
           6.442943512431429,
           11.598052500626986,
           1.0000007213473403
          ],
          "coloraxis": "coloraxis",
          "size": [
           11173,
           1004,
           8503,
           763,
           70,
           25,
           12628,
           7113,
           107,
           3092,
           29,
           1057,
           439,
           228,
           1610,
           564,
           16539,
           4271,
           100,
           9171,
           35585,
           92,
           37144,
           57342,
           191,
           27,
           6660,
           2406,
           374898,
           141,
           2433,
           832,
           390,
           124,
           4890,
           6879,
           2530,
           13,
           292,
           121,
           260,
           1051,
           27302,
           27,
           47993,
           634,
           652,
           687,
           73997,
           991,
           593,
           579,
           357,
           139,
           1592,
           254,
           147,
           169,
           328,
           945,
           1276,
           1065,
           68135,
           1019,
           232,
           653,
           937,
           155,
           149,
           45,
           75,
           18,
           308,
           788,
           669,
           198,
           564,
           192,
           1,
           76,
           185,
           1268,
           21981,
           487,
           2297,
           951,
           2423,
           2244,
           712,
           1947,
           937,
           9002,
           187,
           12,
           11387,
           2468,
           15073,
           37355,
           17967,
           1983,
           1043,
           39,
           1824,
           256,
           655,
           18,
           6599,
           353,
           60,
           161,
           1609,
           18,
           456,
           6,
           40,
           197,
           180166,
           2135,
           25,
           731,
           180600,
           6808,
           2882,
           3760,
           3275,
           137,
           958,
           12,
           4189,
           3756,
           1804,
           144950,
           22750,
           137724,
           4632,
           24698,
           16734,
           230158,
           556,
           16581,
           711,
           8969,
           1286,
           11225,
           21967,
           1433,
           1049,
           1119,
           265,
           82,
           1635,
           3993,
           542,
           7417,
           1395,
           611,
           262,
           334,
           71105,
           7147,
           98,
           141,
           324,
           7532,
           21,
           682,
           101,
           18,
           77,
           45445,
           1504,
           279,
           951,
           8068,
           1999,
           8364,
           7770,
           56349,
           11183,
           8,
           865,
           123979,
           14319,
           21631,
           30788,
           45465,
           18283,
           353427,
           336,
           18,
           18,
           666,
           74795,
           3130,
           11193,
           11,
           31960,
           1511,
           1469,
           1689,
           23615,
           235400,
           1182,
           3976,
           11,
           33843,
           30746,
           441,
           509,
           3042,
           386,
           116,
           1051,
           157814,
           222,
           21245,
           30307,
           133,
           134,
           559,
           154,
           336,
           11,
           261184,
           787,
           1662302,
           3189,
           1177,
           326,
           920,
           56,
           1,
           16,
           23,
           209,
           106,
           24,
           18,
           19,
           75,
           423,
           1178,
           1059,
           15,
           5,
           11,
           1038,
           203,
           3,
           8,
           12,
           9,
           35,
           42,
           735,
           6,
           101,
           13,
           1,
           806,
           9,
           299,
           233,
           87,
           3100,
           2
          ],
          "sizemode": "area",
          "sizeref": 1038.93875
         },
         "mode": "markers",
         "name": "",
         "showlegend": false,
         "subplot": "mapbox",
         "type": "scattermapbox"
        }
       ],
       "layout": {
        "coloraxis": {
         "colorbar": {
          "title": {
           "text": "color"
          }
         },
         "colorscale": [
          [
           0,
           "Gold"
          ],
          [
           0.5,
           "DarkOrange"
          ],
          [
           1,
           "Crimson"
          ]
         ],
         "showscale": false
        },
        "legend": {
         "itemsizing": "constant",
         "tracegroupgap": 0
        },
        "mapbox": {
         "accesstoken": "pk.eyJ1IjoiYXhlbGl0b3Jvc2FsaXRvIiwiYSI6ImNrYjJmMTZuOTBheHEyc243Mjl5ZXNuMTMifQ.Yp-TD_DLMvwB4UYP_xYehA",
         "center": {
          "lat": 21.148043469924815,
          "lon": 22.538640082706767
         },
         "domain": {
          "x": [
           0,
           1
          ],
          "y": [
           0,
           1
          ]
         },
         "style": "dark",
         "zoom": 0.6
        },
        "margin": {
         "t": 60
        },
        "template": {
         "data": {
          "bar": [
           {
            "error_x": {
             "color": "#2a3f5f"
            },
            "error_y": {
             "color": "#2a3f5f"
            },
            "marker": {
             "line": {
              "color": "#E5ECF6",
              "width": 0.5
             }
            },
            "type": "bar"
           }
          ],
          "barpolar": [
           {
            "marker": {
             "line": {
              "color": "#E5ECF6",
              "width": 0.5
             }
            },
            "type": "barpolar"
           }
          ],
          "carpet": [
           {
            "aaxis": {
             "endlinecolor": "#2a3f5f",
             "gridcolor": "white",
             "linecolor": "white",
             "minorgridcolor": "white",
             "startlinecolor": "#2a3f5f"
            },
            "baxis": {
             "endlinecolor": "#2a3f5f",
             "gridcolor": "white",
             "linecolor": "white",
             "minorgridcolor": "white",
             "startlinecolor": "#2a3f5f"
            },
            "type": "carpet"
           }
          ],
          "choropleth": [
           {
            "colorbar": {
             "outlinewidth": 0,
             "ticks": ""
            },
            "type": "choropleth"
           }
          ],
          "contour": [
           {
            "colorbar": {
             "outlinewidth": 0,
             "ticks": ""
            },
            "colorscale": [
             [
              0,
              "#0d0887"
             ],
             [
              0.1111111111111111,
              "#46039f"
             ],
             [
              0.2222222222222222,
              "#7201a8"
             ],
             [
              0.3333333333333333,
              "#9c179e"
             ],
             [
              0.4444444444444444,
              "#bd3786"
             ],
             [
              0.5555555555555556,
              "#d8576b"
             ],
             [
              0.6666666666666666,
              "#ed7953"
             ],
             [
              0.7777777777777778,
              "#fb9f3a"
             ],
             [
              0.8888888888888888,
              "#fdca26"
             ],
             [
              1,
              "#f0f921"
             ]
            ],
            "type": "contour"
           }
          ],
          "contourcarpet": [
           {
            "colorbar": {
             "outlinewidth": 0,
             "ticks": ""
            },
            "type": "contourcarpet"
           }
          ],
          "heatmap": [
           {
            "colorbar": {
             "outlinewidth": 0,
             "ticks": ""
            },
            "colorscale": [
             [
              0,
              "#0d0887"
             ],
             [
              0.1111111111111111,
              "#46039f"
             ],
             [
              0.2222222222222222,
              "#7201a8"
             ],
             [
              0.3333333333333333,
              "#9c179e"
             ],
             [
              0.4444444444444444,
              "#bd3786"
             ],
             [
              0.5555555555555556,
              "#d8576b"
             ],
             [
              0.6666666666666666,
              "#ed7953"
             ],
             [
              0.7777777777777778,
              "#fb9f3a"
             ],
             [
              0.8888888888888888,
              "#fdca26"
             ],
             [
              1,
              "#f0f921"
             ]
            ],
            "type": "heatmap"
           }
          ],
          "heatmapgl": [
           {
            "colorbar": {
             "outlinewidth": 0,
             "ticks": ""
            },
            "colorscale": [
             [
              0,
              "#0d0887"
             ],
             [
              0.1111111111111111,
              "#46039f"
             ],
             [
              0.2222222222222222,
              "#7201a8"
             ],
             [
              0.3333333333333333,
              "#9c179e"
             ],
             [
              0.4444444444444444,
              "#bd3786"
             ],
             [
              0.5555555555555556,
              "#d8576b"
             ],
             [
              0.6666666666666666,
              "#ed7953"
             ],
             [
              0.7777777777777778,
              "#fb9f3a"
             ],
             [
              0.8888888888888888,
              "#fdca26"
             ],
             [
              1,
              "#f0f921"
             ]
            ],
            "type": "heatmapgl"
           }
          ],
          "histogram": [
           {
            "marker": {
             "colorbar": {
              "outlinewidth": 0,
              "ticks": ""
             }
            },
            "type": "histogram"
           }
          ],
          "histogram2d": [
           {
            "colorbar": {
             "outlinewidth": 0,
             "ticks": ""
            },
            "colorscale": [
             [
              0,
              "#0d0887"
             ],
             [
              0.1111111111111111,
              "#46039f"
             ],
             [
              0.2222222222222222,
              "#7201a8"
             ],
             [
              0.3333333333333333,
              "#9c179e"
             ],
             [
              0.4444444444444444,
              "#bd3786"
             ],
             [
              0.5555555555555556,
              "#d8576b"
             ],
             [
              0.6666666666666666,
              "#ed7953"
             ],
             [
              0.7777777777777778,
              "#fb9f3a"
             ],
             [
              0.8888888888888888,
              "#fdca26"
             ],
             [
              1,
              "#f0f921"
             ]
            ],
            "type": "histogram2d"
           }
          ],
          "histogram2dcontour": [
           {
            "colorbar": {
             "outlinewidth": 0,
             "ticks": ""
            },
            "colorscale": [
             [
              0,
              "#0d0887"
             ],
             [
              0.1111111111111111,
              "#46039f"
             ],
             [
              0.2222222222222222,
              "#7201a8"
             ],
             [
              0.3333333333333333,
              "#9c179e"
             ],
             [
              0.4444444444444444,
              "#bd3786"
             ],
             [
              0.5555555555555556,
              "#d8576b"
             ],
             [
              0.6666666666666666,
              "#ed7953"
             ],
             [
              0.7777777777777778,
              "#fb9f3a"
             ],
             [
              0.8888888888888888,
              "#fdca26"
             ],
             [
              1,
              "#f0f921"
             ]
            ],
            "type": "histogram2dcontour"
           }
          ],
          "mesh3d": [
           {
            "colorbar": {
             "outlinewidth": 0,
             "ticks": ""
            },
            "type": "mesh3d"
           }
          ],
          "parcoords": [
           {
            "line": {
             "colorbar": {
              "outlinewidth": 0,
              "ticks": ""
             }
            },
            "type": "parcoords"
           }
          ],
          "pie": [
           {
            "automargin": true,
            "type": "pie"
           }
          ],
          "scatter": [
           {
            "marker": {
             "colorbar": {
              "outlinewidth": 0,
              "ticks": ""
             }
            },
            "type": "scatter"
           }
          ],
          "scatter3d": [
           {
            "line": {
             "colorbar": {
              "outlinewidth": 0,
              "ticks": ""
             }
            },
            "marker": {
             "colorbar": {
              "outlinewidth": 0,
              "ticks": ""
             }
            },
            "type": "scatter3d"
           }
          ],
          "scattercarpet": [
           {
            "marker": {
             "colorbar": {
              "outlinewidth": 0,
              "ticks": ""
             }
            },
            "type": "scattercarpet"
           }
          ],
          "scattergeo": [
           {
            "marker": {
             "colorbar": {
              "outlinewidth": 0,
              "ticks": ""
             }
            },
            "type": "scattergeo"
           }
          ],
          "scattergl": [
           {
            "marker": {
             "colorbar": {
              "outlinewidth": 0,
              "ticks": ""
             }
            },
            "type": "scattergl"
           }
          ],
          "scattermapbox": [
           {
            "marker": {
             "colorbar": {
              "outlinewidth": 0,
              "ticks": ""
             }
            },
            "type": "scattermapbox"
           }
          ],
          "scatterpolar": [
           {
            "marker": {
             "colorbar": {
              "outlinewidth": 0,
              "ticks": ""
             }
            },
            "type": "scatterpolar"
           }
          ],
          "scatterpolargl": [
           {
            "marker": {
             "colorbar": {
              "outlinewidth": 0,
              "ticks": ""
             }
            },
            "type": "scatterpolargl"
           }
          ],
          "scatterternary": [
           {
            "marker": {
             "colorbar": {
              "outlinewidth": 0,
              "ticks": ""
             }
            },
            "type": "scatterternary"
           }
          ],
          "surface": [
           {
            "colorbar": {
             "outlinewidth": 0,
             "ticks": ""
            },
            "colorscale": [
             [
              0,
              "#0d0887"
             ],
             [
              0.1111111111111111,
              "#46039f"
             ],
             [
              0.2222222222222222,
              "#7201a8"
             ],
             [
              0.3333333333333333,
              "#9c179e"
             ],
             [
              0.4444444444444444,
              "#bd3786"
             ],
             [
              0.5555555555555556,
              "#d8576b"
             ],
             [
              0.6666666666666666,
              "#ed7953"
             ],
             [
              0.7777777777777778,
              "#fb9f3a"
             ],
             [
              0.8888888888888888,
              "#fdca26"
             ],
             [
              1,
              "#f0f921"
             ]
            ],
            "type": "surface"
           }
          ],
          "table": [
           {
            "cells": {
             "fill": {
              "color": "#EBF0F8"
             },
             "line": {
              "color": "white"
             }
            },
            "header": {
             "fill": {
              "color": "#C8D4E3"
             },
             "line": {
              "color": "white"
             }
            },
            "type": "table"
           }
          ]
         },
         "layout": {
          "annotationdefaults": {
           "arrowcolor": "#2a3f5f",
           "arrowhead": 0,
           "arrowwidth": 1
          },
          "coloraxis": {
           "colorbar": {
            "outlinewidth": 0,
            "ticks": ""
           }
          },
          "colorscale": {
           "diverging": [
            [
             0,
             "#8e0152"
            ],
            [
             0.1,
             "#c51b7d"
            ],
            [
             0.2,
             "#de77ae"
            ],
            [
             0.3,
             "#f1b6da"
            ],
            [
             0.4,
             "#fde0ef"
            ],
            [
             0.5,
             "#f7f7f7"
            ],
            [
             0.6,
             "#e6f5d0"
            ],
            [
             0.7,
             "#b8e186"
            ],
            [
             0.8,
             "#7fbc41"
            ],
            [
             0.9,
             "#4d9221"
            ],
            [
             1,
             "#276419"
            ]
           ],
           "sequential": [
            [
             0,
             "#0d0887"
            ],
            [
             0.1111111111111111,
             "#46039f"
            ],
            [
             0.2222222222222222,
             "#7201a8"
            ],
            [
             0.3333333333333333,
             "#9c179e"
            ],
            [
             0.4444444444444444,
             "#bd3786"
            ],
            [
             0.5555555555555556,
             "#d8576b"
            ],
            [
             0.6666666666666666,
             "#ed7953"
            ],
            [
             0.7777777777777778,
             "#fb9f3a"
            ],
            [
             0.8888888888888888,
             "#fdca26"
            ],
            [
             1,
             "#f0f921"
            ]
           ],
           "sequentialminus": [
            [
             0,
             "#0d0887"
            ],
            [
             0.1111111111111111,
             "#46039f"
            ],
            [
             0.2222222222222222,
             "#7201a8"
            ],
            [
             0.3333333333333333,
             "#9c179e"
            ],
            [
             0.4444444444444444,
             "#bd3786"
            ],
            [
             0.5555555555555556,
             "#d8576b"
            ],
            [
             0.6666666666666666,
             "#ed7953"
            ],
            [
             0.7777777777777778,
             "#fb9f3a"
            ],
            [
             0.8888888888888888,
             "#fdca26"
            ],
            [
             1,
             "#f0f921"
            ]
           ]
          },
          "colorway": [
           "#636efa",
           "#EF553B",
           "#00cc96",
           "#ab63fa",
           "#FFA15A",
           "#19d3f3",
           "#FF6692",
           "#B6E880",
           "#FF97FF",
           "#FECB52"
          ],
          "font": {
           "color": "#2a3f5f"
          },
          "geo": {
           "bgcolor": "white",
           "lakecolor": "white",
           "landcolor": "#E5ECF6",
           "showlakes": true,
           "showland": true,
           "subunitcolor": "white"
          },
          "hoverlabel": {
           "align": "left"
          },
          "hovermode": "closest",
          "mapbox": {
           "style": "light"
          },
          "paper_bgcolor": "white",
          "plot_bgcolor": "#E5ECF6",
          "polar": {
           "angularaxis": {
            "gridcolor": "white",
            "linecolor": "white",
            "ticks": ""
           },
           "bgcolor": "#E5ECF6",
           "radialaxis": {
            "gridcolor": "white",
            "linecolor": "white",
            "ticks": ""
           }
          },
          "scene": {
           "xaxis": {
            "backgroundcolor": "#E5ECF6",
            "gridcolor": "white",
            "gridwidth": 2,
            "linecolor": "white",
            "showbackground": true,
            "ticks": "",
            "zerolinecolor": "white"
           },
           "yaxis": {
            "backgroundcolor": "#E5ECF6",
            "gridcolor": "white",
            "gridwidth": 2,
            "linecolor": "white",
            "showbackground": true,
            "ticks": "",
            "zerolinecolor": "white"
           },
           "zaxis": {
            "backgroundcolor": "#E5ECF6",
            "gridcolor": "white",
            "gridwidth": 2,
            "linecolor": "white",
            "showbackground": true,
            "ticks": "",
            "zerolinecolor": "white"
           }
          },
          "shapedefaults": {
           "line": {
            "color": "#2a3f5f"
           }
          },
          "ternary": {
           "aaxis": {
            "gridcolor": "white",
            "linecolor": "white",
            "ticks": ""
           },
           "baxis": {
            "gridcolor": "white",
            "linecolor": "white",
            "ticks": ""
           },
           "bgcolor": "#E5ECF6",
           "caxis": {
            "gridcolor": "white",
            "linecolor": "white",
            "ticks": ""
           }
          },
          "title": {
           "x": 0.05
          },
          "xaxis": {
           "automargin": true,
           "gridcolor": "white",
           "linecolor": "white",
           "ticks": "",
           "title": {
            "standoff": 15
           },
           "zerolinecolor": "white",
           "zerolinewidth": 2
          },
          "yaxis": {
           "automargin": true,
           "gridcolor": "white",
           "linecolor": "white",
           "ticks": "",
           "title": {
            "standoff": 15
           },
           "zerolinecolor": "white",
           "zerolinewidth": 2
          }
         }
        }
       }
      },
      "text/html": [
       "<div>\n",
       "        \n",
       "        \n",
       "            <div id=\"ea9312cc-a35a-4e27-b0f6-d6795e211ba7\" class=\"plotly-graph-div\" style=\"height:525px; width:100%;\"></div>\n",
       "            <script type=\"text/javascript\">\n",
       "                require([\"plotly\"], function(Plotly) {\n",
       "                    window.PLOTLYENV=window.PLOTLYENV || {};\n",
       "                    \n",
       "                if (document.getElementById(\"ea9312cc-a35a-4e27-b0f6-d6795e211ba7\")) {\n",
       "                    Plotly.newPlot(\n",
       "                        'ea9312cc-a35a-4e27-b0f6-d6795e211ba7',\n",
       "                        [{\"hovertemplate\": \"<b>%{hovertext}</b><br><br>Confirmed=%{marker.size}<br>Lat=%{lat}<br>Long=%{lon}<br>color=%{marker.color}<extra></extra>\", \"hovertext\": [\"Afghanistan\", \"Albania\", \"Algeria\", \"Andorra\", \"Angola\", \"Antigua and Barbuda\", \"Argentina\", \"Armenia\", \"Australian Capital Territory\", \"New South Wales\", \"Northern Territory\", \"Queensland\", \"South Australia\", \"Tasmania\", \"Victoria\", \"Western Australia\", \"Austria\", \"Azerbaijan\", \"Bahamas\", \"Bahrain\", \"Bangladesh\", \"Barbados\", \"Belarus\", \"Belgium\", \"Benin\", \"Bhutan\", \"Bolivia\", \"Bosnia and Herzegovina\", \"Brazil\", \"Brunei\", \"Bulgaria\", \"Burkina Faso\", \"Cabo Verde\", \"Cambodia\", \"Cameroon\", \"Alberta\", \"British Columbia\", \"Grand Princess\", \"Manitoba\", \"New Brunswick\", \"Newfoundland and Labrador\", \"Nova Scotia\", \"Ontario\", \"Prince Edward Island\", \"Quebec\", \"Saskatchewan\", \"Central African Republic\", \"Chad\", \"Chile\", \"Anhui\", \"Beijing\", \"Chongqing\", \"Fujian\", \"Gansu\", \"Guangdong\", \"Guangxi\", \"Guizhou\", \"Hainan\", \"Hebei\", \"Heilongjiang\", \"Henan\", \"Hong Kong\", \"Hubei\", \"Hunan\", \"Inner Mongolia\", \"Jiangsu\", \"Jiangxi\", \"Jilin\", \"Liaoning\", \"Macau\", \"Ningxia\", \"Qinghai\", \"Shaanxi\", \"Shandong\", \"Shanghai\", \"Shanxi\", \"Sichuan\", \"Tianjin\", \"Tibet\", \"Xinjiang\", \"Yunnan\", \"Zhejiang\", \"Colombia\", \"Congo (Brazzaville)\", \"Congo (Kinshasa)\", \"Costa Rica\", \"Cote d'Ivoire\", \"Croatia\", \"Diamond Princess\", \"Cuba\", \"Cyprus\", \"Czechia\", \"Faroe Islands\", \"Greenland\", \"Denmark\", \"Djibouti\", \"Dominican Republic\", \"Ecuador\", \"Egypt\", \"El Salvador\", \"Equatorial Guinea\", \"Eritrea\", \"Estonia\", \"Eswatini\", \"Ethiopia\", \"Fiji\", \"Finland\", \"French Guiana\", \"French Polynesia\", \"Guadeloupe\", \"Mayotte\", \"New Caledonia\", \"Reunion\", \"Saint Barthelemy\", \"St Martin\", \"Martinique\", \"France\", \"Gabon\", \"Gambia\", \"Georgia\", \"Germany\", \"Ghana\", \"Greece\", \"Guatemala\", \"Guinea\", \"Guyana\", \"Haiti\", \"Holy See\", \"Honduras\", \"Hungary\", \"Iceland\", \"India\", \"Indonesia\", \"Iran\", \"Iraq\", \"Ireland\", \"Israel\", \"Italy\", \"Jamaica\", \"Japan\", \"Jordan\", \"Kazakhstan\", \"Kenya\", \"Korea, South\", \"Kuwait\", \"Kyrgyzstan\", \"Latvia\", \"Lebanon\", \"Liberia\", \"Liechtenstein\", \"Lithuania\", \"Luxembourg\", \"Madagascar\", \"Malaysia\", \"Maldives\", \"Malta\", \"Mauritania\", \"Mauritius\", \"Mexico\", \"Moldova\", \"Monaco\", \"Mongolia\", \"Montenegro\", \"Morocco\", \"Namibia\", \"Nepal\", \"Aruba\", \"Curacao\", \"Sint Maarten\", \"Netherlands\", \"New Zealand\", \"Nicaragua\", \"Niger\", \"Nigeria\", \"North Macedonia\", \"Norway\", \"Oman\", \"Pakistan\", \"Panama\", \"Papua New Guinea\", \"Paraguay\", \"Peru\", \"Philippines\", \"Poland\", \"Portugal\", \"Qatar\", \"Romania\", \"Russia\", \"Rwanda\", \"Saint Lucia\", \"Saint Vincent and the Grenadines\", \"San Marino\", \"Saudi Arabia\", \"Senegal\", \"Serbia\", \"Seychelles\", \"Singapore\", \"Slovakia\", \"Slovenia\", \"Somalia\", \"South Africa\", \"Spain\", \"Sri Lanka\", \"Sudan\", \"Suriname\", \"Sweden\", \"Switzerland\", \"Taiwan*\", \"Tanzania\", \"Thailand\", \"Togo\", \"Trinidad and Tobago\", \"Tunisia\", \"Turkey\", \"Uganda\", \"Ukraine\", \"United Arab Emirates\", \"Bermuda\", \"Cayman Islands\", \"Channel Islands\", \"Gibraltar\", \"Isle of Man\", \"Montserrat\", \"United Kingdom\", \"Uruguay\", \"US\", \"Uzbekistan\", \"Venezuela\", \"Vietnam\", \"Zambia\", \"Zimbabwe\", \"Diamond Princess\", \"Dominica\", \"Grenada\", \"Mozambique\", \"Syria\", \"Timor-Leste\", \"Belize\", \"Laos\", \"Libya\", \"West Bank and Gaza\", \"Guinea-Bissau\", \"Mali\", \"Saint Kitts and Nevis\", \"Northwest Territories\", \"Yukon\", \"Kosovo\", \"Burma\", \"Anguilla\", \"British Virgin Islands\", \"Turks and Caicos Islands\", \"MS Zaandam\", \"Botswana\", \"Burundi\", \"Sierra Leone\", \"Bonaire, Sint Eustatius and Saba\", \"Malawi\", \"Falkland Islands (Malvinas)\", \"Saint Pierre and Miquelon\", \"South Sudan\", \"Western Sahara\", \"Sao Tome and Principe\", \"Yemen\", \"Comoros\", \"Tajikistan\", \"Lesotho\"], \"lat\": [33.0, 41.1533, 28.0339, 42.5063, -11.2027, 17.0608, -38.4161, 40.0691, -35.4735, -33.8688, -12.4634, -28.0167, -34.9285, -41.4545, -37.8136, -31.9505, 47.5162, 40.1431, 25.0343, 26.0275, 23.685, 13.1939, 53.7098, 50.8333, 9.3077, 27.5142, -16.2902, 43.9159, -14.235, 4.5353, 42.7339, 12.2383, 16.5388, 11.55, 3.848, 53.9333, 49.2827, 37.6489, 53.7609, 46.5653, 53.1355, 44.682, 51.2538, 46.5107, 52.9399, 52.9399, 6.6111, 15.4542, -35.6751, 31.8257, 40.1824, 30.0572, 26.0789, 37.8099, 23.3417, 23.8298, 26.8154, 19.1959, 39.549, 47.862, 33.882, 22.3, 30.9756, 27.6104, 44.0935, 32.9711, 27.614, 43.6661, 41.2956, 22.1667, 37.2692, 35.7452, 35.1917, 36.3427, 31.202, 37.5777, 30.6171, 39.3054, 31.6927, 41.1129, 24.974, 29.1832, 4.5709, -4.0383, -4.0383, 9.7489, 7.54, 45.1, 0.0, 22.0, 35.1264, 49.8175, 61.8926, 71.7069, 56.2639, 11.8251, 18.7357, -1.8312, 26.0, 13.7942, 1.5, 15.1794, 58.5953, -26.5225, 9.145, -17.7134, 64.0, 3.9339, -17.6797, 16.25, -12.8275, -20.9043, -21.1351, 17.9, 18.0708, 14.6415, 46.2276, -0.8037, 13.4432, 42.3154, 51.0, 7.9465, 39.0742, 15.7835, 9.9456, 5.0, 18.9712, 41.9029, 15.2, 47.1625, 64.9631, 21.0, -0.7893, 32.0, 33.0, 53.1424, 31.0, 43.0, 18.1096, 36.0, 31.24, 48.0196, -0.0236, 36.0, 29.5, 41.2044, 56.8796, 33.8547, 6.4281, 47.14, 55.1694, 49.8153, -18.7669, 2.5, 3.2028, 35.9375, 21.0079, -20.2, 23.6345, 47.4116, 43.7333, 46.8625, 42.5, 31.7917, -22.9576, 28.1667, 12.5186, 12.1696, 18.0425, 52.1326, -40.9006, 12.8654, 17.6078, 9.082, 41.6086, 60.472, 21.0, 30.3753, 8.538, -6.315, -23.4425, -9.19, 13.0, 51.9194, 39.3999, 25.3548, 45.9432, 60.0, -1.9403, 13.9094, 12.9843, 43.9424, 24.0, 14.4974, 44.0165, -4.6796, 1.2833, 48.669, 46.1512, 5.1521, -30.5595, 40.0, 7.0, 12.8628, 3.9193, 63.0, 46.8182, 23.7, -6.369, 15.0, 8.6195, 10.6918, 34.0, 38.9637, 1.0, 48.3794, 24.0, 32.3078, 19.3133, 49.3723, 36.1408, 54.2361, 16.7425, 55.3781, -32.5228, 37.0902, 41.3775, 6.4238, 16.0, -15.4167, -20.0, 0.0, 15.415, 12.1165, -18.665695, 34.802075, -8.874217, 13.1939, 19.85627, 26.3351, 31.9522, 11.8037, 17.570692, 17.357822, 64.8255, 64.2823, 42.602636, 21.9162, 18.2206, 18.4207, 21.69400000000001, 0.0, -22.3285, -3.3731, 8.460555000000001, 12.1784, -13.254307999999998, -51.7963, 46.8852, 6.877000000000002, 24.2155, 0.18636, 15.552727, -11.6455, 38.861034, -29.609988], \"legendgroup\": \"\", \"lon\": [65.0, 20.1683, 1.6596, 1.5218, 17.8739, -61.7964, -63.6167, 45.0382, 149.0124, 151.2093, 130.8456, 153.4, 138.6007, 145.9707, 144.9631, 115.8605, 14.5501, 47.5769, -77.3963, 50.55, 90.3563, -59.5432, 27.9534, 4.0, 2.3158, 90.4336, -63.5887, 17.6791, -51.9253, 114.7277, 25.4858, -1.5616, -23.0418, 104.9167, 11.5021, -116.5765, -123.1207, -122.6655, -98.8139, -66.4619, -57.6604, -63.7443, -85.3232, -63.4168, -73.5491, -106.4509, 20.9394, 18.7322, -71.543, 117.2264, 116.4142, 107.874, 117.9874, 101.0583, 113.4244, 108.7881, 106.8748, 109.7453, 116.1306, 127.7615, 113.614, 114.2, 112.2707, 111.7088, 113.9448, 119.455, 115.7221, 126.1923, 122.6085, 113.55, 106.1655, 95.9956, 108.8701, 118.1498, 121.4491, 112.2922, 102.7103, 117.323, 88.0924, 85.2401, 101.487, 120.0934, -74.2973, 21.7587, 21.7587, -83.7534, -5.5471, 15.2, 0.0, -80.0, 33.4299, 15.473, -6.9118, -42.6043, 9.5018, 42.5903, -70.1627, -78.1834, 30.0, -88.8965, 10.0, 39.7823, 25.0136, 31.4659, 40.4897, 178.065, 26.0, -53.1258, 149.4068, -61.5833, 45.1662, 165.618, 55.2471, -62.8333, -63.0501, -61.0242, 2.2137, 11.6094, -15.3101, 43.3569, 9.0, -1.0232, 21.8243, -90.2308, -9.6966, -58.75, -72.2852, 12.4534, -86.2419, 19.5033, -19.0208, 78.0, 113.9213, 53.0, 44.0, -7.6921, 35.0, 12.0, -77.2975, 138.0, 36.51, 66.9237, 37.9062, 128.0, 47.75, 74.7661, 24.6032, 35.8623, -9.4295, 9.55, 23.8813, 6.1296, 46.8691, 112.5, 73.2207, 14.3754, 10.9408, 57.5, -102.5528, 28.3699, 7.4167, 103.8467, 19.3, -7.0926, 18.4904, 84.25, -70.0358, -68.99, -63.0548, 5.2913, 174.886, -85.2072, 8.0817, 8.6753, 21.7453, 8.4689, 57.0, 69.3451, -80.7821, 143.9555, -58.4438, -75.0152, 122.0, 19.1451, -8.2245, 51.1839, 24.9668, 90.0, 29.8739, -60.9789, -61.2872, 12.4578, 45.0, -14.4524, 21.0059, 55.492, 103.8333, 19.699, 14.9955, 46.1996, 22.9375, -4.0, 81.0, 30.2176, -56.0278, 16.0, 8.2275, 121.0, 34.8888, 101.0, 0.8248, -61.2225, 9.0, 35.2433, 32.0, 31.1656, 54.0, -64.7505, -81.2546, -2.3644, -5.3536, -4.5481, -62.1874, -3.4360000000000004, -55.7658, -95.7129, 64.5853, -66.5897, 108.0, 28.2833, 30.0, 0.0, -61.371, -61.679, 35.529562, 38.99681500000001, 125.727539, -59.5432, 102.495496, 17.228331, 35.2332, -15.1804, -3.996166000000001, -62.782998, -124.8457, -135.0, 20.902977, 95.956, -63.0686, -64.64, -71.7979, 0.0, 24.6849, 29.9189, -11.779889, -68.2385, 34.301525, -59.5236, -56.3159, 31.307, -12.8858, 6.613081, 48.516388, 43.3333, 71.276093, 28.233608], \"marker\": {\"color\": [13.447728987524478, 9.971543555387719, 13.053756222731813, 9.575539248725349, 6.129283037554895, 4.643856247482526, 13.62433854542723, 12.79624244840599, 6.741466999884278, 11.594324604391437, 4.857981044875676, 10.04575966274758, 8.778077132821679, 7.832890020492352, 10.652844973898063, 9.139551354956764, 14.013584386899497, 12.06035818297993, 6.643856204201675, 13.162863337765437, 15.11898161555771, 6.523561971738481, 15.180841565605503, 15.807304603995428, 7.577428835589126, 4.754887555596618, 12.701306462175246, 11.232420927775701, 18.516138603620202, 7.139551362630673, 11.248520605531398, 9.700439719875101, 8.60733031744883, 6.954196322021512, 12.255618750134627, 12.747983140511675, 11.304921670151908, 3.7004398291176295, 8.189824563820753, 6.918863249197694, 8.022367818577282, 10.037546955334866, 14.736719018820496, 4.754887555596618, 15.550536377043857, 9.30833903241495, 9.3487281564438, 9.424166290918093, 16.17517916148815, 9.952741248642285, 9.211888296978879, 9.177419540480939, 8.479780268070263, 7.118941083102609, 10.636624621449865, 7.988684692452067, 7.199672354650616, 7.400879444818841, 8.357552009016544, 9.884170520635097, 10.317412614895508, 10.056637716467844, 16.05610846055531, 9.99293833758161, 7.857981001346086, 9.350939183755765, 9.871905239198883, 7.276124414581948, 7.219168530144678, 5.491853128389564, 6.228818709731814, 4.169925081592035, 8.266786545378976, 9.622051821287208, 9.385862402797956, 7.629356627365948, 9.139551354956764, 7.584962508235193, 1.4426943194232382e-06, 6.247927532426415, 7.531381468314664, 10.30833903127718, 14.423969401126227, 8.927777965044754, 11.165535142006002, 9.893301532377594, 11.242578690046763, 11.131856961251705, 9.475733432992655, 10.92703716946128, 9.871905239198883, 13.136029849545816, 7.546894467602583, 3.584962620945738, 13.475100086756619, 11.269126679733978, 13.87967896674558, 15.189013741542821, 14.13306191777984, 10.953468962956379, 10.026523443902983, 5.285402255854429, 10.832890014955693, 8.000000005635528, 9.3553510986274, 4.169925081592035, 12.688031702632557, 8.463524377358135, 5.906890619653436, 7.330916887075456, 10.651948611620087, 4.169925081592035, 8.832890017328547, 2.5849627411703096, 5.3219281309547375, 7.6220518267797015, 17.458967253301683, 11.060020355183587, 4.643856247482526, 9.513727597926028, 17.462438367263573, 12.733015321897874, 11.492854620675336, 11.876516946948696, 11.677279191752692, 7.098032093491147, 9.903881847242126, 3.584962620945738, 12.032390169210924, 11.87498134803788, 10.816983624055101, 17.145195807846076, 14.4735789249242, 17.071420462125904, 12.177419538300699, 14.592106599275892, 14.030494719835682, 17.812265064125192, 9.118941075318283, 14.017243398022327, 9.473705751648522, 13.130731425434071, 10.328674928449795, 13.454427824644396, 14.423050236146945, 10.48482289526891, 10.034798963952573, 10.127994322265666, 8.049848554894695, 6.357552022211926, 10.675074921267827, 11.963257356994355, 9.08214904401567, 12.856620053871357, 10.44604940775074, 9.255028572179933, 8.03342300704392, 8.383704296793498, 16.11766339119471, 12.803122073137265, 6.614709858836586, 7.139551362630673, 8.339850007337388, 12.87881728480577, 4.392317491478523, 9.413627931139562, 6.658211497035904, 4.169925081592035, 6.266786559431201, 15.471833952944156, 10.554588852636876, 8.124121317000137, 9.893301532377594, 12.97799536879178, 10.965062757466336, 13.029977346762069, 12.923698883480748, 15.782102387348907, 13.449019643399392, 3.0000001803368685, 9.756556324191942, 16.919736246983295, 13.805643121874114, 14.400812742174129, 14.910080532013213, 15.472468732424579, 14.158215196742738, 18.431052733000968, 8.392317427072495, 4.169925081592035, 4.169925081592035, 9.379378369237472, 16.190654209624068, 11.611946942280905, 13.450309145666829, 3.459431749791386, 14.96397978786048, 10.561287946119624, 10.520618681538373, 10.721953613655558, 14.52741591509902, 17.8447547948193, 10.207014321398086, 11.957102041925136, 3.459431749791386, 15.046569840877549, 14.90811111019357, 8.784634848828938, 8.991521848910066, 11.570804438198754, 8.592457041005632, 6.857981007564598, 10.037546955334866, 17.267865669877523, 7.794415872848732, 14.374835723268555, 14.887363430685715, 7.055282446348521, 7.066089201224154, 9.12670447542404, 7.266786550063051, 8.392317427072495, 3.459431749791386, 17.994706995263623, 9.620219827340645, 20.664751077981098, 11.638888382704659, 10.200898606264184, 8.348728158656522, 9.845490052512522, 5.8073549478200155, 1.4426943194232382e-06, 4.000000090168437, 4.523562018782883, 7.70735913898373, 6.727920468173529, 4.584962560833448, 4.169925081592035, 4.247927589374902, 6.228818709731814, 8.724513856530576, 10.202123825055159, 10.048486875354655, 3.9068906917881847, 2.3219283834263416, 3.459431749791386, 10.01959072974776, 7.665335924292048, 1.584962981619423, 3.0000001803368685, 3.584962620945738, 3.1699251617417525, 5.129283058164824, 5.392317457128642, 9.521600441686576, 2.5849627411703096, 6.658211497035904, 3.7004398291176295, 1.4426943194232382e-06, 9.654636030317912, 3.1699251617417525, 8.224001679023171, 7.864186150846105, 6.442943512431429, 11.598052500626986, 1.0000007213473403], \"coloraxis\": \"coloraxis\", \"size\": [11173, 1004, 8503, 763, 70, 25, 12628, 7113, 107, 3092, 29, 1057, 439, 228, 1610, 564, 16539, 4271, 100, 9171, 35585, 92, 37144, 57342, 191, 27, 6660, 2406, 374898, 141, 2433, 832, 390, 124, 4890, 6879, 2530, 13, 292, 121, 260, 1051, 27302, 27, 47993, 634, 652, 687, 73997, 991, 593, 579, 357, 139, 1592, 254, 147, 169, 328, 945, 1276, 1065, 68135, 1019, 232, 653, 937, 155, 149, 45, 75, 18, 308, 788, 669, 198, 564, 192, 1, 76, 185, 1268, 21981, 487, 2297, 951, 2423, 2244, 712, 1947, 937, 9002, 187, 12, 11387, 2468, 15073, 37355, 17967, 1983, 1043, 39, 1824, 256, 655, 18, 6599, 353, 60, 161, 1609, 18, 456, 6, 40, 197, 180166, 2135, 25, 731, 180600, 6808, 2882, 3760, 3275, 137, 958, 12, 4189, 3756, 1804, 144950, 22750, 137724, 4632, 24698, 16734, 230158, 556, 16581, 711, 8969, 1286, 11225, 21967, 1433, 1049, 1119, 265, 82, 1635, 3993, 542, 7417, 1395, 611, 262, 334, 71105, 7147, 98, 141, 324, 7532, 21, 682, 101, 18, 77, 45445, 1504, 279, 951, 8068, 1999, 8364, 7770, 56349, 11183, 8, 865, 123979, 14319, 21631, 30788, 45465, 18283, 353427, 336, 18, 18, 666, 74795, 3130, 11193, 11, 31960, 1511, 1469, 1689, 23615, 235400, 1182, 3976, 11, 33843, 30746, 441, 509, 3042, 386, 116, 1051, 157814, 222, 21245, 30307, 133, 134, 559, 154, 336, 11, 261184, 787, 1662302, 3189, 1177, 326, 920, 56, 1, 16, 23, 209, 106, 24, 18, 19, 75, 423, 1178, 1059, 15, 5, 11, 1038, 203, 3, 8, 12, 9, 35, 42, 735, 6, 101, 13, 1, 806, 9, 299, 233, 87, 3100, 2], \"sizemode\": \"area\", \"sizeref\": 1038.93875}, \"mode\": \"markers\", \"name\": \"\", \"showlegend\": false, \"subplot\": \"mapbox\", \"type\": \"scattermapbox\"}],\n",
       "                        {\"coloraxis\": {\"colorbar\": {\"title\": {\"text\": \"color\"}}, \"colorscale\": [[0.0, \"Gold\"], [0.5, \"DarkOrange\"], [1.0, \"Crimson\"]], \"showscale\": false}, \"legend\": {\"itemsizing\": \"constant\", \"tracegroupgap\": 0}, \"mapbox\": {\"accesstoken\": \"pk.eyJ1IjoiYXhlbGl0b3Jvc2FsaXRvIiwiYSI6ImNrYjJmMTZuOTBheHEyc243Mjl5ZXNuMTMifQ.Yp-TD_DLMvwB4UYP_xYehA\", \"center\": {\"lat\": 21.148043469924815, \"lon\": 22.538640082706767}, \"domain\": {\"x\": [0.0, 1.0], \"y\": [0.0, 1.0]}, \"style\": \"dark\", \"zoom\": 0.6}, \"margin\": {\"t\": 60}, \"template\": {\"data\": {\"bar\": [{\"error_x\": {\"color\": \"#2a3f5f\"}, \"error_y\": {\"color\": \"#2a3f5f\"}, \"marker\": {\"line\": {\"color\": \"#E5ECF6\", \"width\": 0.5}}, \"type\": \"bar\"}], \"barpolar\": [{\"marker\": {\"line\": {\"color\": \"#E5ECF6\", \"width\": 0.5}}, \"type\": \"barpolar\"}], \"carpet\": [{\"aaxis\": {\"endlinecolor\": \"#2a3f5f\", \"gridcolor\": \"white\", \"linecolor\": \"white\", \"minorgridcolor\": \"white\", \"startlinecolor\": \"#2a3f5f\"}, \"baxis\": {\"endlinecolor\": \"#2a3f5f\", \"gridcolor\": \"white\", \"linecolor\": \"white\", \"minorgridcolor\": \"white\", \"startlinecolor\": \"#2a3f5f\"}, \"type\": \"carpet\"}], \"choropleth\": [{\"colorbar\": {\"outlinewidth\": 0, \"ticks\": \"\"}, \"type\": \"choropleth\"}], \"contour\": [{\"colorbar\": {\"outlinewidth\": 0, \"ticks\": \"\"}, \"colorscale\": [[0.0, \"#0d0887\"], [0.1111111111111111, \"#46039f\"], [0.2222222222222222, \"#7201a8\"], [0.3333333333333333, \"#9c179e\"], [0.4444444444444444, \"#bd3786\"], [0.5555555555555556, \"#d8576b\"], [0.6666666666666666, \"#ed7953\"], [0.7777777777777778, \"#fb9f3a\"], [0.8888888888888888, \"#fdca26\"], [1.0, \"#f0f921\"]], \"type\": \"contour\"}], \"contourcarpet\": [{\"colorbar\": {\"outlinewidth\": 0, \"ticks\": \"\"}, \"type\": \"contourcarpet\"}], \"heatmap\": [{\"colorbar\": {\"outlinewidth\": 0, \"ticks\": \"\"}, \"colorscale\": [[0.0, \"#0d0887\"], [0.1111111111111111, \"#46039f\"], [0.2222222222222222, \"#7201a8\"], [0.3333333333333333, \"#9c179e\"], [0.4444444444444444, \"#bd3786\"], [0.5555555555555556, \"#d8576b\"], [0.6666666666666666, \"#ed7953\"], [0.7777777777777778, \"#fb9f3a\"], [0.8888888888888888, \"#fdca26\"], [1.0, \"#f0f921\"]], \"type\": \"heatmap\"}], \"heatmapgl\": [{\"colorbar\": {\"outlinewidth\": 0, \"ticks\": \"\"}, \"colorscale\": [[0.0, \"#0d0887\"], [0.1111111111111111, \"#46039f\"], [0.2222222222222222, \"#7201a8\"], [0.3333333333333333, \"#9c179e\"], [0.4444444444444444, \"#bd3786\"], [0.5555555555555556, \"#d8576b\"], [0.6666666666666666, \"#ed7953\"], [0.7777777777777778, \"#fb9f3a\"], [0.8888888888888888, \"#fdca26\"], [1.0, \"#f0f921\"]], \"type\": \"heatmapgl\"}], \"histogram\": [{\"marker\": {\"colorbar\": {\"outlinewidth\": 0, \"ticks\": \"\"}}, \"type\": \"histogram\"}], \"histogram2d\": [{\"colorbar\": {\"outlinewidth\": 0, \"ticks\": \"\"}, \"colorscale\": [[0.0, \"#0d0887\"], [0.1111111111111111, \"#46039f\"], [0.2222222222222222, \"#7201a8\"], [0.3333333333333333, \"#9c179e\"], [0.4444444444444444, \"#bd3786\"], [0.5555555555555556, \"#d8576b\"], [0.6666666666666666, \"#ed7953\"], [0.7777777777777778, \"#fb9f3a\"], [0.8888888888888888, \"#fdca26\"], [1.0, \"#f0f921\"]], \"type\": \"histogram2d\"}], \"histogram2dcontour\": [{\"colorbar\": {\"outlinewidth\": 0, \"ticks\": \"\"}, \"colorscale\": [[0.0, \"#0d0887\"], [0.1111111111111111, \"#46039f\"], [0.2222222222222222, \"#7201a8\"], [0.3333333333333333, \"#9c179e\"], [0.4444444444444444, \"#bd3786\"], [0.5555555555555556, \"#d8576b\"], [0.6666666666666666, \"#ed7953\"], [0.7777777777777778, \"#fb9f3a\"], [0.8888888888888888, \"#fdca26\"], [1.0, \"#f0f921\"]], \"type\": \"histogram2dcontour\"}], \"mesh3d\": [{\"colorbar\": {\"outlinewidth\": 0, \"ticks\": \"\"}, \"type\": \"mesh3d\"}], \"parcoords\": [{\"line\": {\"colorbar\": {\"outlinewidth\": 0, \"ticks\": \"\"}}, \"type\": \"parcoords\"}], \"pie\": [{\"automargin\": true, \"type\": \"pie\"}], \"scatter\": [{\"marker\": {\"colorbar\": {\"outlinewidth\": 0, \"ticks\": \"\"}}, \"type\": \"scatter\"}], \"scatter3d\": [{\"line\": {\"colorbar\": {\"outlinewidth\": 0, \"ticks\": \"\"}}, \"marker\": {\"colorbar\": {\"outlinewidth\": 0, \"ticks\": \"\"}}, \"type\": \"scatter3d\"}], \"scattercarpet\": [{\"marker\": {\"colorbar\": {\"outlinewidth\": 0, \"ticks\": \"\"}}, \"type\": \"scattercarpet\"}], \"scattergeo\": [{\"marker\": {\"colorbar\": {\"outlinewidth\": 0, \"ticks\": \"\"}}, \"type\": \"scattergeo\"}], \"scattergl\": [{\"marker\": {\"colorbar\": {\"outlinewidth\": 0, \"ticks\": \"\"}}, \"type\": \"scattergl\"}], \"scattermapbox\": [{\"marker\": {\"colorbar\": {\"outlinewidth\": 0, \"ticks\": \"\"}}, \"type\": \"scattermapbox\"}], \"scatterpolar\": [{\"marker\": {\"colorbar\": {\"outlinewidth\": 0, \"ticks\": \"\"}}, \"type\": \"scatterpolar\"}], \"scatterpolargl\": [{\"marker\": {\"colorbar\": {\"outlinewidth\": 0, \"ticks\": \"\"}}, \"type\": \"scatterpolargl\"}], \"scatterternary\": [{\"marker\": {\"colorbar\": {\"outlinewidth\": 0, \"ticks\": \"\"}}, \"type\": \"scatterternary\"}], \"surface\": [{\"colorbar\": {\"outlinewidth\": 0, \"ticks\": \"\"}, \"colorscale\": [[0.0, \"#0d0887\"], [0.1111111111111111, \"#46039f\"], [0.2222222222222222, \"#7201a8\"], [0.3333333333333333, \"#9c179e\"], [0.4444444444444444, \"#bd3786\"], [0.5555555555555556, \"#d8576b\"], [0.6666666666666666, \"#ed7953\"], [0.7777777777777778, \"#fb9f3a\"], [0.8888888888888888, \"#fdca26\"], [1.0, \"#f0f921\"]], \"type\": \"surface\"}], \"table\": [{\"cells\": {\"fill\": {\"color\": \"#EBF0F8\"}, \"line\": {\"color\": \"white\"}}, \"header\": {\"fill\": {\"color\": \"#C8D4E3\"}, \"line\": {\"color\": \"white\"}}, \"type\": \"table\"}]}, \"layout\": {\"annotationdefaults\": {\"arrowcolor\": \"#2a3f5f\", \"arrowhead\": 0, \"arrowwidth\": 1}, \"coloraxis\": {\"colorbar\": {\"outlinewidth\": 0, \"ticks\": \"\"}}, \"colorscale\": {\"diverging\": [[0, \"#8e0152\"], [0.1, \"#c51b7d\"], [0.2, \"#de77ae\"], [0.3, \"#f1b6da\"], [0.4, \"#fde0ef\"], [0.5, \"#f7f7f7\"], [0.6, \"#e6f5d0\"], [0.7, \"#b8e186\"], [0.8, \"#7fbc41\"], [0.9, \"#4d9221\"], [1, \"#276419\"]], \"sequential\": [[0.0, \"#0d0887\"], [0.1111111111111111, \"#46039f\"], [0.2222222222222222, \"#7201a8\"], [0.3333333333333333, \"#9c179e\"], [0.4444444444444444, \"#bd3786\"], [0.5555555555555556, \"#d8576b\"], [0.6666666666666666, \"#ed7953\"], [0.7777777777777778, \"#fb9f3a\"], [0.8888888888888888, \"#fdca26\"], [1.0, \"#f0f921\"]], \"sequentialminus\": [[0.0, \"#0d0887\"], [0.1111111111111111, \"#46039f\"], [0.2222222222222222, \"#7201a8\"], [0.3333333333333333, \"#9c179e\"], [0.4444444444444444, \"#bd3786\"], [0.5555555555555556, \"#d8576b\"], [0.6666666666666666, \"#ed7953\"], [0.7777777777777778, \"#fb9f3a\"], [0.8888888888888888, \"#fdca26\"], [1.0, \"#f0f921\"]]}, \"colorway\": [\"#636efa\", \"#EF553B\", \"#00cc96\", \"#ab63fa\", \"#FFA15A\", \"#19d3f3\", \"#FF6692\", \"#B6E880\", \"#FF97FF\", \"#FECB52\"], \"font\": {\"color\": \"#2a3f5f\"}, \"geo\": {\"bgcolor\": \"white\", \"lakecolor\": \"white\", \"landcolor\": \"#E5ECF6\", \"showlakes\": true, \"showland\": true, \"subunitcolor\": \"white\"}, \"hoverlabel\": {\"align\": \"left\"}, \"hovermode\": \"closest\", \"mapbox\": {\"style\": \"light\"}, \"paper_bgcolor\": \"white\", \"plot_bgcolor\": \"#E5ECF6\", \"polar\": {\"angularaxis\": {\"gridcolor\": \"white\", \"linecolor\": \"white\", \"ticks\": \"\"}, \"bgcolor\": \"#E5ECF6\", \"radialaxis\": {\"gridcolor\": \"white\", \"linecolor\": \"white\", \"ticks\": \"\"}}, \"scene\": {\"xaxis\": {\"backgroundcolor\": \"#E5ECF6\", \"gridcolor\": \"white\", \"gridwidth\": 2, \"linecolor\": \"white\", \"showbackground\": true, \"ticks\": \"\", \"zerolinecolor\": \"white\"}, \"yaxis\": {\"backgroundcolor\": \"#E5ECF6\", \"gridcolor\": \"white\", \"gridwidth\": 2, \"linecolor\": \"white\", \"showbackground\": true, \"ticks\": \"\", \"zerolinecolor\": \"white\"}, \"zaxis\": {\"backgroundcolor\": \"#E5ECF6\", \"gridcolor\": \"white\", \"gridwidth\": 2, \"linecolor\": \"white\", \"showbackground\": true, \"ticks\": \"\", \"zerolinecolor\": \"white\"}}, \"shapedefaults\": {\"line\": {\"color\": \"#2a3f5f\"}}, \"ternary\": {\"aaxis\": {\"gridcolor\": \"white\", \"linecolor\": \"white\", \"ticks\": \"\"}, \"baxis\": {\"gridcolor\": \"white\", \"linecolor\": \"white\", \"ticks\": \"\"}, \"bgcolor\": \"#E5ECF6\", \"caxis\": {\"gridcolor\": \"white\", \"linecolor\": \"white\", \"ticks\": \"\"}}, \"title\": {\"x\": 0.05}, \"xaxis\": {\"automargin\": true, \"gridcolor\": \"white\", \"linecolor\": \"white\", \"ticks\": \"\", \"title\": {\"standoff\": 15}, \"zerolinecolor\": \"white\", \"zerolinewidth\": 2}, \"yaxis\": {\"automargin\": true, \"gridcolor\": \"white\", \"linecolor\": \"white\", \"ticks\": \"\", \"title\": {\"standoff\": 15}, \"zerolinecolor\": \"white\", \"zerolinewidth\": 2}}}},\n",
       "                        {\"responsive\": true}\n",
       "                    ).then(function(){\n",
       "                            \n",
       "var gd = document.getElementById('ea9312cc-a35a-4e27-b0f6-d6795e211ba7');\n",
       "var x = new MutationObserver(function (mutations, observer) {{\n",
       "        var display = window.getComputedStyle(gd).display;\n",
       "        if (!display || display === 'none') {{\n",
       "            console.log([gd, 'removed!']);\n",
       "            Plotly.purge(gd);\n",
       "            observer.disconnect();\n",
       "        }}\n",
       "}});\n",
       "\n",
       "// Listen for the removal of the full notebook cells\n",
       "var notebookContainer = gd.closest('#notebook-container');\n",
       "if (notebookContainer) {{\n",
       "    x.observe(notebookContainer, {childList: true});\n",
       "}}\n",
       "\n",
       "// Listen for the clearing of the current output cell\n",
       "var outputEl = gd.closest('.output');\n",
       "if (outputEl) {{\n",
       "    x.observe(outputEl, {childList: true});\n",
       "}}\n",
       "\n",
       "                        })\n",
       "                };\n",
       "                });\n",
       "            </script>\n",
       "        </div>"
      ]
     },
     "metadata": {},
     "output_type": "display_data"
    }
   ],
   "source": [
    "df1[\"color\"]= df1[\"Confirmed\"].map(lambda x: np.log2(x+1e-6)) # add 1e-6 to avoid log(0)\n",
    "px.set_mapbox_access_token(mapbox_access_token)\n",
    "map_plot = px.scatter_mapbox(df1, lat=\"Lat\", lon=\"Long\", \n",
    "                        hover_name=\"Province/State\",\n",
    "                        zoom=0.6, mapbox_style='dark',\n",
    "                        size=\"Confirmed\", size_max=40, \n",
    "                        color=\"color\", color_continuous_scale=['Gold', 'DarkOrange', 'Crimson'])\n",
    "\n",
    "\n",
    "map_plot.update(layout_coloraxis_showscale=False)\n",
    "\n",
    "map_plot.show()"
   ]
  },
  {
   "cell_type": "markdown",
   "metadata": {},
   "source": [
    "### TODO\n",
    "- are the value correspond to the real confirmed cases?\n",
    "- __add a white border__ \n",
    "- __customize the tooltips__\n",
    "---"
   ]
  },
  {
   "cell_type": "markdown",
   "metadata": {},
   "source": [
    "## 3. Dash app"
   ]
  },
  {
   "cell_type": "code",
   "execution_count": 11,
   "metadata": {},
   "outputs": [],
   "source": [
    "# df['Date'] = pd.to_datetime(df['Date'])\n",
    "dates = list(set(df['Date']))"
   ]
  },
  {
   "cell_type": "code",
   "execution_count": null,
   "metadata": {},
   "outputs": [
    {
     "name": "stdout",
     "output_type": "stream",
     "text": [
      "Running on http://127.0.0.1:8050/\n",
      "Debugger PIN: 644-681-494\n",
      " * Serving Flask app \"__main__\" (lazy loading)\n",
      " * Environment: production\n",
      "\u001b[31m   WARNING: This is a development server. Do not use it in a production deployment.\u001b[0m\n",
      "\u001b[2m   Use a production WSGI server instead.\u001b[0m\n",
      " * Debug mode: on\n"
     ]
    }
   ],
   "source": [
    "import dash\n",
    "import dash_core_components as dcc\n",
    "import dash_html_components as html\n",
    "\n",
    "external_stylesheets = ['https://codepen.io/chriddyp/pen/bWLwgP.css']\n",
    "\n",
    "app = dash.Dash()\n",
    "app.layout = html.Div([\n",
    "    html.H1(children='Evolution du COVID-19 à travers le monde'),\n",
    "    dcc.Slider(\n",
    "        id = 'date_slider',\n",
    "        min=0,\n",
    "        max=len(dates),\n",
    "        marks={date:date for date in dates},\n",
    "        value=len(dates)),\n",
    "    dcc.Slider(\n",
    "    min=0,\n",
    "    max=9,\n",
    "    marks={i: 'Label {}'.format(i) for i in range(10)},\n",
    "    value=5,\n",
    ")  ,\n",
    "    dcc.Graph(figure=map_plot)\n",
    "])\n",
    "\n",
    "# @app.callback(\n",
    "#     dash.dependencies.Output('slider-output-container', 'children'),\n",
    "#     [dash.dependencies.Input('my-slider', 'value')])\n",
    "# def update_output(value):\n",
    "#     return 'You have selected \"{}\"'.format(value)\n",
    "\n",
    "app.run_server(debug=True, use_reloader=False)  # Turn off reloader if inside Jupyter"
   ]
  },
  {
   "cell_type": "code",
   "execution_count": null,
   "metadata": {},
   "outputs": [],
   "source": [
    "dates[-1]"
   ]
  },
  {
   "cell_type": "code",
   "execution_count": null,
   "metadata": {},
   "outputs": [],
   "source": []
  }
 ],
 "metadata": {
  "kernelspec": {
   "display_name": "Python 3",
   "language": "python",
   "name": "python3"
  },
  "language_info": {
   "codemirror_mode": {
    "name": "ipython",
    "version": 3
   },
   "file_extension": ".py",
   "mimetype": "text/x-python",
   "name": "python",
   "nbconvert_exporter": "python",
   "pygments_lexer": "ipython3",
   "version": "3.8.3"
  }
 },
 "nbformat": 4,
 "nbformat_minor": 4
}
