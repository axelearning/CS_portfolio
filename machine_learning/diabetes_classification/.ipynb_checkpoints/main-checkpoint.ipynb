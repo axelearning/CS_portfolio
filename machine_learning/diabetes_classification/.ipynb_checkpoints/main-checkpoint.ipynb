{
 "cells": [
  {
   "cell_type": "code",
   "execution_count": 56,
   "metadata": {},
   "outputs": [],
   "source": [
    "import pandas as pd\n",
    "import numpy as np\n",
    "import sklearn \n",
    "import plotly.express as px\n",
    "\n",
    "np.random.seed(42)"
   ]
  },
  {
   "cell_type": "markdown",
   "metadata": {},
   "source": [
    "# 1. Get the Data\n",
    "___"
   ]
  },
  {
   "cell_type": "code",
   "execution_count": 57,
   "metadata": {},
   "outputs": [],
   "source": [
    "df = pd.read_csv(\"diabetes.csv\")"
   ]
  },
  {
   "cell_type": "markdown",
   "metadata": {},
   "source": [
    "## Take a quick look at the structure"
   ]
  },
  {
   "cell_type": "code",
   "execution_count": 58,
   "metadata": {},
   "outputs": [
    {
     "name": "stdout",
     "output_type": "stream",
     "text": [
      "<class 'pandas.core.frame.DataFrame'>\n",
      "RangeIndex: 768 entries, 0 to 767\n",
      "Data columns (total 9 columns):\n",
      " #   Column                    Non-Null Count  Dtype  \n",
      "---  ------                    --------------  -----  \n",
      " 0   Pregnancies               768 non-null    int64  \n",
      " 1   Glucose                   768 non-null    int64  \n",
      " 2   BloodPressure             768 non-null    int64  \n",
      " 3   SkinThickness             768 non-null    int64  \n",
      " 4   Insulin                   768 non-null    int64  \n",
      " 5   BMI                       768 non-null    float64\n",
      " 6   DiabetesPedigreeFunction  768 non-null    float64\n",
      " 7   Age                       768 non-null    int64  \n",
      " 8   Outcome                   768 non-null    int64  \n",
      "dtypes: float64(2), int64(7)\n",
      "memory usage: 54.1 KB\n"
     ]
    }
   ],
   "source": [
    "df.info()"
   ]
  },
  {
   "cell_type": "code",
   "execution_count": 59,
   "metadata": {},
   "outputs": [
    {
     "data": {
      "text/html": [
       "<div>\n",
       "<style scoped>\n",
       "    .dataframe tbody tr th:only-of-type {\n",
       "        vertical-align: middle;\n",
       "    }\n",
       "\n",
       "    .dataframe tbody tr th {\n",
       "        vertical-align: top;\n",
       "    }\n",
       "\n",
       "    .dataframe thead th {\n",
       "        text-align: right;\n",
       "    }\n",
       "</style>\n",
       "<table border=\"1\" class=\"dataframe\">\n",
       "  <thead>\n",
       "    <tr style=\"text-align: right;\">\n",
       "      <th></th>\n",
       "      <th>Pregnancies</th>\n",
       "      <th>Glucose</th>\n",
       "      <th>BloodPressure</th>\n",
       "      <th>SkinThickness</th>\n",
       "      <th>Insulin</th>\n",
       "      <th>BMI</th>\n",
       "      <th>DiabetesPedigreeFunction</th>\n",
       "      <th>Age</th>\n",
       "      <th>Outcome</th>\n",
       "    </tr>\n",
       "  </thead>\n",
       "  <tbody>\n",
       "    <tr>\n",
       "      <th>0</th>\n",
       "      <td>6</td>\n",
       "      <td>148</td>\n",
       "      <td>72</td>\n",
       "      <td>35</td>\n",
       "      <td>0</td>\n",
       "      <td>33.6</td>\n",
       "      <td>0.627</td>\n",
       "      <td>50</td>\n",
       "      <td>1</td>\n",
       "    </tr>\n",
       "    <tr>\n",
       "      <th>1</th>\n",
       "      <td>1</td>\n",
       "      <td>85</td>\n",
       "      <td>66</td>\n",
       "      <td>29</td>\n",
       "      <td>0</td>\n",
       "      <td>26.6</td>\n",
       "      <td>0.351</td>\n",
       "      <td>31</td>\n",
       "      <td>0</td>\n",
       "    </tr>\n",
       "    <tr>\n",
       "      <th>2</th>\n",
       "      <td>8</td>\n",
       "      <td>183</td>\n",
       "      <td>64</td>\n",
       "      <td>0</td>\n",
       "      <td>0</td>\n",
       "      <td>23.3</td>\n",
       "      <td>0.672</td>\n",
       "      <td>32</td>\n",
       "      <td>1</td>\n",
       "    </tr>\n",
       "    <tr>\n",
       "      <th>3</th>\n",
       "      <td>1</td>\n",
       "      <td>89</td>\n",
       "      <td>66</td>\n",
       "      <td>23</td>\n",
       "      <td>94</td>\n",
       "      <td>28.1</td>\n",
       "      <td>0.167</td>\n",
       "      <td>21</td>\n",
       "      <td>0</td>\n",
       "    </tr>\n",
       "    <tr>\n",
       "      <th>4</th>\n",
       "      <td>0</td>\n",
       "      <td>137</td>\n",
       "      <td>40</td>\n",
       "      <td>35</td>\n",
       "      <td>168</td>\n",
       "      <td>43.1</td>\n",
       "      <td>2.288</td>\n",
       "      <td>33</td>\n",
       "      <td>1</td>\n",
       "    </tr>\n",
       "  </tbody>\n",
       "</table>\n",
       "</div>"
      ],
      "text/plain": [
       "   Pregnancies  Glucose  BloodPressure  SkinThickness  Insulin   BMI  \\\n",
       "0            6      148             72             35        0  33.6   \n",
       "1            1       85             66             29        0  26.6   \n",
       "2            8      183             64              0        0  23.3   \n",
       "3            1       89             66             23       94  28.1   \n",
       "4            0      137             40             35      168  43.1   \n",
       "\n",
       "   DiabetesPedigreeFunction  Age  Outcome  \n",
       "0                     0.627   50        1  \n",
       "1                     0.351   31        0  \n",
       "2                     0.672   32        1  \n",
       "3                     0.167   21        0  \n",
       "4                     2.288   33        1  "
      ]
     },
     "execution_count": 59,
     "metadata": {},
     "output_type": "execute_result"
    }
   ],
   "source": [
    "df.head(5)"
   ]
  },
  {
   "cell_type": "code",
   "execution_count": 60,
   "metadata": {},
   "outputs": [
    {
     "data": {
      "text/html": [
       "<div>\n",
       "<style scoped>\n",
       "    .dataframe tbody tr th:only-of-type {\n",
       "        vertical-align: middle;\n",
       "    }\n",
       "\n",
       "    .dataframe tbody tr th {\n",
       "        vertical-align: top;\n",
       "    }\n",
       "\n",
       "    .dataframe thead th {\n",
       "        text-align: right;\n",
       "    }\n",
       "</style>\n",
       "<table border=\"1\" class=\"dataframe\">\n",
       "  <thead>\n",
       "    <tr style=\"text-align: right;\">\n",
       "      <th></th>\n",
       "      <th>Pregnancies</th>\n",
       "      <th>Glucose</th>\n",
       "      <th>BloodPressure</th>\n",
       "      <th>SkinThickness</th>\n",
       "      <th>Insulin</th>\n",
       "      <th>BMI</th>\n",
       "      <th>DiabetesPedigreeFunction</th>\n",
       "      <th>Age</th>\n",
       "      <th>Outcome</th>\n",
       "    </tr>\n",
       "  </thead>\n",
       "  <tbody>\n",
       "    <tr>\n",
       "      <th>count</th>\n",
       "      <td>768.000000</td>\n",
       "      <td>768.000000</td>\n",
       "      <td>768.000000</td>\n",
       "      <td>768.000000</td>\n",
       "      <td>768.000000</td>\n",
       "      <td>768.000000</td>\n",
       "      <td>768.000000</td>\n",
       "      <td>768.000000</td>\n",
       "      <td>768.000000</td>\n",
       "    </tr>\n",
       "    <tr>\n",
       "      <th>mean</th>\n",
       "      <td>3.845052</td>\n",
       "      <td>120.894531</td>\n",
       "      <td>69.105469</td>\n",
       "      <td>20.536458</td>\n",
       "      <td>79.799479</td>\n",
       "      <td>31.992578</td>\n",
       "      <td>0.471876</td>\n",
       "      <td>33.240885</td>\n",
       "      <td>0.348958</td>\n",
       "    </tr>\n",
       "    <tr>\n",
       "      <th>std</th>\n",
       "      <td>3.369578</td>\n",
       "      <td>31.972618</td>\n",
       "      <td>19.355807</td>\n",
       "      <td>15.952218</td>\n",
       "      <td>115.244002</td>\n",
       "      <td>7.884160</td>\n",
       "      <td>0.331329</td>\n",
       "      <td>11.760232</td>\n",
       "      <td>0.476951</td>\n",
       "    </tr>\n",
       "    <tr>\n",
       "      <th>min</th>\n",
       "      <td>0.000000</td>\n",
       "      <td>0.000000</td>\n",
       "      <td>0.000000</td>\n",
       "      <td>0.000000</td>\n",
       "      <td>0.000000</td>\n",
       "      <td>0.000000</td>\n",
       "      <td>0.078000</td>\n",
       "      <td>21.000000</td>\n",
       "      <td>0.000000</td>\n",
       "    </tr>\n",
       "    <tr>\n",
       "      <th>25%</th>\n",
       "      <td>1.000000</td>\n",
       "      <td>99.000000</td>\n",
       "      <td>62.000000</td>\n",
       "      <td>0.000000</td>\n",
       "      <td>0.000000</td>\n",
       "      <td>27.300000</td>\n",
       "      <td>0.243750</td>\n",
       "      <td>24.000000</td>\n",
       "      <td>0.000000</td>\n",
       "    </tr>\n",
       "    <tr>\n",
       "      <th>50%</th>\n",
       "      <td>3.000000</td>\n",
       "      <td>117.000000</td>\n",
       "      <td>72.000000</td>\n",
       "      <td>23.000000</td>\n",
       "      <td>30.500000</td>\n",
       "      <td>32.000000</td>\n",
       "      <td>0.372500</td>\n",
       "      <td>29.000000</td>\n",
       "      <td>0.000000</td>\n",
       "    </tr>\n",
       "    <tr>\n",
       "      <th>75%</th>\n",
       "      <td>6.000000</td>\n",
       "      <td>140.250000</td>\n",
       "      <td>80.000000</td>\n",
       "      <td>32.000000</td>\n",
       "      <td>127.250000</td>\n",
       "      <td>36.600000</td>\n",
       "      <td>0.626250</td>\n",
       "      <td>41.000000</td>\n",
       "      <td>1.000000</td>\n",
       "    </tr>\n",
       "    <tr>\n",
       "      <th>max</th>\n",
       "      <td>17.000000</td>\n",
       "      <td>199.000000</td>\n",
       "      <td>122.000000</td>\n",
       "      <td>99.000000</td>\n",
       "      <td>846.000000</td>\n",
       "      <td>67.100000</td>\n",
       "      <td>2.420000</td>\n",
       "      <td>81.000000</td>\n",
       "      <td>1.000000</td>\n",
       "    </tr>\n",
       "  </tbody>\n",
       "</table>\n",
       "</div>"
      ],
      "text/plain": [
       "       Pregnancies     Glucose  BloodPressure  SkinThickness     Insulin  \\\n",
       "count   768.000000  768.000000     768.000000     768.000000  768.000000   \n",
       "mean      3.845052  120.894531      69.105469      20.536458   79.799479   \n",
       "std       3.369578   31.972618      19.355807      15.952218  115.244002   \n",
       "min       0.000000    0.000000       0.000000       0.000000    0.000000   \n",
       "25%       1.000000   99.000000      62.000000       0.000000    0.000000   \n",
       "50%       3.000000  117.000000      72.000000      23.000000   30.500000   \n",
       "75%       6.000000  140.250000      80.000000      32.000000  127.250000   \n",
       "max      17.000000  199.000000     122.000000      99.000000  846.000000   \n",
       "\n",
       "              BMI  DiabetesPedigreeFunction         Age     Outcome  \n",
       "count  768.000000                768.000000  768.000000  768.000000  \n",
       "mean    31.992578                  0.471876   33.240885    0.348958  \n",
       "std      7.884160                  0.331329   11.760232    0.476951  \n",
       "min      0.000000                  0.078000   21.000000    0.000000  \n",
       "25%     27.300000                  0.243750   24.000000    0.000000  \n",
       "50%     32.000000                  0.372500   29.000000    0.000000  \n",
       "75%     36.600000                  0.626250   41.000000    1.000000  \n",
       "max     67.100000                  2.420000   81.000000    1.000000  "
      ]
     },
     "execution_count": 60,
     "metadata": {},
     "output_type": "execute_result"
    }
   ],
   "source": [
    "df.describe()"
   ]
  },
  {
   "cell_type": "code",
   "execution_count": 61,
   "metadata": {},
   "outputs": [
    {
     "data": {
      "text/plain": [
       "array([[<matplotlib.axes._subplots.AxesSubplot object at 0x7f898bdbbb20>,\n",
       "        <matplotlib.axes._subplots.AxesSubplot object at 0x7f898bca2fd0>,\n",
       "        <matplotlib.axes._subplots.AxesSubplot object at 0x7f898bf0d460>],\n",
       "       [<matplotlib.axes._subplots.AxesSubplot object at 0x7f898bed28e0>,\n",
       "        <matplotlib.axes._subplots.AxesSubplot object at 0x7f898bf92d30>,\n",
       "        <matplotlib.axes._subplots.AxesSubplot object at 0x7f898c7f8100>],\n",
       "       [<matplotlib.axes._subplots.AxesSubplot object at 0x7f898c7f81f0>,\n",
       "        <matplotlib.axes._subplots.AxesSubplot object at 0x7f898c2e56a0>,\n",
       "        <matplotlib.axes._subplots.AxesSubplot object at 0x7f898c4bbeb0>]],\n",
       "      dtype=object)"
      ]
     },
     "execution_count": 61,
     "metadata": {},
     "output_type": "execute_result"
    },
    {
     "data": {
      "image/png": "[encoded data removed]",
      "text/plain": [
       "<Figure size 1440x1080 with 9 Axes>"
      ]
     },
     "metadata": {
      "needs_background": "light"
     },
     "output_type": "display_data"
    }
   ],
   "source": [
    "df.hist(bins=50, figsize=(20,15))"
   ]
  },
  {
   "cell_type": "markdown",
   "metadata": {},
   "source": [
    "## Create a Test Set"
   ]
  },
  {
   "cell_type": "code",
   "execution_count": 62,
   "metadata": {},
   "outputs": [],
   "source": [
    "from sklearn.model_selection import train_test_split\n",
    "\n",
    "train_set, test_set = train_test_split(df, test_size=0.2, random_state=42)"
   ]
  },
  {
   "cell_type": "code",
   "execution_count": 63,
   "metadata": {},
   "outputs": [
    {
     "data": {
      "text/plain": [
       "(614, 9)"
      ]
     },
     "execution_count": 63,
     "metadata": {},
     "output_type": "execute_result"
    }
   ],
   "source": [
    "train_set.shape"
   ]
  },
  {
   "cell_type": "code",
   "execution_count": 64,
   "metadata": {},
   "outputs": [
    {
     "data": {
      "text/plain": [
       "(154, 9)"
      ]
     },
     "execution_count": 64,
     "metadata": {},
     "output_type": "execute_result"
    }
   ],
   "source": [
    "test_set.shape"
   ]
  },
  {
   "cell_type": "markdown",
   "metadata": {},
   "source": [
    "# 2. Explore the data\n",
    "---"
   ]
  },
  {
   "cell_type": "code",
   "execution_count": 65,
   "metadata": {},
   "outputs": [],
   "source": [
    "diabetes = train_set.copy()"
   ]
  },
  {
   "cell_type": "markdown",
   "metadata": {},
   "source": [
    "## Study each attribute and its characteristics \n",
    "\n",
    "- Name\n",
    "- Type (categorical, int/float, bounded/unbounded, text, structured, etc.)\n",
    "- % of missing values\n",
    "- Noisiness and type of noise (stochastic, outliers, logarithmic, etc)\n",
    "- Possibly usefull for the task?\n",
    "- Type of distribution (Gaussian, uniform, logarithmic, etc)"
   ]
  },
  {
   "cell_type": "markdown",
   "metadata": {},
   "source": [
    "\n",
    "### Features\n",
    "- __Pregnancies__, categorical data with 17 stages. What this stages means?\n",
    "- __Glucose__, Plasma glucose concentration a 2 hours in an oral glucose tolerance test, integer range between 0 to 199, normal distribution with possible outliers in 0\n",
    "- __BloodPresure__, diastolic blood pressure integers between 0 to 122 (mm Hg) normal distribution with possible outliers in 0 \n",
    "- __SkinThickness__, integer between 0 to 63 mm, normal distribution with possible outliers in 0\n",
    "- __Insulin__, 2-Hour serum insulin integer between 0 to 846 mu U/ml, with possible outliers in 0\n",
    "- __BMI__, Body mass index, floats between0 to 97 $(kg/m^2)$ (possible outliers in 0), normal distribution with possible outliers in 0\n",
    "    - BMI < 18.5, underweight\n",
    "    - 18.5 < BMI <25, normal\n",
    "    - 25.0 < BMI <30, overweight\n",
    "    - BMI >30.0, obese\n",
    "- __Age__, integers between 21 to 81 logarithmic distribution\n",
    "- __DiabetesPedigreeFunction__, a function that represents how likely they are to get the disease by extrapolating from their ancestor’s history, float between 0.08 to 2.42\n",
    "\n",
    "### Target\n",
    "- __Outcome__, boolean with 0 means no diabete, 1 diabete --> 34% diabetes in this sample \n",
    "\n",
    "  \n",
    "### ⚠️ No missing values, but some value are set to 0 and look weird \n",
    "\n",
    "\n"
   ]
  },
  {
   "cell_type": "code",
   "execution_count": 66,
   "metadata": {},
   "outputs": [
    {
     "data": {
      "text/plain": [
       "array([[<matplotlib.axes._subplots.AxesSubplot object at 0x7f898a338bb0>,\n",
       "        <matplotlib.axes._subplots.AxesSubplot object at 0x7f898a59c400>,\n",
       "        <matplotlib.axes._subplots.AxesSubplot object at 0x7f898a5acaf0>],\n",
       "       [<matplotlib.axes._subplots.AxesSubplot object at 0x7f898b36b370>,\n",
       "        <matplotlib.axes._subplots.AxesSubplot object at 0x7f898b382a90>,\n",
       "        <matplotlib.axes._subplots.AxesSubplot object at 0x7f898b3a6190>],\n",
       "       [<matplotlib.axes._subplots.AxesSubplot object at 0x7f898b3a6280>,\n",
       "        <matplotlib.axes._subplots.AxesSubplot object at 0x7f898b3c0a60>,\n",
       "        <matplotlib.axes._subplots.AxesSubplot object at 0x7f898b3fe910>]],\n",
       "      dtype=object)"
      ]
     },
     "execution_count": 66,
     "metadata": {},
     "output_type": "execute_result"
    },
    {
     "data": {
      "image/png": "[encoded data removed]",
      "text/plain": [
       "<Figure size 1440x1080 with 9 Axes>"
      ]
     },
     "metadata": {
      "needs_background": "light"
     },
     "output_type": "display_data"
    }
   ],
   "source": [
    "diabetes.hist(bins=50, figsize=(20,15))"
   ]
  },
  {
   "cell_type": "markdown",
   "metadata": {},
   "source": [
    "weird values in 0 for skinthickness, glucose, bloodPressure, age insulin seems to be outliers. Let's investigate"
   ]
  },
  {
   "cell_type": "code",
   "execution_count": 67,
   "metadata": {},
   "outputs": [
    {
     "data": {
      "text/html": [
       "<div>\n",
       "<style scoped>\n",
       "    .dataframe tbody tr th:only-of-type {\n",
       "        vertical-align: middle;\n",
       "    }\n",
       "\n",
       "    .dataframe tbody tr th {\n",
       "        vertical-align: top;\n",
       "    }\n",
       "\n",
       "    .dataframe thead th {\n",
       "        text-align: right;\n",
       "    }\n",
       "</style>\n",
       "<table border=\"1\" class=\"dataframe\">\n",
       "  <thead>\n",
       "    <tr style=\"text-align: right;\">\n",
       "      <th></th>\n",
       "      <th>Pregnancies</th>\n",
       "      <th>Glucose</th>\n",
       "      <th>BloodPressure</th>\n",
       "      <th>SkinThickness</th>\n",
       "      <th>Insulin</th>\n",
       "      <th>BMI</th>\n",
       "      <th>DiabetesPedigreeFunction</th>\n",
       "      <th>Age</th>\n",
       "      <th>Outcome</th>\n",
       "    </tr>\n",
       "  </thead>\n",
       "  <tbody>\n",
       "    <tr>\n",
       "      <th>60</th>\n",
       "      <td>2</td>\n",
       "      <td>84</td>\n",
       "      <td>0</td>\n",
       "      <td>0</td>\n",
       "      <td>0</td>\n",
       "      <td>0.0</td>\n",
       "      <td>0.304</td>\n",
       "      <td>21</td>\n",
       "      <td>0</td>\n",
       "    </tr>\n",
       "    <tr>\n",
       "      <th>535</th>\n",
       "      <td>4</td>\n",
       "      <td>132</td>\n",
       "      <td>0</td>\n",
       "      <td>0</td>\n",
       "      <td>0</td>\n",
       "      <td>32.9</td>\n",
       "      <td>0.302</td>\n",
       "      <td>23</td>\n",
       "      <td>1</td>\n",
       "    </tr>\n",
       "    <tr>\n",
       "      <th>357</th>\n",
       "      <td>13</td>\n",
       "      <td>129</td>\n",
       "      <td>0</td>\n",
       "      <td>30</td>\n",
       "      <td>0</td>\n",
       "      <td>39.9</td>\n",
       "      <td>0.569</td>\n",
       "      <td>44</td>\n",
       "      <td>1</td>\n",
       "    </tr>\n",
       "    <tr>\n",
       "      <th>703</th>\n",
       "      <td>2</td>\n",
       "      <td>129</td>\n",
       "      <td>0</td>\n",
       "      <td>0</td>\n",
       "      <td>0</td>\n",
       "      <td>38.5</td>\n",
       "      <td>0.304</td>\n",
       "      <td>41</td>\n",
       "      <td>0</td>\n",
       "    </tr>\n",
       "    <tr>\n",
       "      <th>619</th>\n",
       "      <td>0</td>\n",
       "      <td>119</td>\n",
       "      <td>0</td>\n",
       "      <td>0</td>\n",
       "      <td>0</td>\n",
       "      <td>32.4</td>\n",
       "      <td>0.141</td>\n",
       "      <td>24</td>\n",
       "      <td>1</td>\n",
       "    </tr>\n",
       "  </tbody>\n",
       "</table>\n",
       "</div>"
      ],
      "text/plain": [
       "     Pregnancies  Glucose  BloodPressure  SkinThickness  Insulin   BMI  \\\n",
       "60             2       84              0              0        0   0.0   \n",
       "535            4      132              0              0        0  32.9   \n",
       "357           13      129              0             30        0  39.9   \n",
       "703            2      129              0              0        0  38.5   \n",
       "619            0      119              0              0        0  32.4   \n",
       "\n",
       "     DiabetesPedigreeFunction  Age  Outcome  \n",
       "60                      0.304   21        0  \n",
       "535                     0.302   23        1  \n",
       "357                     0.569   44        1  \n",
       "703                     0.304   41        0  \n",
       "619                     0.141   24        1  "
      ]
     },
     "execution_count": 67,
     "metadata": {},
     "output_type": "execute_result"
    }
   ],
   "source": [
    "diabetes[diabetes['BloodPressure'] == 0][:5]"
   ]
  },
  {
   "cell_type": "markdown",
   "metadata": {},
   "source": [
    "### What is Diabetes?\n",
    "__Diabetes__ is a disease that occurs when your __blood glucose__, also called blood sugar, is too high. Blood glucose is your main source of energy and comes from the food you eat. __Insulin__, a hormone made by the pancreas, helps glucose from food get into your cells to be used for energy."
   ]
  },
  {
   "cell_type": "markdown",
   "metadata": {},
   "source": [
    "### Blood pressure, skin thickness, BMI  can't be 0 \n",
    "\n",
    "### Can glucose level be zero?\n",
    "Our body works normal and likes to maintain a blood glucose level of around 70–120 mg/dl. This range of blood glucose level is also called sweet spot. If the glucose level in the body reduces below 60mg/dl, the human can go unconscious. This state is called diabetic coma. Meaning coma caused by too less glucose level. This condition is considered to be serious. If the medical help is provided in time, the health is restored. If the glucose level falls below 40 mg/dl, even the brain may stop working. The health can not be restored.\n",
    "__glucose can't not be 0__\n",
    "\n",
    "### Can insulin level be zero?\n",
    "So a fasting insulin level should never be 0, which it might be in a person with untreated Type 1. It shouldn't go below 3. But a high insulin level is just as problematic. A high insulin level is a sign of insulin resistance or prediabetes.\n",
    "\n",
    "### A lot of outliers for `SkinThickness`"
   ]
  },
  {
   "cell_type": "code",
   "execution_count": 68,
   "metadata": {},
   "outputs": [
    {
     "data": {
      "text/plain": [
       "False    438\n",
       "True     176\n",
       "Name: SkinThickness, dtype: int64"
      ]
     },
     "execution_count": 68,
     "metadata": {},
     "output_type": "execute_result"
    }
   ],
   "source": [
    "(diabetes['SkinThickness'] == 0).value_counts()"
   ]
  },
  {
   "cell_type": "code",
   "execution_count": 69,
   "metadata": {},
   "outputs": [
    {
     "data": {
      "text/plain": [
       "array([[<matplotlib.axes._subplots.AxesSubplot object at 0x7f898a3380a0>,\n",
       "        <matplotlib.axes._subplots.AxesSubplot object at 0x7f898de37130>,\n",
       "        <matplotlib.axes._subplots.AxesSubplot object at 0x7f898dec42e0>],\n",
       "       [<matplotlib.axes._subplots.AxesSubplot object at 0x7f898dee4a30>,\n",
       "        <matplotlib.axes._subplots.AxesSubplot object at 0x7f898e3eb1f0>,\n",
       "        <matplotlib.axes._subplots.AxesSubplot object at 0x7f898e4138b0>],\n",
       "       [<matplotlib.axes._subplots.AxesSubplot object at 0x7f898e4139a0>,\n",
       "        <matplotlib.axes._subplots.AxesSubplot object at 0x7f898e4491c0>,\n",
       "        <matplotlib.axes._subplots.AxesSubplot object at 0x7f898e49b0d0>]],\n",
       "      dtype=object)"
      ]
     },
     "execution_count": 69,
     "metadata": {},
     "output_type": "execute_result"
    },
    {
     "data": {
      "image/png": "[encoded data removed]",
      "text/plain": [
       "<Figure size 1440x1080 with 9 Axes>"
      ]
     },
     "metadata": {
      "needs_background": "light"
     },
     "output_type": "display_data"
    }
   ],
   "source": [
    "diabetes[diabetes['SkinThickness'] != 0].hist(bins=50, figsize=(20,15))"
   ]
  },
  {
   "cell_type": "markdown",
   "metadata": {},
   "source": [
    "## Visualize the data to Gain Insights "
   ]
  },
  {
   "cell_type": "code",
   "execution_count": 70,
   "metadata": {},
   "outputs": [],
   "source": [
    "import plotly.express as px"
   ]
  },
  {
   "cell_type": "code",
   "execution_count": 71,
   "metadata": {},
   "outputs": [
    {
     "data": {
      "application/vnd.plotly.v1+json": {
       "config": {
        "plotlyServerURL": "https://plot.ly"
       },
       "data": [
        {
         "hovertemplate": "Glucose=%{x}<br>BMI=%{y}<br>Outcome=%{marker.color}<extra></extra>",
         "legendgroup": "",
         "marker": {
          "color": [
           0,
           1,
           0,
           0,
           1,
           0,
           1,
           1,
           0,
           0,
           0,
           1,
           0,
           0,
           0,
           1,
           0,
           1,
           1,
           0,
           0,
           0,
           0,
           0,
           1,
           1,
           0,
           0,
           0,
           1,
           1,
           0,
           0,
           0,
           1,
           0,
           1,
           0,
           1,
           0,
           0,
           0,
           0,
           0,
           1,
           1,
           0,
           0,
           1,
           0,
           0,
           0,
           0,
           0,
           1,
           1,
           0,
           0,
           0,
           0,
           1,
           0,
           0,
           1,
           0,
           0,
           1,
           0,
           0,
           0,
           0,
           0,
           1,
           1,
           0,
           0,
           0,
           0,
           0,
           1,
           0,
           0,
           0,
           0,
           1,
           1,
           0,
           0,
           1,
           0,
           0,
           0,
           0,
           0,
           0,
           0,
           1,
           0,
           1,
           0,
           0,
           0,
           0,
           1,
           0,
           0,
           0,
           1,
           0,
           0,
           0,
           0,
           0,
           0,
           0,
           0,
           0,
           0,
           1,
           1,
           0,
           0,
           0,
           1,
           0,
           0,
           0,
           1,
           1,
           1,
           0,
           0,
           1,
           1,
           0,
           0,
           0,
           0,
           1,
           0,
           1,
           0,
           0,
           1,
           1,
           0,
           0,
           1,
           1,
           0,
           0,
           0,
           0,
           0,
           0,
           1,
           0,
           1,
           1,
           0,
           0,
           0,
           1,
           0,
           0,
           0,
           1,
           1,
           1,
           0,
           1,
           0,
           0,
           0,
           0,
           0,
           0,
           0,
           0,
           1,
           1,
           0,
           1,
           1,
           0,
           0,
           1,
           0,
           0,
           1,
           1,
           1,
           0,
           0,
           0,
           0,
           0,
           1,
           0,
           1,
           0,
           0,
           0,
           0,
           0,
           0,
           0,
           1,
           1,
           0,
           0,
           0,
           0,
           0,
           0,
           0,
           1,
           0,
           1,
           1,
           1,
           0,
           0,
           0,
           0,
           0,
           1,
           1,
           1,
           1,
           0,
           0,
           1,
           0,
           0,
           1,
           1,
           0,
           1,
           1,
           0,
           1,
           0,
           0,
           0,
           1,
           0,
           1,
           0,
           1,
           0,
           0,
           0,
           1,
           1,
           0,
           1,
           0,
           0,
           1,
           0,
           1,
           0,
           0,
           1,
           0,
           0,
           1,
           0,
           0,
           1,
           0,
           1,
           1,
           0,
           0,
           0,
           0,
           1,
           1,
           0,
           1,
           0,
           0,
           1,
           0,
           1,
           0,
           1,
           0,
           0,
           0,
           0,
           1,
           1,
           1,
           1,
           1,
           0,
           0,
           0,
           0,
           1,
           1,
           0,
           0,
           0,
           1,
           0,
           1,
           0,
           0,
           0,
           0,
           0,
           1,
           1,
           0,
           1,
           1,
           1,
           1,
           1,
           0,
           0,
           0,
           0,
           0,
           1,
           1,
           0,
           1,
           1,
           0,
           0,
           1,
           0,
           1,
           0,
           0,
           0,
           0,
           0,
           0,
           1,
           0,
           1,
           0,
           0,
           0,
           1,
           0,
           1,
           1,
           1,
           0,
           0,
           0,
           0,
           0,
           0,
           0,
           0,
           0,
           0,
           0,
           1,
           0,
           0,
           0,
           1,
           0,
           1,
           0,
           0,
           1,
           0,
           1,
           0,
           0,
           0,
           1,
           0,
           0,
           1,
           0,
           0,
           0,
           0,
           1,
           0,
           0,
           0,
           0,
           0,
           1,
           0,
           0,
           0,
           0,
           0,
           0,
           0,
           0,
           1,
           1,
           0,
           0,
           0,
           1,
           0,
           0,
           1,
           0,
           1,
           0,
           1,
           1,
           0,
           0,
           0,
           0,
           0,
           1,
           1,
           1,
           1,
           0,
           0,
           0,
           1,
           1,
           1,
           1,
           0,
           1,
           0,
           0,
           0,
           0,
           0,
           0,
           0,
           0,
           0,
           0,
           0,
           0,
           1,
           0,
           0,
           0,
           0,
           0,
           0,
           0,
           0,
           0,
           1,
           0,
           0,
           0,
           0,
           0,
           1,
           0,
           0,
           0,
           1,
           0,
           1,
           1,
           0,
           0,
           1,
           1,
           0,
           0,
           1,
           0,
           0,
           0,
           0,
           0,
           0,
           1,
           1,
           0,
           1,
           0,
           0,
           1,
           1,
           0,
           1,
           1,
           0,
           0,
           1,
           1,
           0,
           0,
           0,
           0,
           0,
           1,
           1,
           0,
           1,
           0,
           0,
           1,
           1,
           1,
           0,
           0,
           0,
           1,
           1,
           0,
           0,
           1,
           1,
           0,
           0,
           0,
           0,
           1,
           1,
           0,
           1,
           0,
           0,
           0,
           1,
           0,
           1,
           0,
           0,
           0,
           0,
           1,
           0,
           0,
           0,
           0,
           0,
           1,
           0,
           0,
           0,
           0,
           1,
           0,
           1,
           0,
           1,
           0,
           0,
           0,
           1,
           0,
           0,
           1,
           0,
           0,
           1,
           1,
           1,
           1,
           0,
           1,
           0,
           0,
           0,
           1,
           0,
           0,
           1,
           1,
           0,
           0,
           1,
           0,
           0,
           0,
           0,
           0,
           1,
           0,
           0,
           0,
           0,
           0,
           1,
           1,
           1,
           1,
           1,
           0,
           0,
           1,
           0,
           1,
           0,
           0,
           1,
           0,
           0,
           0,
           0,
           1,
           1,
           0
          ],
          "coloraxis": "coloraxis",
          "symbol": "circle"
         },
         "mode": "markers",
         "name": "",
         "orientation": "v",
         "showlegend": false,
         "type": "scatter",
         "x": [
          84,
          112,
          139,
          161,
          134,
          130,
          132,
          161,
          108,
          80,
          87,
          171,
          88,
          146,
          191,
          122,
          159,
          100,
          123,
          123,
          155,
          102,
          125,
          100,
          104,
          131,
          145,
          152,
          100,
          147,
          128,
          100,
          80,
          84,
          194,
          123,
          78,
          106,
          129,
          129,
          61,
          81,
          102,
          99,
          107,
          170,
          85,
          102,
          97,
          127,
          133,
          94,
          83,
          123,
          187,
          152,
          129,
          106,
          111,
          111,
          143,
          124,
          165,
          108,
          137,
          179,
          171,
          83,
          101,
          120,
          89,
          129,
          119,
          109,
          127,
          105,
          77,
          95,
          105,
          135,
          131,
          103,
          82,
          128,
          122,
          138,
          125,
          101,
          133,
          111,
          95,
          117,
          165,
          109,
          110,
          106,
          95,
          0,
          143,
          101,
          115,
          142,
          116,
          126,
          78,
          99,
          143,
          128,
          85,
          87,
          106,
          100,
          124,
          95,
          79,
          107,
          90,
          85,
          160,
          162,
          81,
          107,
          107,
          144,
          114,
          134,
          127,
          180,
          168,
          171,
          106,
          120,
          195,
          145,
          105,
          143,
          80,
          76,
          129,
          86,
          129,
          114,
          117,
          189,
          100,
          126,
          111,
          144,
          189,
          101,
          100,
          73,
          0,
          119,
          94,
          125,
          111,
          196,
          158,
          97,
          121,
          108,
          151,
          103,
          99,
          117,
          134,
          133,
          180,
          114,
          108,
          141,
          94,
          99,
          153,
          0,
          102,
          104,
          95,
          142,
          109,
          108,
          181,
          136,
          106,
          78,
          88,
          128,
          108,
          164,
          148,
          190,
          81,
          68,
          90,
          114,
          124,
          124,
          197,
          186,
          127,
          91,
          106,
          115,
          122,
          154,
          132,
          173,
          169,
          126,
          102,
          107,
          137,
          80,
          119,
          146,
          0,
          118,
          188,
          141,
          158,
          93,
          157,
          144,
          105,
          133,
          115,
          163,
          180,
          144,
          141,
          115,
          130,
          150,
          82,
          117,
          102,
          90,
          113,
          174,
          154,
          194,
          91,
          166,
          140,
          123,
          119,
          112,
          90,
          93,
          108,
          111,
          106,
          193,
          125,
          129,
          115,
          87,
          132,
          155,
          100,
          187,
          139,
          101,
          197,
          120,
          90,
          125,
          108,
          111,
          90,
          130,
          184,
          100,
          128,
          97,
          116,
          122,
          111,
          188,
          120,
          97,
          95,
          99,
          119,
          76,
          125,
          79,
          196,
          82,
          100,
          107,
          119,
          146,
          107,
          130,
          124,
          113,
          125,
          183,
          65,
          111,
          146,
          174,
          97,
          142,
          87,
          144,
          126,
          121,
          128,
          57,
          56,
          124,
          116,
          181,
          180,
          154,
          124,
          134,
          118,
          103,
          140,
          110,
          89,
          92,
          84,
          99,
          128,
          158,
          95,
          164,
          161,
          92,
          136,
          163,
          87,
          147,
          92,
          142,
          147,
          103,
          147,
          117,
          102,
          109,
          179,
          99,
          122,
          154,
          173,
          117,
          120,
          179,
          155,
          118,
          130,
          85,
          120,
          112,
          94,
          109,
          114,
          102,
          114,
          114,
          156,
          105,
          84,
          112,
          155,
          101,
          90,
          81,
          94,
          129,
          99,
          176,
          114,
          72,
          117,
          162,
          91,
          89,
          197,
          90,
          138,
          91,
          86,
          115,
          93,
          103,
          116,
          95,
          126,
          138,
          136,
          105,
          136,
          116,
          99,
          106,
          57,
          92,
          129,
          151,
          99,
          88,
          157,
          181,
          132,
          101,
          108,
          106,
          107,
          108,
          128,
          95,
          107,
          73,
          108,
          97,
          122,
          173,
          125,
          105,
          136,
          111,
          96,
          99,
          112,
          130,
          176,
          168,
          67,
          116,
          153,
          120,
          128,
          92,
          83,
          110,
          89,
          79,
          165,
          105,
          122,
          106,
          182,
          102,
          140,
          88,
          193,
          133,
          98,
          125,
          100,
          92,
          114,
          119,
          116,
          75,
          137,
          158,
          129,
          127,
          117,
          97,
          118,
          110,
          139,
          163,
          125,
          103,
          100,
          102,
          162,
          123,
          149,
          144,
          99,
          91,
          143,
          120,
          88,
          156,
          196,
          131,
          131,
          120,
          125,
          137,
          147,
          107,
          168,
          187,
          93,
          98,
          115,
          0,
          71,
          88,
          113,
          96,
          97,
          121,
          142,
          194,
          156,
          96,
          83,
          166,
          132,
          195,
          129,
          44,
          137,
          179,
          117,
          81,
          68,
          114,
          166,
          99,
          180,
          99,
          93,
          128,
          109,
          88,
          115,
          151,
          129,
          71,
          175,
          121,
          146,
          138,
          102,
          124,
          137,
          105,
          126,
          95,
          100,
          85,
          94,
          198,
          113,
          111,
          122,
          84,
          181,
          100,
          124,
          123,
          178,
          91,
          126,
          91,
          189,
          112,
          108,
          105,
          71,
          148,
          170,
          167,
          145,
          136,
          96,
          119,
          99,
          87,
          130,
          139,
          118,
          137,
          162,
          84,
          146,
          114,
          125,
          90,
          99,
          113,
          134,
          151,
          106,
          123,
          119,
          143,
          89,
          122,
          128,
          199,
          173,
          145,
          122,
          84,
          100,
          148,
          118,
          112,
          74,
          111,
          138,
          126,
          122,
          139,
          96,
          101,
          141,
          125
         ],
         "xaxis": "x",
         "y": [
          0,
          28.2,
          28.7,
          21.9,
          46.2,
          25.9,
          32.9,
          25.5,
          35.5,
          19.1,
          37.2,
          43.6,
          29,
          28.9,
          30.9,
          33.3,
          27.4,
          32.9,
          32,
          57.3,
          38.7,
          29.3,
          33.8,
          30,
          29.9,
          31.6,
          22.2,
          41.5,
          38.7,
          49.3,
          43.3,
          30.8,
          30,
          36.9,
          23.5,
          33.6,
          31,
          25.8,
          39.9,
          35.1,
          34.4,
          30.1,
          0,
          25.6,
          36.6,
          34.5,
          30.1,
          34.5,
          35.6,
          27.7,
          40.2,
          31.6,
          34.3,
          35.2,
          37.7,
          26.8,
          33.2,
          37.5,
          29.5,
          24.6,
          36.6,
          21.8,
          52.3,
          30.5,
          31.2,
          35.1,
          33.3,
          29.3,
          24.2,
          30.5,
          22.5,
          38.5,
          32.4,
          34.8,
          36.3,
          30.8,
          35.8,
          23.9,
          36.9,
          42.3,
          33.1,
          43.3,
          28.5,
          21.1,
          35.1,
          36.3,
          24.7,
          24.6,
          32.9,
          26.2,
          35.4,
          34.1,
          47.9,
          23.1,
          27.8,
          39.4,
          35,
          27.7,
          34.9,
          24.2,
          24,
          28.8,
          22.1,
          30.1,
          32.5,
          25.4,
          42.4,
          36.5,
          31.2,
          21.8,
          23.6,
          29.7,
          35.4,
          44.6,
          32,
          36.8,
          28,
          39.6,
          30.5,
          24.3,
          46.7,
          30.8,
          26.5,
          38.5,
          23.8,
          26.4,
          34.4,
          36.5,
          38,
          45.4,
          22.7,
          29.6,
          30.9,
          32.5,
          20,
          45,
          39.8,
          32.8,
          67.1,
          41.3,
          36.4,
          28.7,
          28.7,
          34.3,
          30,
          25.9,
          30.1,
          32,
          31.2,
          21,
          25.3,
          21.1,
          32,
          19.6,
          0,
          0,
          30.1,
          39.8,
          31.6,
          18.2,
          39,
          26,
          42.9,
          27.6,
          20.4,
          25.2,
          23.8,
          32.8,
          43.3,
          0,
          27,
          27.6,
          43.5,
          34,
          40.6,
          24.7,
          40.6,
          27.8,
          19.6,
          30.4,
          27.9,
          25.2,
          35.9,
          37.1,
          34.2,
          33.7,
          55,
          27.5,
          36.1,
          30.8,
          33.6,
          35.5,
          27.5,
          35.5,
          24.5,
          24.9,
          27.8,
          34,
          36.7,
          34.5,
          34.5,
          29.8,
          34.2,
          38.1,
          29.8,
          32.8,
          28,
          36.8,
          29.9,
          29.6,
          25.1,
          26.4,
          24.8,
          26.2,
          45.3,
          29.7,
          41,
          0,
          32,
          30,
          39.4,
          30.4,
          39.4,
          29.5,
          41.5,
          27,
          33.7,
          39,
          59.4,
          46.1,
          32.4,
          30.8,
          39.1,
          21,
          21.1,
          29.7,
          39.5,
          27.3,
          33.3,
          32.9,
          30.9,
          35.9,
          35.6,
          26.6,
          37.4,
          36.3,
          35.5,
          31.6,
          27.2,
          38,
          32.5,
          32.8,
          39.5,
          34.9,
          28.9,
          27.5,
          34.6,
          28.9,
          32.4,
          26.6,
          32,
          33.9,
          27.1,
          21.9,
          25.9,
          39.7,
          42.7,
          31.1,
          24,
          28.4,
          38.2,
          28.6,
          30,
          36.6,
          34.3,
          27.2,
          26.3,
          23,
          46.8,
          47.9,
          42.9,
          40.9,
          25.9,
          22.2,
          45.6,
          34,
          27.6,
          43.5,
          36.5,
          21.2,
          46.8,
          45.3,
          25.2,
          37.9,
          29.6,
          34.2,
          27.4,
          33.6,
          37.6,
          40.8,
          32,
          22.6,
          31.2,
          44.5,
          36.8,
          24.7,
          23.2,
          31.6,
          27.4,
          34.3,
          34.6,
          21.7,
          24.2,
          33.2,
          25.6,
          43.3,
          42,
          29.3,
          28.7,
          35.4,
          45.8,
          39.1,
          32.7,
          28.4,
          28.1,
          24.2,
          39.5,
          19.3,
          32.4,
          35.5,
          36.5,
          32.8,
          30.4,
          31.6,
          26,
          31.6,
          34.6,
          39.4,
          19.5,
          32.4,
          29.9,
          19.4,
          34.9,
          45.2,
          32.9,
          25.2,
          44.1,
          36.6,
          36.2,
          46.1,
          38.4,
          33.2,
          42.3,
          32.7,
          38.7,
          33.3,
          22.6,
          24.4,
          38.9,
          34.8,
          33.3,
          28.5,
          38.1,
          30.8,
          44.2,
          27.8,
          34.3,
          29.6,
          31.9,
          39.4,
          34,
          35.7,
          34.9,
          26.6,
          26,
          26.4,
          23.2,
          33.7,
          21.9,
          31.6,
          39.1,
          37.7,
          25.2,
          27.8,
          30.5,
          37.7,
          33.2,
          39.9,
          35.8,
          52.9,
          22.5,
          46.2,
          36.1,
          32.1,
          30.7,
          34.6,
          37.4,
          32.5,
          0,
          27.4,
          25.6,
          30.5,
          32.8,
          32,
          41.2,
          42.1,
          21.8,
          27.6,
          25.6,
          30.1,
          26.8,
          21.8,
          32.4,
          29,
          22.9,
          25.3,
          40.5,
          32,
          33.6,
          26.8,
          27.3,
          18.2,
          31.2,
          35.7,
          32.3,
          27.9,
          35,
          24,
          23.7,
          25,
          37.8,
          28.4,
          33.3,
          35,
          45.3,
          32.3,
          40.6,
          25,
          40,
          25.9,
          32.2,
          26,
          31.2,
          25.4,
          33.6,
          34.9,
          35,
          30.9,
          30.5,
          35.7,
          24.1,
          35.3,
          25.9,
          32.4,
          25.2,
          24.3,
          23.6,
          30.1,
          27.4,
          38.8,
          23.5,
          33.3,
          32,
          31.2,
          38.5,
          39,
          33.8,
          38.1,
          42.9,
          32.4,
          25.6,
          40.9,
          31.6,
          24,
          39.4,
          30.8,
          27.7,
          34.1,
          29.3,
          33.9,
          26.9,
          29.2,
          30.1,
          20.8,
          29.9,
          24.8,
          37.5,
          23.7,
          34.3,
          26.8,
          30,
          43.1,
          29.5,
          28.3,
          38.2,
          43.6,
          28.7,
          34.7,
          28.9,
          39,
          28,
          24.8,
          31,
          21.1,
          23.2,
          36,
          44,
          26.1,
          48.3,
          20.8,
          18.2,
          45.7,
          34.4,
          25.1,
          31.2,
          25,
          33.2,
          37.8,
          34.5,
          46.3,
          25,
          32.8,
          25.8,
          24.6,
          34,
          32.8,
          43.4,
          32,
          35.8,
          24.4,
          31.2,
          35.5,
          28,
          21.8,
          33.6,
          26.2,
          27.5,
          40.1,
          37.2,
          25.5,
          24.2,
          33.7,
          28.7,
          26.1,
          31.6,
          26.6,
          23.1,
          41.3,
          22.4,
          23.9,
          27.6,
          30.4,
          34.1,
          37.8,
          27.6,
          32,
          39.9,
          32.4,
          38.5,
          33.1,
          30.1,
          34.1,
          27.1,
          43.3,
          33.2,
          32.5,
          44,
          23.4,
          44.2,
          31.2,
          37.3,
          27.1,
          38.6,
          37.6,
          23.1,
          31.6,
          44.5,
          27.3,
          49.6,
          29.7,
          40.5,
          28.9,
          33.8,
          24.4,
          35.4,
          29.5,
          25.9,
          29.7,
          26.5,
          33.1,
          22.3,
          26.2,
          33.5,
          34.7,
          30.5,
          42.9,
          29.7,
          37.9,
          49.7,
          35.8,
          38.5,
          37.6,
          23.1,
          34.2,
          27.8,
          34.2,
          36.1,
          39.3,
          35.9,
          28.6,
          22.4,
          45.6,
          42.4,
          22.5
         ],
         "yaxis": "y"
        }
       ],
       "layout": {
        "coloraxis": {
         "colorbar": {
          "title": {
           "text": "Outcome"
          }
         },
         "colorscale": [
          [
           0,
           "#0d0887"
          ],
          [
           0.1111111111111111,
           "#46039f"
          ],
          [
           0.2222222222222222,
           "#7201a8"
          ],
          [
           0.3333333333333333,
           "#9c179e"
          ],
          [
           0.4444444444444444,
           "#bd3786"
          ],
          [
           0.5555555555555556,
           "#d8576b"
          ],
          [
           0.6666666666666666,
           "#ed7953"
          ],
          [
           0.7777777777777778,
           "#fb9f3a"
          ],
          [
           0.8888888888888888,
           "#fdca26"
          ],
          [
           1,
           "#f0f921"
          ]
         ]
        },
        "legend": {
         "tracegroupgap": 0
        },
        "margin": {
         "t": 60
        },
        "template": {
         "data": {
          "bar": [
           {
            "error_x": {
             "color": "#2a3f5f"
            },
            "error_y": {
             "color": "#2a3f5f"
            },
            "marker": {
             "line": {
              "color": "#E5ECF6",
              "width": 0.5
             }
            },
            "type": "bar"
           }
          ],
          "barpolar": [
           {
            "marker": {
             "line": {
              "color": "#E5ECF6",
              "width": 0.5
             }
            },
            "type": "barpolar"
           }
          ],
          "carpet": [
           {
            "aaxis": {
             "endlinecolor": "#2a3f5f",
             "gridcolor": "white",
             "linecolor": "white",
             "minorgridcolor": "white",
             "startlinecolor": "#2a3f5f"
            },
            "baxis": {
             "endlinecolor": "#2a3f5f",
             "gridcolor": "white",
             "linecolor": "white",
             "minorgridcolor": "white",
             "startlinecolor": "#2a3f5f"
            },
            "type": "carpet"
           }
          ],
          "choropleth": [
           {
            "colorbar": {
             "outlinewidth": 0,
             "ticks": ""
            },
            "type": "choropleth"
           }
          ],
          "contour": [
           {
            "colorbar": {
             "outlinewidth": 0,
             "ticks": ""
            },
            "colorscale": [
             [
              0,
              "#0d0887"
             ],
             [
              0.1111111111111111,
              "#46039f"
             ],
             [
              0.2222222222222222,
              "#7201a8"
             ],
             [
              0.3333333333333333,
              "#9c179e"
             ],
             [
              0.4444444444444444,
              "#bd3786"
             ],
             [
              0.5555555555555556,
              "#d8576b"
             ],
             [
              0.6666666666666666,
              "#ed7953"
             ],
             [
              0.7777777777777778,
              "#fb9f3a"
             ],
             [
              0.8888888888888888,
              "#fdca26"
             ],
             [
              1,
              "#f0f921"
             ]
            ],
            "type": "contour"
           }
          ],
          "contourcarpet": [
           {
            "colorbar": {
             "outlinewidth": 0,
             "ticks": ""
            },
            "type": "contourcarpet"
           }
          ],
          "heatmap": [
           {
            "colorbar": {
             "outlinewidth": 0,
             "ticks": ""
            },
            "colorscale": [
             [
              0,
              "#0d0887"
             ],
             [
              0.1111111111111111,
              "#46039f"
             ],
             [
              0.2222222222222222,
              "#7201a8"
             ],
             [
              0.3333333333333333,
              "#9c179e"
             ],
             [
              0.4444444444444444,
              "#bd3786"
             ],
             [
              0.5555555555555556,
              "#d8576b"
             ],
             [
              0.6666666666666666,
              "#ed7953"
             ],
             [
              0.7777777777777778,
              "#fb9f3a"
             ],
             [
              0.8888888888888888,
              "#fdca26"
             ],
             [
              1,
              "#f0f921"
             ]
            ],
            "type": "heatmap"
           }
          ],
          "heatmapgl": [
           {
            "colorbar": {
             "outlinewidth": 0,
             "ticks": ""
            },
            "colorscale": [
             [
              0,
              "#0d0887"
             ],
             [
              0.1111111111111111,
              "#46039f"
             ],
             [
              0.2222222222222222,
              "#7201a8"
             ],
             [
              0.3333333333333333,
              "#9c179e"
             ],
             [
              0.4444444444444444,
              "#bd3786"
             ],
             [
              0.5555555555555556,
              "#d8576b"
             ],
             [
              0.6666666666666666,
              "#ed7953"
             ],
             [
              0.7777777777777778,
              "#fb9f3a"
             ],
             [
              0.8888888888888888,
              "#fdca26"
             ],
             [
              1,
              "#f0f921"
             ]
            ],
            "type": "heatmapgl"
           }
          ],
          "histogram": [
           {
            "marker": {
             "colorbar": {
              "outlinewidth": 0,
              "ticks": ""
             }
            },
            "type": "histogram"
           }
          ],
          "histogram2d": [
           {
            "colorbar": {
             "outlinewidth": 0,
             "ticks": ""
            },
            "colorscale": [
             [
              0,
              "#0d0887"
             ],
             [
              0.1111111111111111,
              "#46039f"
             ],
             [
              0.2222222222222222,
              "#7201a8"
             ],
             [
              0.3333333333333333,
              "#9c179e"
             ],
             [
              0.4444444444444444,
              "#bd3786"
             ],
             [
              0.5555555555555556,
              "#d8576b"
             ],
             [
              0.6666666666666666,
              "#ed7953"
             ],
             [
              0.7777777777777778,
              "#fb9f3a"
             ],
             [
              0.8888888888888888,
              "#fdca26"
             ],
             [
              1,
              "#f0f921"
             ]
            ],
            "type": "histogram2d"
           }
          ],
          "histogram2dcontour": [
           {
            "colorbar": {
             "outlinewidth": 0,
             "ticks": ""
            },
            "colorscale": [
             [
              0,
              "#0d0887"
             ],
             [
              0.1111111111111111,
              "#46039f"
             ],
             [
              0.2222222222222222,
              "#7201a8"
             ],
             [
              0.3333333333333333,
              "#9c179e"
             ],
             [
              0.4444444444444444,
              "#bd3786"
             ],
             [
              0.5555555555555556,
              "#d8576b"
             ],
             [
              0.6666666666666666,
              "#ed7953"
             ],
             [
              0.7777777777777778,
              "#fb9f3a"
             ],
             [
              0.8888888888888888,
              "#fdca26"
             ],
             [
              1,
              "#f0f921"
             ]
            ],
            "type": "histogram2dcontour"
           }
          ],
          "mesh3d": [
           {
            "colorbar": {
             "outlinewidth": 0,
             "ticks": ""
            },
            "type": "mesh3d"
           }
          ],
          "parcoords": [
           {
            "line": {
             "colorbar": {
              "outlinewidth": 0,
              "ticks": ""
             }
            },
            "type": "parcoords"
           }
          ],
          "pie": [
           {
            "automargin": true,
            "type": "pie"
           }
          ],
          "scatter": [
           {
            "marker": {
             "colorbar": {
              "outlinewidth": 0,
              "ticks": ""
             }
            },
            "type": "scatter"
           }
          ],
          "scatter3d": [
           {
            "line": {
             "colorbar": {
              "outlinewidth": 0,
              "ticks": ""
             }
            },
            "marker": {
             "colorbar": {
              "outlinewidth": 0,
              "ticks": ""
             }
            },
            "type": "scatter3d"
           }
          ],
          "scattercarpet": [
           {
            "marker": {
             "colorbar": {
              "outlinewidth": 0,
              "ticks": ""
             }
            },
            "type": "scattercarpet"
           }
          ],
          "scattergeo": [
           {
            "marker": {
             "colorbar": {
              "outlinewidth": 0,
              "ticks": ""
             }
            },
            "type": "scattergeo"
           }
          ],
          "scattergl": [
           {
            "marker": {
             "colorbar": {
              "outlinewidth": 0,
              "ticks": ""
             }
            },
            "type": "scattergl"
           }
          ],
          "scattermapbox": [
           {
            "marker": {
             "colorbar": {
              "outlinewidth": 0,
              "ticks": ""
             }
            },
            "type": "scattermapbox"
           }
          ],
          "scatterpolar": [
           {
            "marker": {
             "colorbar": {
              "outlinewidth": 0,
              "ticks": ""
             }
            },
            "type": "scatterpolar"
           }
          ],
          "scatterpolargl": [
           {
            "marker": {
             "colorbar": {
              "outlinewidth": 0,
              "ticks": ""
             }
            },
            "type": "scatterpolargl"
           }
          ],
          "scatterternary": [
           {
            "marker": {
             "colorbar": {
              "outlinewidth": 0,
              "ticks": ""
             }
            },
            "type": "scatterternary"
           }
          ],
          "surface": [
           {
            "colorbar": {
             "outlinewidth": 0,
             "ticks": ""
            },
            "colorscale": [
             [
              0,
              "#0d0887"
             ],
             [
              0.1111111111111111,
              "#46039f"
             ],
             [
              0.2222222222222222,
              "#7201a8"
             ],
             [
              0.3333333333333333,
              "#9c179e"
             ],
             [
              0.4444444444444444,
              "#bd3786"
             ],
             [
              0.5555555555555556,
              "#d8576b"
             ],
             [
              0.6666666666666666,
              "#ed7953"
             ],
             [
              0.7777777777777778,
              "#fb9f3a"
             ],
             [
              0.8888888888888888,
              "#fdca26"
             ],
             [
              1,
              "#f0f921"
             ]
            ],
            "type": "surface"
           }
          ],
          "table": [
           {
            "cells": {
             "fill": {
              "color": "#EBF0F8"
             },
             "line": {
              "color": "white"
             }
            },
            "header": {
             "fill": {
              "color": "#C8D4E3"
             },
             "line": {
              "color": "white"
             }
            },
            "type": "table"
           }
          ]
         },
         "layout": {
          "annotationdefaults": {
           "arrowcolor": "#2a3f5f",
           "arrowhead": 0,
           "arrowwidth": 1
          },
          "coloraxis": {
           "colorbar": {
            "outlinewidth": 0,
            "ticks": ""
           }
          },
          "colorscale": {
           "diverging": [
            [
             0,
             "#8e0152"
            ],
            [
             0.1,
             "#c51b7d"
            ],
            [
             0.2,
             "#de77ae"
            ],
            [
             0.3,
             "#f1b6da"
            ],
            [
             0.4,
             "#fde0ef"
            ],
            [
             0.5,
             "#f7f7f7"
            ],
            [
             0.6,
             "#e6f5d0"
            ],
            [
             0.7,
             "#b8e186"
            ],
            [
             0.8,
             "#7fbc41"
            ],
            [
             0.9,
             "#4d9221"
            ],
            [
             1,
             "#276419"
            ]
           ],
           "sequential": [
            [
             0,
             "#0d0887"
            ],
            [
             0.1111111111111111,
             "#46039f"
            ],
            [
             0.2222222222222222,
             "#7201a8"
            ],
            [
             0.3333333333333333,
             "#9c179e"
            ],
            [
             0.4444444444444444,
             "#bd3786"
            ],
            [
             0.5555555555555556,
             "#d8576b"
            ],
            [
             0.6666666666666666,
             "#ed7953"
            ],
            [
             0.7777777777777778,
             "#fb9f3a"
            ],
            [
             0.8888888888888888,
             "#fdca26"
            ],
            [
             1,
             "#f0f921"
            ]
           ],
           "sequentialminus": [
            [
             0,
             "#0d0887"
            ],
            [
             0.1111111111111111,
             "#46039f"
            ],
            [
             0.2222222222222222,
             "#7201a8"
            ],
            [
             0.3333333333333333,
             "#9c179e"
            ],
            [
             0.4444444444444444,
             "#bd3786"
            ],
            [
             0.5555555555555556,
             "#d8576b"
            ],
            [
             0.6666666666666666,
             "#ed7953"
            ],
            [
             0.7777777777777778,
             "#fb9f3a"
            ],
            [
             0.8888888888888888,
             "#fdca26"
            ],
            [
             1,
             "#f0f921"
            ]
           ]
          },
          "colorway": [
           "#636efa",
           "#EF553B",
           "#00cc96",
           "#ab63fa",
           "#FFA15A",
           "#19d3f3",
           "#FF6692",
           "#B6E880",
           "#FF97FF",
           "#FECB52"
          ],
          "font": {
           "color": "#2a3f5f"
          },
          "geo": {
           "bgcolor": "white",
           "lakecolor": "white",
           "landcolor": "#E5ECF6",
           "showlakes": true,
           "showland": true,
           "subunitcolor": "white"
          },
          "hoverlabel": {
           "align": "left"
          },
          "hovermode": "closest",
          "mapbox": {
           "style": "light"
          },
          "paper_bgcolor": "white",
          "plot_bgcolor": "#E5ECF6",
          "polar": {
           "angularaxis": {
            "gridcolor": "white",
            "linecolor": "white",
            "ticks": ""
           },
           "bgcolor": "#E5ECF6",
           "radialaxis": {
            "gridcolor": "white",
            "linecolor": "white",
            "ticks": ""
           }
          },
          "scene": {
           "xaxis": {
            "backgroundcolor": "#E5ECF6",
            "gridcolor": "white",
            "gridwidth": 2,
            "linecolor": "white",
            "showbackground": true,
            "ticks": "",
            "zerolinecolor": "white"
           },
           "yaxis": {
            "backgroundcolor": "#E5ECF6",
            "gridcolor": "white",
            "gridwidth": 2,
            "linecolor": "white",
            "showbackground": true,
            "ticks": "",
            "zerolinecolor": "white"
           },
           "zaxis": {
            "backgroundcolor": "#E5ECF6",
            "gridcolor": "white",
            "gridwidth": 2,
            "linecolor": "white",
            "showbackground": true,
            "ticks": "",
            "zerolinecolor": "white"
           }
          },
          "shapedefaults": {
           "line": {
            "color": "#2a3f5f"
           }
          },
          "ternary": {
           "aaxis": {
            "gridcolor": "white",
            "linecolor": "white",
            "ticks": ""
           },
           "baxis": {
            "gridcolor": "white",
            "linecolor": "white",
            "ticks": ""
           },
           "bgcolor": "#E5ECF6",
           "caxis": {
            "gridcolor": "white",
            "linecolor": "white",
            "ticks": ""
           }
          },
          "title": {
           "x": 0.05
          },
          "xaxis": {
           "automargin": true,
           "gridcolor": "white",
           "linecolor": "white",
           "ticks": "",
           "title": {
            "standoff": 15
           },
           "zerolinecolor": "white",
           "zerolinewidth": 2
          },
          "yaxis": {
           "automargin": true,
           "gridcolor": "white",
           "linecolor": "white",
           "ticks": "",
           "title": {
            "standoff": 15
           },
           "zerolinecolor": "white",
           "zerolinewidth": 2
          }
         }
        },
        "xaxis": {
         "anchor": "y",
         "domain": [
          0,
          1
         ],
         "title": {
          "text": "Glucose"
         }
        },
        "yaxis": {
         "anchor": "x",
         "domain": [
          0,
          1
         ],
         "title": {
          "text": "BMI"
         }
        }
       }
      },
      "text/html": [
       "<div>\n",
       "        \n",
       "        \n",
       "            <div id=\"ed911a25-2845-4780-bf4a-b712751b3333\" class=\"plotly-graph-div\" style=\"height:525px; width:100%;\"></div>\n",
       "            <script type=\"text/javascript\">\n",
       "                require([\"plotly\"], function(Plotly) {\n",
       "                    window.PLOTLYENV=window.PLOTLYENV || {};\n",
       "                    \n",
       "                if (document.getElementById(\"ed911a25-2845-4780-bf4a-b712751b3333\")) {\n",
       "                    Plotly.newPlot(\n",
       "                        'ed911a25-2845-4780-bf4a-b712751b3333',\n",
       "                        [{\"hovertemplate\": \"Glucose=%{x}<br>BMI=%{y}<br>Outcome=%{marker.color}<extra></extra>\", \"legendgroup\": \"\", \"marker\": {\"color\": [0, 1, 0, 0, 1, 0, 1, 1, 0, 0, 0, 1, 0, 0, 0, 1, 0, 1, 1, 0, 0, 0, 0, 0, 1, 1, 0, 0, 0, 1, 1, 0, 0, 0, 1, 0, 1, 0, 1, 0, 0, 0, 0, 0, 1, 1, 0, 0, 1, 0, 0, 0, 0, 0, 1, 1, 0, 0, 0, 0, 1, 0, 0, 1, 0, 0, 1, 0, 0, 0, 0, 0, 1, 1, 0, 0, 0, 0, 0, 1, 0, 0, 0, 0, 1, 1, 0, 0, 1, 0, 0, 0, 0, 0, 0, 0, 1, 0, 1, 0, 0, 0, 0, 1, 0, 0, 0, 1, 0, 0, 0, 0, 0, 0, 0, 0, 0, 0, 1, 1, 0, 0, 0, 1, 0, 0, 0, 1, 1, 1, 0, 0, 1, 1, 0, 0, 0, 0, 1, 0, 1, 0, 0, 1, 1, 0, 0, 1, 1, 0, 0, 0, 0, 0, 0, 1, 0, 1, 1, 0, 0, 0, 1, 0, 0, 0, 1, 1, 1, 0, 1, 0, 0, 0, 0, 0, 0, 0, 0, 1, 1, 0, 1, 1, 0, 0, 1, 0, 0, 1, 1, 1, 0, 0, 0, 0, 0, 1, 0, 1, 0, 0, 0, 0, 0, 0, 0, 1, 1, 0, 0, 0, 0, 0, 0, 0, 1, 0, 1, 1, 1, 0, 0, 0, 0, 0, 1, 1, 1, 1, 0, 0, 1, 0, 0, 1, 1, 0, 1, 1, 0, 1, 0, 0, 0, 1, 0, 1, 0, 1, 0, 0, 0, 1, 1, 0, 1, 0, 0, 1, 0, 1, 0, 0, 1, 0, 0, 1, 0, 0, 1, 0, 1, 1, 0, 0, 0, 0, 1, 1, 0, 1, 0, 0, 1, 0, 1, 0, 1, 0, 0, 0, 0, 1, 1, 1, 1, 1, 0, 0, 0, 0, 1, 1, 0, 0, 0, 1, 0, 1, 0, 0, 0, 0, 0, 1, 1, 0, 1, 1, 1, 1, 1, 0, 0, 0, 0, 0, 1, 1, 0, 1, 1, 0, 0, 1, 0, 1, 0, 0, 0, 0, 0, 0, 1, 0, 1, 0, 0, 0, 1, 0, 1, 1, 1, 0, 0, 0, 0, 0, 0, 0, 0, 0, 0, 0, 1, 0, 0, 0, 1, 0, 1, 0, 0, 1, 0, 1, 0, 0, 0, 1, 0, 0, 1, 0, 0, 0, 0, 1, 0, 0, 0, 0, 0, 1, 0, 0, 0, 0, 0, 0, 0, 0, 1, 1, 0, 0, 0, 1, 0, 0, 1, 0, 1, 0, 1, 1, 0, 0, 0, 0, 0, 1, 1, 1, 1, 0, 0, 0, 1, 1, 1, 1, 0, 1, 0, 0, 0, 0, 0, 0, 0, 0, 0, 0, 0, 0, 1, 0, 0, 0, 0, 0, 0, 0, 0, 0, 1, 0, 0, 0, 0, 0, 1, 0, 0, 0, 1, 0, 1, 1, 0, 0, 1, 1, 0, 0, 1, 0, 0, 0, 0, 0, 0, 1, 1, 0, 1, 0, 0, 1, 1, 0, 1, 1, 0, 0, 1, 1, 0, 0, 0, 0, 0, 1, 1, 0, 1, 0, 0, 1, 1, 1, 0, 0, 0, 1, 1, 0, 0, 1, 1, 0, 0, 0, 0, 1, 1, 0, 1, 0, 0, 0, 1, 0, 1, 0, 0, 0, 0, 1, 0, 0, 0, 0, 0, 1, 0, 0, 0, 0, 1, 0, 1, 0, 1, 0, 0, 0, 1, 0, 0, 1, 0, 0, 1, 1, 1, 1, 0, 1, 0, 0, 0, 1, 0, 0, 1, 1, 0, 0, 1, 0, 0, 0, 0, 0, 1, 0, 0, 0, 0, 0, 1, 1, 1, 1, 1, 0, 0, 1, 0, 1, 0, 0, 1, 0, 0, 0, 0, 1, 1, 0], \"coloraxis\": \"coloraxis\", \"symbol\": \"circle\"}, \"mode\": \"markers\", \"name\": \"\", \"orientation\": \"v\", \"showlegend\": false, \"type\": \"scatter\", \"x\": [84, 112, 139, 161, 134, 130, 132, 161, 108, 80, 87, 171, 88, 146, 191, 122, 159, 100, 123, 123, 155, 102, 125, 100, 104, 131, 145, 152, 100, 147, 128, 100, 80, 84, 194, 123, 78, 106, 129, 129, 61, 81, 102, 99, 107, 170, 85, 102, 97, 127, 133, 94, 83, 123, 187, 152, 129, 106, 111, 111, 143, 124, 165, 108, 137, 179, 171, 83, 101, 120, 89, 129, 119, 109, 127, 105, 77, 95, 105, 135, 131, 103, 82, 128, 122, 138, 125, 101, 133, 111, 95, 117, 165, 109, 110, 106, 95, 0, 143, 101, 115, 142, 116, 126, 78, 99, 143, 128, 85, 87, 106, 100, 124, 95, 79, 107, 90, 85, 160, 162, 81, 107, 107, 144, 114, 134, 127, 180, 168, 171, 106, 120, 195, 145, 105, 143, 80, 76, 129, 86, 129, 114, 117, 189, 100, 126, 111, 144, 189, 101, 100, 73, 0, 119, 94, 125, 111, 196, 158, 97, 121, 108, 151, 103, 99, 117, 134, 133, 180, 114, 108, 141, 94, 99, 153, 0, 102, 104, 95, 142, 109, 108, 181, 136, 106, 78, 88, 128, 108, 164, 148, 190, 81, 68, 90, 114, 124, 124, 197, 186, 127, 91, 106, 115, 122, 154, 132, 173, 169, 126, 102, 107, 137, 80, 119, 146, 0, 118, 188, 141, 158, 93, 157, 144, 105, 133, 115, 163, 180, 144, 141, 115, 130, 150, 82, 117, 102, 90, 113, 174, 154, 194, 91, 166, 140, 123, 119, 112, 90, 93, 108, 111, 106, 193, 125, 129, 115, 87, 132, 155, 100, 187, 139, 101, 197, 120, 90, 125, 108, 111, 90, 130, 184, 100, 128, 97, 116, 122, 111, 188, 120, 97, 95, 99, 119, 76, 125, 79, 196, 82, 100, 107, 119, 146, 107, 130, 124, 113, 125, 183, 65, 111, 146, 174, 97, 142, 87, 144, 126, 121, 128, 57, 56, 124, 116, 181, 180, 154, 124, 134, 118, 103, 140, 110, 89, 92, 84, 99, 128, 158, 95, 164, 161, 92, 136, 163, 87, 147, 92, 142, 147, 103, 147, 117, 102, 109, 179, 99, 122, 154, 173, 117, 120, 179, 155, 118, 130, 85, 120, 112, 94, 109, 114, 102, 114, 114, 156, 105, 84, 112, 155, 101, 90, 81, 94, 129, 99, 176, 114, 72, 117, 162, 91, 89, 197, 90, 138, 91, 86, 115, 93, 103, 116, 95, 126, 138, 136, 105, 136, 116, 99, 106, 57, 92, 129, 151, 99, 88, 157, 181, 132, 101, 108, 106, 107, 108, 128, 95, 107, 73, 108, 97, 122, 173, 125, 105, 136, 111, 96, 99, 112, 130, 176, 168, 67, 116, 153, 120, 128, 92, 83, 110, 89, 79, 165, 105, 122, 106, 182, 102, 140, 88, 193, 133, 98, 125, 100, 92, 114, 119, 116, 75, 137, 158, 129, 127, 117, 97, 118, 110, 139, 163, 125, 103, 100, 102, 162, 123, 149, 144, 99, 91, 143, 120, 88, 156, 196, 131, 131, 120, 125, 137, 147, 107, 168, 187, 93, 98, 115, 0, 71, 88, 113, 96, 97, 121, 142, 194, 156, 96, 83, 166, 132, 195, 129, 44, 137, 179, 117, 81, 68, 114, 166, 99, 180, 99, 93, 128, 109, 88, 115, 151, 129, 71, 175, 121, 146, 138, 102, 124, 137, 105, 126, 95, 100, 85, 94, 198, 113, 111, 122, 84, 181, 100, 124, 123, 178, 91, 126, 91, 189, 112, 108, 105, 71, 148, 170, 167, 145, 136, 96, 119, 99, 87, 130, 139, 118, 137, 162, 84, 146, 114, 125, 90, 99, 113, 134, 151, 106, 123, 119, 143, 89, 122, 128, 199, 173, 145, 122, 84, 100, 148, 118, 112, 74, 111, 138, 126, 122, 139, 96, 101, 141, 125], \"xaxis\": \"x\", \"y\": [0.0, 28.2, 28.7, 21.9, 46.2, 25.9, 32.9, 25.5, 35.5, 19.1, 37.2, 43.6, 29.0, 28.9, 30.9, 33.3, 27.4, 32.9, 32.0, 57.3, 38.7, 29.3, 33.8, 30.0, 29.9, 31.6, 22.2, 41.5, 38.7, 49.3, 43.3, 30.8, 30.0, 36.9, 23.5, 33.6, 31.0, 25.8, 39.9, 35.1, 34.4, 30.1, 0.0, 25.6, 36.6, 34.5, 30.1, 34.5, 35.6, 27.7, 40.2, 31.6, 34.3, 35.2, 37.7, 26.8, 33.2, 37.5, 29.5, 24.6, 36.6, 21.8, 52.3, 30.5, 31.2, 35.1, 33.3, 29.3, 24.2, 30.5, 22.5, 38.5, 32.4, 34.8, 36.3, 30.8, 35.8, 23.9, 36.9, 42.3, 33.1, 43.3, 28.5, 21.1, 35.1, 36.3, 24.7, 24.6, 32.9, 26.2, 35.4, 34.1, 47.9, 23.1, 27.8, 39.4, 35.0, 27.7, 34.9, 24.2, 24.0, 28.8, 22.1, 30.1, 32.5, 25.4, 42.4, 36.5, 31.2, 21.8, 23.6, 29.7, 35.4, 44.6, 32.0, 36.8, 28.0, 39.6, 30.5, 24.3, 46.7, 30.8, 26.5, 38.5, 23.8, 26.4, 34.4, 36.5, 38.0, 45.4, 22.7, 29.6, 30.9, 32.5, 20.0, 45.0, 39.8, 32.8, 67.1, 41.3, 36.4, 28.7, 28.7, 34.3, 30.0, 25.9, 30.1, 32.0, 31.2, 21.0, 25.3, 21.1, 32.0, 19.6, 0.0, 0.0, 30.1, 39.8, 31.6, 18.2, 39.0, 26.0, 42.9, 27.6, 20.4, 25.2, 23.8, 32.8, 43.3, 0.0, 27.0, 27.6, 43.5, 34.0, 40.6, 24.7, 40.6, 27.8, 19.6, 30.4, 27.9, 25.2, 35.9, 37.1, 34.2, 33.7, 55.0, 27.5, 36.1, 30.8, 33.6, 35.5, 27.5, 35.5, 24.5, 24.9, 27.8, 34.0, 36.7, 34.5, 34.5, 29.8, 34.2, 38.1, 29.8, 32.8, 28.0, 36.8, 29.9, 29.6, 25.1, 26.4, 24.8, 26.2, 45.3, 29.7, 41.0, 0.0, 32.0, 30.0, 39.4, 30.4, 39.4, 29.5, 41.5, 27.0, 33.7, 39.0, 59.4, 46.1, 32.4, 30.8, 39.1, 21.0, 21.1, 29.7, 39.5, 27.3, 33.3, 32.9, 30.9, 35.9, 35.6, 26.6, 37.4, 36.3, 35.5, 31.6, 27.2, 38.0, 32.5, 32.8, 39.5, 34.9, 28.9, 27.5, 34.6, 28.9, 32.4, 26.6, 32.0, 33.9, 27.1, 21.9, 25.9, 39.7, 42.7, 31.1, 24.0, 28.4, 38.2, 28.6, 30.0, 36.6, 34.3, 27.2, 26.3, 23.0, 46.8, 47.9, 42.9, 40.9, 25.9, 22.2, 45.6, 34.0, 27.6, 43.5, 36.5, 21.2, 46.8, 45.3, 25.2, 37.9, 29.6, 34.2, 27.4, 33.6, 37.6, 40.8, 32.0, 22.6, 31.2, 44.5, 36.8, 24.7, 23.2, 31.6, 27.4, 34.3, 34.6, 21.7, 24.2, 33.2, 25.6, 43.3, 42.0, 29.3, 28.7, 35.4, 45.8, 39.1, 32.7, 28.4, 28.1, 24.2, 39.5, 19.3, 32.4, 35.5, 36.5, 32.8, 30.4, 31.6, 26.0, 31.6, 34.6, 39.4, 19.5, 32.4, 29.9, 19.4, 34.9, 45.2, 32.9, 25.2, 44.1, 36.6, 36.2, 46.1, 38.4, 33.2, 42.3, 32.7, 38.7, 33.3, 22.6, 24.4, 38.9, 34.8, 33.3, 28.5, 38.1, 30.8, 44.2, 27.8, 34.3, 29.6, 31.9, 39.4, 34.0, 35.7, 34.9, 26.6, 26.0, 26.4, 23.2, 33.7, 21.9, 31.6, 39.1, 37.7, 25.2, 27.8, 30.5, 37.7, 33.2, 39.9, 35.8, 52.9, 22.5, 46.2, 36.1, 32.1, 30.7, 34.6, 37.4, 32.5, 0.0, 27.4, 25.6, 30.5, 32.8, 32.0, 41.2, 42.1, 21.8, 27.6, 25.6, 30.1, 26.8, 21.8, 32.4, 29.0, 22.9, 25.3, 40.5, 32.0, 33.6, 26.8, 27.3, 18.2, 31.2, 35.7, 32.3, 27.9, 35.0, 24.0, 23.7, 25.0, 37.8, 28.4, 33.3, 35.0, 45.3, 32.3, 40.6, 25.0, 40.0, 25.9, 32.2, 26.0, 31.2, 25.4, 33.6, 34.9, 35.0, 30.9, 30.5, 35.7, 24.1, 35.3, 25.9, 32.4, 25.2, 24.3, 23.6, 30.1, 27.4, 38.8, 23.5, 33.3, 32.0, 31.2, 38.5, 39.0, 33.8, 38.1, 42.9, 32.4, 25.6, 40.9, 31.6, 24.0, 39.4, 30.8, 27.7, 34.1, 29.3, 33.9, 26.9, 29.2, 30.1, 20.8, 29.9, 24.8, 37.5, 23.7, 34.3, 26.8, 30.0, 43.1, 29.5, 28.3, 38.2, 43.6, 28.7, 34.7, 28.9, 39.0, 28.0, 24.8, 31.0, 21.1, 23.2, 36.0, 44.0, 26.1, 48.3, 20.8, 18.2, 45.7, 34.4, 25.1, 31.2, 25.0, 33.2, 37.8, 34.5, 46.3, 25.0, 32.8, 25.8, 24.6, 34.0, 32.8, 43.4, 32.0, 35.8, 24.4, 31.2, 35.5, 28.0, 21.8, 33.6, 26.2, 27.5, 40.1, 37.2, 25.5, 24.2, 33.7, 28.7, 26.1, 31.6, 26.6, 23.1, 41.3, 22.4, 23.9, 27.6, 30.4, 34.1, 37.8, 27.6, 32.0, 39.9, 32.4, 38.5, 33.1, 30.1, 34.1, 27.1, 43.3, 33.2, 32.5, 44.0, 23.4, 44.2, 31.2, 37.3, 27.1, 38.6, 37.6, 23.1, 31.6, 44.5, 27.3, 49.6, 29.7, 40.5, 28.9, 33.8, 24.4, 35.4, 29.5, 25.9, 29.7, 26.5, 33.1, 22.3, 26.2, 33.5, 34.7, 30.5, 42.9, 29.7, 37.9, 49.7, 35.8, 38.5, 37.6, 23.1, 34.2, 27.8, 34.2, 36.1, 39.3, 35.9, 28.6, 22.4, 45.6, 42.4, 22.5], \"yaxis\": \"y\"}],\n",
       "                        {\"coloraxis\": {\"colorbar\": {\"title\": {\"text\": \"Outcome\"}}, \"colorscale\": [[0.0, \"#0d0887\"], [0.1111111111111111, \"#46039f\"], [0.2222222222222222, \"#7201a8\"], [0.3333333333333333, \"#9c179e\"], [0.4444444444444444, \"#bd3786\"], [0.5555555555555556, \"#d8576b\"], [0.6666666666666666, \"#ed7953\"], [0.7777777777777778, \"#fb9f3a\"], [0.8888888888888888, \"#fdca26\"], [1.0, \"#f0f921\"]]}, \"legend\": {\"tracegroupgap\": 0}, \"margin\": {\"t\": 60}, \"template\": {\"data\": {\"bar\": [{\"error_x\": {\"color\": \"#2a3f5f\"}, \"error_y\": {\"color\": \"#2a3f5f\"}, \"marker\": {\"line\": {\"color\": \"#E5ECF6\", \"width\": 0.5}}, \"type\": \"bar\"}], \"barpolar\": [{\"marker\": {\"line\": {\"color\": \"#E5ECF6\", \"width\": 0.5}}, \"type\": \"barpolar\"}], \"carpet\": [{\"aaxis\": {\"endlinecolor\": \"#2a3f5f\", \"gridcolor\": \"white\", \"linecolor\": \"white\", \"minorgridcolor\": \"white\", \"startlinecolor\": \"#2a3f5f\"}, \"baxis\": {\"endlinecolor\": \"#2a3f5f\", \"gridcolor\": \"white\", \"linecolor\": \"white\", \"minorgridcolor\": \"white\", \"startlinecolor\": \"#2a3f5f\"}, \"type\": \"carpet\"}], \"choropleth\": [{\"colorbar\": {\"outlinewidth\": 0, \"ticks\": \"\"}, \"type\": \"choropleth\"}], \"contour\": [{\"colorbar\": {\"outlinewidth\": 0, \"ticks\": \"\"}, \"colorscale\": [[0.0, \"#0d0887\"], [0.1111111111111111, \"#46039f\"], [0.2222222222222222, \"#7201a8\"], [0.3333333333333333, \"#9c179e\"], [0.4444444444444444, \"#bd3786\"], [0.5555555555555556, \"#d8576b\"], [0.6666666666666666, \"#ed7953\"], [0.7777777777777778, \"#fb9f3a\"], [0.8888888888888888, \"#fdca26\"], [1.0, \"#f0f921\"]], \"type\": \"contour\"}], \"contourcarpet\": [{\"colorbar\": {\"outlinewidth\": 0, \"ticks\": \"\"}, \"type\": \"contourcarpet\"}], \"heatmap\": [{\"colorbar\": {\"outlinewidth\": 0, \"ticks\": \"\"}, \"colorscale\": [[0.0, \"#0d0887\"], [0.1111111111111111, \"#46039f\"], [0.2222222222222222, \"#7201a8\"], [0.3333333333333333, \"#9c179e\"], [0.4444444444444444, \"#bd3786\"], [0.5555555555555556, \"#d8576b\"], [0.6666666666666666, \"#ed7953\"], [0.7777777777777778, \"#fb9f3a\"], [0.8888888888888888, \"#fdca26\"], [1.0, \"#f0f921\"]], \"type\": \"heatmap\"}], \"heatmapgl\": [{\"colorbar\": {\"outlinewidth\": 0, \"ticks\": \"\"}, \"colorscale\": [[0.0, \"#0d0887\"], [0.1111111111111111, \"#46039f\"], [0.2222222222222222, \"#7201a8\"], [0.3333333333333333, \"#9c179e\"], [0.4444444444444444, \"#bd3786\"], [0.5555555555555556, \"#d8576b\"], [0.6666666666666666, \"#ed7953\"], [0.7777777777777778, \"#fb9f3a\"], [0.8888888888888888, \"#fdca26\"], [1.0, \"#f0f921\"]], \"type\": \"heatmapgl\"}], \"histogram\": [{\"marker\": {\"colorbar\": {\"outlinewidth\": 0, \"ticks\": \"\"}}, \"type\": \"histogram\"}], \"histogram2d\": [{\"colorbar\": {\"outlinewidth\": 0, \"ticks\": \"\"}, \"colorscale\": [[0.0, \"#0d0887\"], [0.1111111111111111, \"#46039f\"], [0.2222222222222222, \"#7201a8\"], [0.3333333333333333, \"#9c179e\"], [0.4444444444444444, \"#bd3786\"], [0.5555555555555556, \"#d8576b\"], [0.6666666666666666, \"#ed7953\"], [0.7777777777777778, \"#fb9f3a\"], [0.8888888888888888, \"#fdca26\"], [1.0, \"#f0f921\"]], \"type\": \"histogram2d\"}], \"histogram2dcontour\": [{\"colorbar\": {\"outlinewidth\": 0, \"ticks\": \"\"}, \"colorscale\": [[0.0, \"#0d0887\"], [0.1111111111111111, \"#46039f\"], [0.2222222222222222, \"#7201a8\"], [0.3333333333333333, \"#9c179e\"], [0.4444444444444444, \"#bd3786\"], [0.5555555555555556, \"#d8576b\"], [0.6666666666666666, \"#ed7953\"], [0.7777777777777778, \"#fb9f3a\"], [0.8888888888888888, \"#fdca26\"], [1.0, \"#f0f921\"]], \"type\": \"histogram2dcontour\"}], \"mesh3d\": [{\"colorbar\": {\"outlinewidth\": 0, \"ticks\": \"\"}, \"type\": \"mesh3d\"}], \"parcoords\": [{\"line\": {\"colorbar\": {\"outlinewidth\": 0, \"ticks\": \"\"}}, \"type\": \"parcoords\"}], \"pie\": [{\"automargin\": true, \"type\": \"pie\"}], \"scatter\": [{\"marker\": {\"colorbar\": {\"outlinewidth\": 0, \"ticks\": \"\"}}, \"type\": \"scatter\"}], \"scatter3d\": [{\"line\": {\"colorbar\": {\"outlinewidth\": 0, \"ticks\": \"\"}}, \"marker\": {\"colorbar\": {\"outlinewidth\": 0, \"ticks\": \"\"}}, \"type\": \"scatter3d\"}], \"scattercarpet\": [{\"marker\": {\"colorbar\": {\"outlinewidth\": 0, \"ticks\": \"\"}}, \"type\": \"scattercarpet\"}], \"scattergeo\": [{\"marker\": {\"colorbar\": {\"outlinewidth\": 0, \"ticks\": \"\"}}, \"type\": \"scattergeo\"}], \"scattergl\": [{\"marker\": {\"colorbar\": {\"outlinewidth\": 0, \"ticks\": \"\"}}, \"type\": \"scattergl\"}], \"scattermapbox\": [{\"marker\": {\"colorbar\": {\"outlinewidth\": 0, \"ticks\": \"\"}}, \"type\": \"scattermapbox\"}], \"scatterpolar\": [{\"marker\": {\"colorbar\": {\"outlinewidth\": 0, \"ticks\": \"\"}}, \"type\": \"scatterpolar\"}], \"scatterpolargl\": [{\"marker\": {\"colorbar\": {\"outlinewidth\": 0, \"ticks\": \"\"}}, \"type\": \"scatterpolargl\"}], \"scatterternary\": [{\"marker\": {\"colorbar\": {\"outlinewidth\": 0, \"ticks\": \"\"}}, \"type\": \"scatterternary\"}], \"surface\": [{\"colorbar\": {\"outlinewidth\": 0, \"ticks\": \"\"}, \"colorscale\": [[0.0, \"#0d0887\"], [0.1111111111111111, \"#46039f\"], [0.2222222222222222, \"#7201a8\"], [0.3333333333333333, \"#9c179e\"], [0.4444444444444444, \"#bd3786\"], [0.5555555555555556, \"#d8576b\"], [0.6666666666666666, \"#ed7953\"], [0.7777777777777778, \"#fb9f3a\"], [0.8888888888888888, \"#fdca26\"], [1.0, \"#f0f921\"]], \"type\": \"surface\"}], \"table\": [{\"cells\": {\"fill\": {\"color\": \"#EBF0F8\"}, \"line\": {\"color\": \"white\"}}, \"header\": {\"fill\": {\"color\": \"#C8D4E3\"}, \"line\": {\"color\": \"white\"}}, \"type\": \"table\"}]}, \"layout\": {\"annotationdefaults\": {\"arrowcolor\": \"#2a3f5f\", \"arrowhead\": 0, \"arrowwidth\": 1}, \"coloraxis\": {\"colorbar\": {\"outlinewidth\": 0, \"ticks\": \"\"}}, \"colorscale\": {\"diverging\": [[0, \"#8e0152\"], [0.1, \"#c51b7d\"], [0.2, \"#de77ae\"], [0.3, \"#f1b6da\"], [0.4, \"#fde0ef\"], [0.5, \"#f7f7f7\"], [0.6, \"#e6f5d0\"], [0.7, \"#b8e186\"], [0.8, \"#7fbc41\"], [0.9, \"#4d9221\"], [1, \"#276419\"]], \"sequential\": [[0.0, \"#0d0887\"], [0.1111111111111111, \"#46039f\"], [0.2222222222222222, \"#7201a8\"], [0.3333333333333333, \"#9c179e\"], [0.4444444444444444, \"#bd3786\"], [0.5555555555555556, \"#d8576b\"], [0.6666666666666666, \"#ed7953\"], [0.7777777777777778, \"#fb9f3a\"], [0.8888888888888888, \"#fdca26\"], [1.0, \"#f0f921\"]], \"sequentialminus\": [[0.0, \"#0d0887\"], [0.1111111111111111, \"#46039f\"], [0.2222222222222222, \"#7201a8\"], [0.3333333333333333, \"#9c179e\"], [0.4444444444444444, \"#bd3786\"], [0.5555555555555556, \"#d8576b\"], [0.6666666666666666, \"#ed7953\"], [0.7777777777777778, \"#fb9f3a\"], [0.8888888888888888, \"#fdca26\"], [1.0, \"#f0f921\"]]}, \"colorway\": [\"#636efa\", \"#EF553B\", \"#00cc96\", \"#ab63fa\", \"#FFA15A\", \"#19d3f3\", \"#FF6692\", \"#B6E880\", \"#FF97FF\", \"#FECB52\"], \"font\": {\"color\": \"#2a3f5f\"}, \"geo\": {\"bgcolor\": \"white\", \"lakecolor\": \"white\", \"landcolor\": \"#E5ECF6\", \"showlakes\": true, \"showland\": true, \"subunitcolor\": \"white\"}, \"hoverlabel\": {\"align\": \"left\"}, \"hovermode\": \"closest\", \"mapbox\": {\"style\": \"light\"}, \"paper_bgcolor\": \"white\", \"plot_bgcolor\": \"#E5ECF6\", \"polar\": {\"angularaxis\": {\"gridcolor\": \"white\", \"linecolor\": \"white\", \"ticks\": \"\"}, \"bgcolor\": \"#E5ECF6\", \"radialaxis\": {\"gridcolor\": \"white\", \"linecolor\": \"white\", \"ticks\": \"\"}}, \"scene\": {\"xaxis\": {\"backgroundcolor\": \"#E5ECF6\", \"gridcolor\": \"white\", \"gridwidth\": 2, \"linecolor\": \"white\", \"showbackground\": true, \"ticks\": \"\", \"zerolinecolor\": \"white\"}, \"yaxis\": {\"backgroundcolor\": \"#E5ECF6\", \"gridcolor\": \"white\", \"gridwidth\": 2, \"linecolor\": \"white\", \"showbackground\": true, \"ticks\": \"\", \"zerolinecolor\": \"white\"}, \"zaxis\": {\"backgroundcolor\": \"#E5ECF6\", \"gridcolor\": \"white\", \"gridwidth\": 2, \"linecolor\": \"white\", \"showbackground\": true, \"ticks\": \"\", \"zerolinecolor\": \"white\"}}, \"shapedefaults\": {\"line\": {\"color\": \"#2a3f5f\"}}, \"ternary\": {\"aaxis\": {\"gridcolor\": \"white\", \"linecolor\": \"white\", \"ticks\": \"\"}, \"baxis\": {\"gridcolor\": \"white\", \"linecolor\": \"white\", \"ticks\": \"\"}, \"bgcolor\": \"#E5ECF6\", \"caxis\": {\"gridcolor\": \"white\", \"linecolor\": \"white\", \"ticks\": \"\"}}, \"title\": {\"x\": 0.05}, \"xaxis\": {\"automargin\": true, \"gridcolor\": \"white\", \"linecolor\": \"white\", \"ticks\": \"\", \"title\": {\"standoff\": 15}, \"zerolinecolor\": \"white\", \"zerolinewidth\": 2}, \"yaxis\": {\"automargin\": true, \"gridcolor\": \"white\", \"linecolor\": \"white\", \"ticks\": \"\", \"title\": {\"standoff\": 15}, \"zerolinecolor\": \"white\", \"zerolinewidth\": 2}}}, \"xaxis\": {\"anchor\": \"y\", \"domain\": [0.0, 1.0], \"title\": {\"text\": \"Glucose\"}}, \"yaxis\": {\"anchor\": \"x\", \"domain\": [0.0, 1.0], \"title\": {\"text\": \"BMI\"}}},\n",
       "                        {\"responsive\": true}\n",
       "                    ).then(function(){\n",
       "                            \n",
       "var gd = document.getElementById('ed911a25-2845-4780-bf4a-b712751b3333');\n",
       "var x = new MutationObserver(function (mutations, observer) {{\n",
       "        var display = window.getComputedStyle(gd).display;\n",
       "        if (!display || display === 'none') {{\n",
       "            console.log([gd, 'removed!']);\n",
       "            Plotly.purge(gd);\n",
       "            observer.disconnect();\n",
       "        }}\n",
       "}});\n",
       "\n",
       "// Listen for the removal of the full notebook cells\n",
       "var notebookContainer = gd.closest('#notebook-container');\n",
       "if (notebookContainer) {{\n",
       "    x.observe(notebookContainer, {childList: true});\n",
       "}}\n",
       "\n",
       "// Listen for the clearing of the current output cell\n",
       "var outputEl = gd.closest('.output');\n",
       "if (outputEl) {{\n",
       "    x.observe(outputEl, {childList: true});\n",
       "}}\n",
       "\n",
       "                        })\n",
       "                };\n",
       "                });\n",
       "            </script>\n",
       "        </div>"
      ]
     },
     "metadata": {},
     "output_type": "display_data"
    }
   ],
   "source": [
    "px.scatter(diabetes, x='Glucose', y='BMI', color='Outcome')"
   ]
  },
  {
   "cell_type": "markdown",
   "metadata": {},
   "source": [
    "- __Glucose__ seems to be the most important parameters \n",
    "- People with a low __BMI__, under 23 is not touch by the disease"
   ]
  },
  {
   "cell_type": "markdown",
   "metadata": {},
   "source": [
    "## Looking for Correlation"
   ]
  },
  {
   "cell_type": "code",
   "execution_count": 72,
   "metadata": {},
   "outputs": [],
   "source": [
    "corr_matrix = diabetes.corr()"
   ]
  },
  {
   "cell_type": "code",
   "execution_count": 73,
   "metadata": {},
   "outputs": [
    {
     "data": {
      "text/plain": [
       "Outcome                     1.000000\n",
       "Glucose                     0.456117\n",
       "BMI                         0.306335\n",
       "Age                         0.280654\n",
       "Pregnancies                 0.207550\n",
       "DiabetesPedigreeFunction    0.154560\n",
       "Insulin                     0.108498\n",
       "BloodPressure               0.082046\n",
       "SkinThickness               0.057912\n",
       "Name: Outcome, dtype: float64"
      ]
     },
     "execution_count": 73,
     "metadata": {},
     "output_type": "execute_result"
    }
   ],
   "source": [
    "corr_matrix['Outcome'].sort_values(ascending=False)"
   ]
  },
  {
   "cell_type": "markdown",
   "metadata": {},
   "source": [
    "<div class=\"alert alert-block alert-info\">\n",
    "<b>Interpretation</b>\n",
    "    <ul>\n",
    "        <li>best attributes, Glucose, BMI and Age</li>\n",
    "        <li>we may delete the skin thickness atributes because it's not realy correlated and we have a lot of missing values</li>\n",
    "    </ul>\n",
    "</div>"
   ]
  },
  {
   "cell_type": "code",
   "execution_count": 74,
   "metadata": {},
   "outputs": [
    {
     "data": {
      "text/plain": [
       "array([[<matplotlib.axes._subplots.AxesSubplot object at 0x7f898ebde190>,\n",
       "        <matplotlib.axes._subplots.AxesSubplot object at 0x7f898ec18670>,\n",
       "        <matplotlib.axes._subplots.AxesSubplot object at 0x7f898ec32d60>,\n",
       "        <matplotlib.axes._subplots.AxesSubplot object at 0x7f898ec61550>],\n",
       "       [<matplotlib.axes._subplots.AxesSubplot object at 0x7f898ec8ac40>,\n",
       "        <matplotlib.axes._subplots.AxesSubplot object at 0x7f898ecc0340>,\n",
       "        <matplotlib.axes._subplots.AxesSubplot object at 0x7f898ecc0430>,\n",
       "        <matplotlib.axes._subplots.AxesSubplot object at 0x7f898eceac10>],\n",
       "       [<matplotlib.axes._subplots.AxesSubplot object at 0x7f898ee4bac0>,\n",
       "        <matplotlib.axes._subplots.AxesSubplot object at 0x7f898ee81280>,\n",
       "        <matplotlib.axes._subplots.AxesSubplot object at 0x7f898eea9a00>,\n",
       "        <matplotlib.axes._subplots.AxesSubplot object at 0x7f898eedf1c0>],\n",
       "       [<matplotlib.axes._subplots.AxesSubplot object at 0x7f898ef09940>,\n",
       "        <matplotlib.axes._subplots.AxesSubplot object at 0x7f898ef2f160>,\n",
       "        <matplotlib.axes._subplots.AxesSubplot object at 0x7f898ef65880>,\n",
       "        <matplotlib.axes._subplots.AxesSubplot object at 0x7f898ef900a0>]],\n",
       "      dtype=object)"
      ]
     },
     "execution_count": 74,
     "metadata": {},
     "output_type": "execute_result"
    },
    {
     "data": {
      "image/png": "[encoded data removed]",
      "text/plain": [
       "<Figure size 864x576 with 16 Axes>"
      ]
     },
     "metadata": {
      "needs_background": "light"
     },
     "output_type": "display_data"
    }
   ],
   "source": [
    "from pandas.plotting import scatter_matrix\n",
    "attributes = ['Outcome', 'Glucose', 'BMI', 'Age']\n",
    "scatter_matrix(diabetes[attributes], figsize=(12,8))"
   ]
  },
  {
   "cell_type": "code",
   "execution_count": 75,
   "metadata": {},
   "outputs": [
    {
     "data": {
      "application/vnd.plotly.v1+json": {
       "config": {
        "plotlyServerURL": "https://plot.ly"
       },
       "data": [
        {
         "hovertemplate": "Glucose=%{x}<br>Outcome=%{y}<extra></extra>",
         "legendgroup": "",
         "marker": {
          "color": "#636efa",
          "opacity": 0.5,
          "symbol": "circle"
         },
         "mode": "markers",
         "name": "",
         "orientation": "v",
         "showlegend": false,
         "type": "scatter",
         "x": [
          84,
          112,
          139,
          161,
          134,
          130,
          132,
          161,
          108,
          80,
          87,
          171,
          88,
          146,
          191,
          122,
          159,
          100,
          123,
          123,
          155,
          102,
          125,
          100,
          104,
          131,
          145,
          152,
          100,
          147,
          128,
          100,
          80,
          84,
          194,
          123,
          78,
          106,
          129,
          129,
          61,
          81,
          102,
          99,
          107,
          170,
          85,
          102,
          97,
          127,
          133,
          94,
          83,
          123,
          187,
          152,
          129,
          106,
          111,
          111,
          143,
          124,
          165,
          108,
          137,
          179,
          171,
          83,
          101,
          120,
          89,
          129,
          119,
          109,
          127,
          105,
          77,
          95,
          105,
          135,
          131,
          103,
          82,
          128,
          122,
          138,
          125,
          101,
          133,
          111,
          95,
          117,
          165,
          109,
          110,
          106,
          95,
          0,
          143,
          101,
          115,
          142,
          116,
          126,
          78,
          99,
          143,
          128,
          85,
          87,
          106,
          100,
          124,
          95,
          79,
          107,
          90,
          85,
          160,
          162,
          81,
          107,
          107,
          144,
          114,
          134,
          127,
          180,
          168,
          171,
          106,
          120,
          195,
          145,
          105,
          143,
          80,
          76,
          129,
          86,
          129,
          114,
          117,
          189,
          100,
          126,
          111,
          144,
          189,
          101,
          100,
          73,
          0,
          119,
          94,
          125,
          111,
          196,
          158,
          97,
          121,
          108,
          151,
          103,
          99,
          117,
          134,
          133,
          180,
          114,
          108,
          141,
          94,
          99,
          153,
          0,
          102,
          104,
          95,
          142,
          109,
          108,
          181,
          136,
          106,
          78,
          88,
          128,
          108,
          164,
          148,
          190,
          81,
          68,
          90,
          114,
          124,
          124,
          197,
          186,
          127,
          91,
          106,
          115,
          122,
          154,
          132,
          173,
          169,
          126,
          102,
          107,
          137,
          80,
          119,
          146,
          0,
          118,
          188,
          141,
          158,
          93,
          157,
          144,
          105,
          133,
          115,
          163,
          180,
          144,
          141,
          115,
          130,
          150,
          82,
          117,
          102,
          90,
          113,
          174,
          154,
          194,
          91,
          166,
          140,
          123,
          119,
          112,
          90,
          93,
          108,
          111,
          106,
          193,
          125,
          129,
          115,
          87,
          132,
          155,
          100,
          187,
          139,
          101,
          197,
          120,
          90,
          125,
          108,
          111,
          90,
          130,
          184,
          100,
          128,
          97,
          116,
          122,
          111,
          188,
          120,
          97,
          95,
          99,
          119,
          76,
          125,
          79,
          196,
          82,
          100,
          107,
          119,
          146,
          107,
          130,
          124,
          113,
          125,
          183,
          65,
          111,
          146,
          174,
          97,
          142,
          87,
          144,
          126,
          121,
          128,
          57,
          56,
          124,
          116,
          181,
          180,
          154,
          124,
          134,
          118,
          103,
          140,
          110,
          89,
          92,
          84,
          99,
          128,
          158,
          95,
          164,
          161,
          92,
          136,
          163,
          87,
          147,
          92,
          142,
          147,
          103,
          147,
          117,
          102,
          109,
          179,
          99,
          122,
          154,
          173,
          117,
          120,
          179,
          155,
          118,
          130,
          85,
          120,
          112,
          94,
          109,
          114,
          102,
          114,
          114,
          156,
          105,
          84,
          112,
          155,
          101,
          90,
          81,
          94,
          129,
          99,
          176,
          114,
          72,
          117,
          162,
          91,
          89,
          197,
          90,
          138,
          91,
          86,
          115,
          93,
          103,
          116,
          95,
          126,
          138,
          136,
          105,
          136,
          116,
          99,
          106,
          57,
          92,
          129,
          151,
          99,
          88,
          157,
          181,
          132,
          101,
          108,
          106,
          107,
          108,
          128,
          95,
          107,
          73,
          108,
          97,
          122,
          173,
          125,
          105,
          136,
          111,
          96,
          99,
          112,
          130,
          176,
          168,
          67,
          116,
          153,
          120,
          128,
          92,
          83,
          110,
          89,
          79,
          165,
          105,
          122,
          106,
          182,
          102,
          140,
          88,
          193,
          133,
          98,
          125,
          100,
          92,
          114,
          119,
          116,
          75,
          137,
          158,
          129,
          127,
          117,
          97,
          118,
          110,
          139,
          163,
          125,
          103,
          100,
          102,
          162,
          123,
          149,
          144,
          99,
          91,
          143,
          120,
          88,
          156,
          196,
          131,
          131,
          120,
          125,
          137,
          147,
          107,
          168,
          187,
          93,
          98,
          115,
          0,
          71,
          88,
          113,
          96,
          97,
          121,
          142,
          194,
          156,
          96,
          83,
          166,
          132,
          195,
          129,
          44,
          137,
          179,
          117,
          81,
          68,
          114,
          166,
          99,
          180,
          99,
          93,
          128,
          109,
          88,
          115,
          151,
          129,
          71,
          175,
          121,
          146,
          138,
          102,
          124,
          137,
          105,
          126,
          95,
          100,
          85,
          94,
          198,
          113,
          111,
          122,
          84,
          181,
          100,
          124,
          123,
          178,
          91,
          126,
          91,
          189,
          112,
          108,
          105,
          71,
          148,
          170,
          167,
          145,
          136,
          96,
          119,
          99,
          87,
          130,
          139,
          118,
          137,
          162,
          84,
          146,
          114,
          125,
          90,
          99,
          113,
          134,
          151,
          106,
          123,
          119,
          143,
          89,
          122,
          128,
          199,
          173,
          145,
          122,
          84,
          100,
          148,
          118,
          112,
          74,
          111,
          138,
          126,
          122,
          139,
          96,
          101,
          141,
          125
         ],
         "xaxis": "x",
         "y": [
          0,
          1,
          0,
          0,
          1,
          0,
          1,
          1,
          0,
          0,
          0,
          1,
          0,
          0,
          0,
          1,
          0,
          1,
          1,
          0,
          0,
          0,
          0,
          0,
          1,
          1,
          0,
          0,
          0,
          1,
          1,
          0,
          0,
          0,
          1,
          0,
          1,
          0,
          1,
          0,
          0,
          0,
          0,
          0,
          1,
          1,
          0,
          0,
          1,
          0,
          0,
          0,
          0,
          0,
          1,
          1,
          0,
          0,
          0,
          0,
          1,
          0,
          0,
          1,
          0,
          0,
          1,
          0,
          0,
          0,
          0,
          0,
          1,
          1,
          0,
          0,
          0,
          0,
          0,
          1,
          0,
          0,
          0,
          0,
          1,
          1,
          0,
          0,
          1,
          0,
          0,
          0,
          0,
          0,
          0,
          0,
          1,
          0,
          1,
          0,
          0,
          0,
          0,
          1,
          0,
          0,
          0,
          1,
          0,
          0,
          0,
          0,
          0,
          0,
          0,
          0,
          0,
          0,
          1,
          1,
          0,
          0,
          0,
          1,
          0,
          0,
          0,
          1,
          1,
          1,
          0,
          0,
          1,
          1,
          0,
          0,
          0,
          0,
          1,
          0,
          1,
          0,
          0,
          1,
          1,
          0,
          0,
          1,
          1,
          0,
          0,
          0,
          0,
          0,
          0,
          1,
          0,
          1,
          1,
          0,
          0,
          0,
          1,
          0,
          0,
          0,
          1,
          1,
          1,
          0,
          1,
          0,
          0,
          0,
          0,
          0,
          0,
          0,
          0,
          1,
          1,
          0,
          1,
          1,
          0,
          0,
          1,
          0,
          0,
          1,
          1,
          1,
          0,
          0,
          0,
          0,
          0,
          1,
          0,
          1,
          0,
          0,
          0,
          0,
          0,
          0,
          0,
          1,
          1,
          0,
          0,
          0,
          0,
          0,
          0,
          0,
          1,
          0,
          1,
          1,
          1,
          0,
          0,
          0,
          0,
          0,
          1,
          1,
          1,
          1,
          0,
          0,
          1,
          0,
          0,
          1,
          1,
          0,
          1,
          1,
          0,
          1,
          0,
          0,
          0,
          1,
          0,
          1,
          0,
          1,
          0,
          0,
          0,
          1,
          1,
          0,
          1,
          0,
          0,
          1,
          0,
          1,
          0,
          0,
          1,
          0,
          0,
          1,
          0,
          0,
          1,
          0,
          1,
          1,
          0,
          0,
          0,
          0,
          1,
          1,
          0,
          1,
          0,
          0,
          1,
          0,
          1,
          0,
          1,
          0,
          0,
          0,
          0,
          1,
          1,
          1,
          1,
          1,
          0,
          0,
          0,
          0,
          1,
          1,
          0,
          0,
          0,
          1,
          0,
          1,
          0,
          0,
          0,
          0,
          0,
          1,
          1,
          0,
          1,
          1,
          1,
          1,
          1,
          0,
          0,
          0,
          0,
          0,
          1,
          1,
          0,
          1,
          1,
          0,
          0,
          1,
          0,
          1,
          0,
          0,
          0,
          0,
          0,
          0,
          1,
          0,
          1,
          0,
          0,
          0,
          1,
          0,
          1,
          1,
          1,
          0,
          0,
          0,
          0,
          0,
          0,
          0,
          0,
          0,
          0,
          0,
          1,
          0,
          0,
          0,
          1,
          0,
          1,
          0,
          0,
          1,
          0,
          1,
          0,
          0,
          0,
          1,
          0,
          0,
          1,
          0,
          0,
          0,
          0,
          1,
          0,
          0,
          0,
          0,
          0,
          1,
          0,
          0,
          0,
          0,
          0,
          0,
          0,
          0,
          1,
          1,
          0,
          0,
          0,
          1,
          0,
          0,
          1,
          0,
          1,
          0,
          1,
          1,
          0,
          0,
          0,
          0,
          0,
          1,
          1,
          1,
          1,
          0,
          0,
          0,
          1,
          1,
          1,
          1,
          0,
          1,
          0,
          0,
          0,
          0,
          0,
          0,
          0,
          0,
          0,
          0,
          0,
          0,
          1,
          0,
          0,
          0,
          0,
          0,
          0,
          0,
          0,
          0,
          1,
          0,
          0,
          0,
          0,
          0,
          1,
          0,
          0,
          0,
          1,
          0,
          1,
          1,
          0,
          0,
          1,
          1,
          0,
          0,
          1,
          0,
          0,
          0,
          0,
          0,
          0,
          1,
          1,
          0,
          1,
          0,
          0,
          1,
          1,
          0,
          1,
          1,
          0,
          0,
          1,
          1,
          0,
          0,
          0,
          0,
          0,
          1,
          1,
          0,
          1,
          0,
          0,
          1,
          1,
          1,
          0,
          0,
          0,
          1,
          1,
          0,
          0,
          1,
          1,
          0,
          0,
          0,
          0,
          1,
          1,
          0,
          1,
          0,
          0,
          0,
          1,
          0,
          1,
          0,
          0,
          0,
          0,
          1,
          0,
          0,
          0,
          0,
          0,
          1,
          0,
          0,
          0,
          0,
          1,
          0,
          1,
          0,
          1,
          0,
          0,
          0,
          1,
          0,
          0,
          1,
          0,
          0,
          1,
          1,
          1,
          1,
          0,
          1,
          0,
          0,
          0,
          1,
          0,
          0,
          1,
          1,
          0,
          0,
          1,
          0,
          0,
          0,
          0,
          0,
          1,
          0,
          0,
          0,
          0,
          0,
          1,
          1,
          1,
          1,
          1,
          0,
          0,
          1,
          0,
          1,
          0,
          0,
          1,
          0,
          0,
          0,
          0,
          1,
          1,
          0
         ],
         "yaxis": "y"
        }
       ],
       "layout": {
        "legend": {
         "tracegroupgap": 0
        },
        "margin": {
         "t": 60
        },
        "template": {
         "data": {
          "bar": [
           {
            "error_x": {
             "color": "#2a3f5f"
            },
            "error_y": {
             "color": "#2a3f5f"
            },
            "marker": {
             "line": {
              "color": "#E5ECF6",
              "width": 0.5
             }
            },
            "type": "bar"
           }
          ],
          "barpolar": [
           {
            "marker": {
             "line": {
              "color": "#E5ECF6",
              "width": 0.5
             }
            },
            "type": "barpolar"
           }
          ],
          "carpet": [
           {
            "aaxis": {
             "endlinecolor": "#2a3f5f",
             "gridcolor": "white",
             "linecolor": "white",
             "minorgridcolor": "white",
             "startlinecolor": "#2a3f5f"
            },
            "baxis": {
             "endlinecolor": "#2a3f5f",
             "gridcolor": "white",
             "linecolor": "white",
             "minorgridcolor": "white",
             "startlinecolor": "#2a3f5f"
            },
            "type": "carpet"
           }
          ],
          "choropleth": [
           {
            "colorbar": {
             "outlinewidth": 0,
             "ticks": ""
            },
            "type": "choropleth"
           }
          ],
          "contour": [
           {
            "colorbar": {
             "outlinewidth": 0,
             "ticks": ""
            },
            "colorscale": [
             [
              0,
              "#0d0887"
             ],
             [
              0.1111111111111111,
              "#46039f"
             ],
             [
              0.2222222222222222,
              "#7201a8"
             ],
             [
              0.3333333333333333,
              "#9c179e"
             ],
             [
              0.4444444444444444,
              "#bd3786"
             ],
             [
              0.5555555555555556,
              "#d8576b"
             ],
             [
              0.6666666666666666,
              "#ed7953"
             ],
             [
              0.7777777777777778,
              "#fb9f3a"
             ],
             [
              0.8888888888888888,
              "#fdca26"
             ],
             [
              1,
              "#f0f921"
             ]
            ],
            "type": "contour"
           }
          ],
          "contourcarpet": [
           {
            "colorbar": {
             "outlinewidth": 0,
             "ticks": ""
            },
            "type": "contourcarpet"
           }
          ],
          "heatmap": [
           {
            "colorbar": {
             "outlinewidth": 0,
             "ticks": ""
            },
            "colorscale": [
             [
              0,
              "#0d0887"
             ],
             [
              0.1111111111111111,
              "#46039f"
             ],
             [
              0.2222222222222222,
              "#7201a8"
             ],
             [
              0.3333333333333333,
              "#9c179e"
             ],
             [
              0.4444444444444444,
              "#bd3786"
             ],
             [
              0.5555555555555556,
              "#d8576b"
             ],
             [
              0.6666666666666666,
              "#ed7953"
             ],
             [
              0.7777777777777778,
              "#fb9f3a"
             ],
             [
              0.8888888888888888,
              "#fdca26"
             ],
             [
              1,
              "#f0f921"
             ]
            ],
            "type": "heatmap"
           }
          ],
          "heatmapgl": [
           {
            "colorbar": {
             "outlinewidth": 0,
             "ticks": ""
            },
            "colorscale": [
             [
              0,
              "#0d0887"
             ],
             [
              0.1111111111111111,
              "#46039f"
             ],
             [
              0.2222222222222222,
              "#7201a8"
             ],
             [
              0.3333333333333333,
              "#9c179e"
             ],
             [
              0.4444444444444444,
              "#bd3786"
             ],
             [
              0.5555555555555556,
              "#d8576b"
             ],
             [
              0.6666666666666666,
              "#ed7953"
             ],
             [
              0.7777777777777778,
              "#fb9f3a"
             ],
             [
              0.8888888888888888,
              "#fdca26"
             ],
             [
              1,
              "#f0f921"
             ]
            ],
            "type": "heatmapgl"
           }
          ],
          "histogram": [
           {
            "marker": {
             "colorbar": {
              "outlinewidth": 0,
              "ticks": ""
             }
            },
            "type": "histogram"
           }
          ],
          "histogram2d": [
           {
            "colorbar": {
             "outlinewidth": 0,
             "ticks": ""
            },
            "colorscale": [
             [
              0,
              "#0d0887"
             ],
             [
              0.1111111111111111,
              "#46039f"
             ],
             [
              0.2222222222222222,
              "#7201a8"
             ],
             [
              0.3333333333333333,
              "#9c179e"
             ],
             [
              0.4444444444444444,
              "#bd3786"
             ],
             [
              0.5555555555555556,
              "#d8576b"
             ],
             [
              0.6666666666666666,
              "#ed7953"
             ],
             [
              0.7777777777777778,
              "#fb9f3a"
             ],
             [
              0.8888888888888888,
              "#fdca26"
             ],
             [
              1,
              "#f0f921"
             ]
            ],
            "type": "histogram2d"
           }
          ],
          "histogram2dcontour": [
           {
            "colorbar": {
             "outlinewidth": 0,
             "ticks": ""
            },
            "colorscale": [
             [
              0,
              "#0d0887"
             ],
             [
              0.1111111111111111,
              "#46039f"
             ],
             [
              0.2222222222222222,
              "#7201a8"
             ],
             [
              0.3333333333333333,
              "#9c179e"
             ],
             [
              0.4444444444444444,
              "#bd3786"
             ],
             [
              0.5555555555555556,
              "#d8576b"
             ],
             [
              0.6666666666666666,
              "#ed7953"
             ],
             [
              0.7777777777777778,
              "#fb9f3a"
             ],
             [
              0.8888888888888888,
              "#fdca26"
             ],
             [
              1,
              "#f0f921"
             ]
            ],
            "type": "histogram2dcontour"
           }
          ],
          "mesh3d": [
           {
            "colorbar": {
             "outlinewidth": 0,
             "ticks": ""
            },
            "type": "mesh3d"
           }
          ],
          "parcoords": [
           {
            "line": {
             "colorbar": {
              "outlinewidth": 0,
              "ticks": ""
             }
            },
            "type": "parcoords"
           }
          ],
          "pie": [
           {
            "automargin": true,
            "type": "pie"
           }
          ],
          "scatter": [
           {
            "marker": {
             "colorbar": {
              "outlinewidth": 0,
              "ticks": ""
             }
            },
            "type": "scatter"
           }
          ],
          "scatter3d": [
           {
            "line": {
             "colorbar": {
              "outlinewidth": 0,
              "ticks": ""
             }
            },
            "marker": {
             "colorbar": {
              "outlinewidth": 0,
              "ticks": ""
             }
            },
            "type": "scatter3d"
           }
          ],
          "scattercarpet": [
           {
            "marker": {
             "colorbar": {
              "outlinewidth": 0,
              "ticks": ""
             }
            },
            "type": "scattercarpet"
           }
          ],
          "scattergeo": [
           {
            "marker": {
             "colorbar": {
              "outlinewidth": 0,
              "ticks": ""
             }
            },
            "type": "scattergeo"
           }
          ],
          "scattergl": [
           {
            "marker": {
             "colorbar": {
              "outlinewidth": 0,
              "ticks": ""
             }
            },
            "type": "scattergl"
           }
          ],
          "scattermapbox": [
           {
            "marker": {
             "colorbar": {
              "outlinewidth": 0,
              "ticks": ""
             }
            },
            "type": "scattermapbox"
           }
          ],
          "scatterpolar": [
           {
            "marker": {
             "colorbar": {
              "outlinewidth": 0,
              "ticks": ""
             }
            },
            "type": "scatterpolar"
           }
          ],
          "scatterpolargl": [
           {
            "marker": {
             "colorbar": {
              "outlinewidth": 0,
              "ticks": ""
             }
            },
            "type": "scatterpolargl"
           }
          ],
          "scatterternary": [
           {
            "marker": {
             "colorbar": {
              "outlinewidth": 0,
              "ticks": ""
             }
            },
            "type": "scatterternary"
           }
          ],
          "surface": [
           {
            "colorbar": {
             "outlinewidth": 0,
             "ticks": ""
            },
            "colorscale": [
             [
              0,
              "#0d0887"
             ],
             [
              0.1111111111111111,
              "#46039f"
             ],
             [
              0.2222222222222222,
              "#7201a8"
             ],
             [
              0.3333333333333333,
              "#9c179e"
             ],
             [
              0.4444444444444444,
              "#bd3786"
             ],
             [
              0.5555555555555556,
              "#d8576b"
             ],
             [
              0.6666666666666666,
              "#ed7953"
             ],
             [
              0.7777777777777778,
              "#fb9f3a"
             ],
             [
              0.8888888888888888,
              "#fdca26"
             ],
             [
              1,
              "#f0f921"
             ]
            ],
            "type": "surface"
           }
          ],
          "table": [
           {
            "cells": {
             "fill": {
              "color": "#EBF0F8"
             },
             "line": {
              "color": "white"
             }
            },
            "header": {
             "fill": {
              "color": "#C8D4E3"
             },
             "line": {
              "color": "white"
             }
            },
            "type": "table"
           }
          ]
         },
         "layout": {
          "annotationdefaults": {
           "arrowcolor": "#2a3f5f",
           "arrowhead": 0,
           "arrowwidth": 1
          },
          "coloraxis": {
           "colorbar": {
            "outlinewidth": 0,
            "ticks": ""
           }
          },
          "colorscale": {
           "diverging": [
            [
             0,
             "#8e0152"
            ],
            [
             0.1,
             "#c51b7d"
            ],
            [
             0.2,
             "#de77ae"
            ],
            [
             0.3,
             "#f1b6da"
            ],
            [
             0.4,
             "#fde0ef"
            ],
            [
             0.5,
             "#f7f7f7"
            ],
            [
             0.6,
             "#e6f5d0"
            ],
            [
             0.7,
             "#b8e186"
            ],
            [
             0.8,
             "#7fbc41"
            ],
            [
             0.9,
             "#4d9221"
            ],
            [
             1,
             "#276419"
            ]
           ],
           "sequential": [
            [
             0,
             "#0d0887"
            ],
            [
             0.1111111111111111,
             "#46039f"
            ],
            [
             0.2222222222222222,
             "#7201a8"
            ],
            [
             0.3333333333333333,
             "#9c179e"
            ],
            [
             0.4444444444444444,
             "#bd3786"
            ],
            [
             0.5555555555555556,
             "#d8576b"
            ],
            [
             0.6666666666666666,
             "#ed7953"
            ],
            [
             0.7777777777777778,
             "#fb9f3a"
            ],
            [
             0.8888888888888888,
             "#fdca26"
            ],
            [
             1,
             "#f0f921"
            ]
           ],
           "sequentialminus": [
            [
             0,
             "#0d0887"
            ],
            [
             0.1111111111111111,
             "#46039f"
            ],
            [
             0.2222222222222222,
             "#7201a8"
            ],
            [
             0.3333333333333333,
             "#9c179e"
            ],
            [
             0.4444444444444444,
             "#bd3786"
            ],
            [
             0.5555555555555556,
             "#d8576b"
            ],
            [
             0.6666666666666666,
             "#ed7953"
            ],
            [
             0.7777777777777778,
             "#fb9f3a"
            ],
            [
             0.8888888888888888,
             "#fdca26"
            ],
            [
             1,
             "#f0f921"
            ]
           ]
          },
          "colorway": [
           "#636efa",
           "#EF553B",
           "#00cc96",
           "#ab63fa",
           "#FFA15A",
           "#19d3f3",
           "#FF6692",
           "#B6E880",
           "#FF97FF",
           "#FECB52"
          ],
          "font": {
           "color": "#2a3f5f"
          },
          "geo": {
           "bgcolor": "white",
           "lakecolor": "white",
           "landcolor": "#E5ECF6",
           "showlakes": true,
           "showland": true,
           "subunitcolor": "white"
          },
          "hoverlabel": {
           "align": "left"
          },
          "hovermode": "closest",
          "mapbox": {
           "style": "light"
          },
          "paper_bgcolor": "white",
          "plot_bgcolor": "#E5ECF6",
          "polar": {
           "angularaxis": {
            "gridcolor": "white",
            "linecolor": "white",
            "ticks": ""
           },
           "bgcolor": "#E5ECF6",
           "radialaxis": {
            "gridcolor": "white",
            "linecolor": "white",
            "ticks": ""
           }
          },
          "scene": {
           "xaxis": {
            "backgroundcolor": "#E5ECF6",
            "gridcolor": "white",
            "gridwidth": 2,
            "linecolor": "white",
            "showbackground": true,
            "ticks": "",
            "zerolinecolor": "white"
           },
           "yaxis": {
            "backgroundcolor": "#E5ECF6",
            "gridcolor": "white",
            "gridwidth": 2,
            "linecolor": "white",
            "showbackground": true,
            "ticks": "",
            "zerolinecolor": "white"
           },
           "zaxis": {
            "backgroundcolor": "#E5ECF6",
            "gridcolor": "white",
            "gridwidth": 2,
            "linecolor": "white",
            "showbackground": true,
            "ticks": "",
            "zerolinecolor": "white"
           }
          },
          "shapedefaults": {
           "line": {
            "color": "#2a3f5f"
           }
          },
          "ternary": {
           "aaxis": {
            "gridcolor": "white",
            "linecolor": "white",
            "ticks": ""
           },
           "baxis": {
            "gridcolor": "white",
            "linecolor": "white",
            "ticks": ""
           },
           "bgcolor": "#E5ECF6",
           "caxis": {
            "gridcolor": "white",
            "linecolor": "white",
            "ticks": ""
           }
          },
          "title": {
           "x": 0.05
          },
          "xaxis": {
           "automargin": true,
           "gridcolor": "white",
           "linecolor": "white",
           "ticks": "",
           "title": {
            "standoff": 15
           },
           "zerolinecolor": "white",
           "zerolinewidth": 2
          },
          "yaxis": {
           "automargin": true,
           "gridcolor": "white",
           "linecolor": "white",
           "ticks": "",
           "title": {
            "standoff": 15
           },
           "zerolinecolor": "white",
           "zerolinewidth": 2
          }
         }
        },
        "xaxis": {
         "anchor": "y",
         "domain": [
          0,
          1
         ],
         "title": {
          "text": "Glucose"
         }
        },
        "yaxis": {
         "anchor": "x",
         "domain": [
          0,
          1
         ],
         "title": {
          "text": "Outcome"
         }
        }
       }
      },
      "text/html": [
       "<div>\n",
       "        \n",
       "        \n",
       "            <div id=\"5b3ea67a-b81d-46aa-b2d7-b6a757716866\" class=\"plotly-graph-div\" style=\"height:525px; width:100%;\"></div>\n",
       "            <script type=\"text/javascript\">\n",
       "                require([\"plotly\"], function(Plotly) {\n",
       "                    window.PLOTLYENV=window.PLOTLYENV || {};\n",
       "                    \n",
       "                if (document.getElementById(\"5b3ea67a-b81d-46aa-b2d7-b6a757716866\")) {\n",
       "                    Plotly.newPlot(\n",
       "                        '5b3ea67a-b81d-46aa-b2d7-b6a757716866',\n",
       "                        [{\"hovertemplate\": \"Glucose=%{x}<br>Outcome=%{y}<extra></extra>\", \"legendgroup\": \"\", \"marker\": {\"color\": \"#636efa\", \"opacity\": 0.5, \"symbol\": \"circle\"}, \"mode\": \"markers\", \"name\": \"\", \"orientation\": \"v\", \"showlegend\": false, \"type\": \"scatter\", \"x\": [84, 112, 139, 161, 134, 130, 132, 161, 108, 80, 87, 171, 88, 146, 191, 122, 159, 100, 123, 123, 155, 102, 125, 100, 104, 131, 145, 152, 100, 147, 128, 100, 80, 84, 194, 123, 78, 106, 129, 129, 61, 81, 102, 99, 107, 170, 85, 102, 97, 127, 133, 94, 83, 123, 187, 152, 129, 106, 111, 111, 143, 124, 165, 108, 137, 179, 171, 83, 101, 120, 89, 129, 119, 109, 127, 105, 77, 95, 105, 135, 131, 103, 82, 128, 122, 138, 125, 101, 133, 111, 95, 117, 165, 109, 110, 106, 95, 0, 143, 101, 115, 142, 116, 126, 78, 99, 143, 128, 85, 87, 106, 100, 124, 95, 79, 107, 90, 85, 160, 162, 81, 107, 107, 144, 114, 134, 127, 180, 168, 171, 106, 120, 195, 145, 105, 143, 80, 76, 129, 86, 129, 114, 117, 189, 100, 126, 111, 144, 189, 101, 100, 73, 0, 119, 94, 125, 111, 196, 158, 97, 121, 108, 151, 103, 99, 117, 134, 133, 180, 114, 108, 141, 94, 99, 153, 0, 102, 104, 95, 142, 109, 108, 181, 136, 106, 78, 88, 128, 108, 164, 148, 190, 81, 68, 90, 114, 124, 124, 197, 186, 127, 91, 106, 115, 122, 154, 132, 173, 169, 126, 102, 107, 137, 80, 119, 146, 0, 118, 188, 141, 158, 93, 157, 144, 105, 133, 115, 163, 180, 144, 141, 115, 130, 150, 82, 117, 102, 90, 113, 174, 154, 194, 91, 166, 140, 123, 119, 112, 90, 93, 108, 111, 106, 193, 125, 129, 115, 87, 132, 155, 100, 187, 139, 101, 197, 120, 90, 125, 108, 111, 90, 130, 184, 100, 128, 97, 116, 122, 111, 188, 120, 97, 95, 99, 119, 76, 125, 79, 196, 82, 100, 107, 119, 146, 107, 130, 124, 113, 125, 183, 65, 111, 146, 174, 97, 142, 87, 144, 126, 121, 128, 57, 56, 124, 116, 181, 180, 154, 124, 134, 118, 103, 140, 110, 89, 92, 84, 99, 128, 158, 95, 164, 161, 92, 136, 163, 87, 147, 92, 142, 147, 103, 147, 117, 102, 109, 179, 99, 122, 154, 173, 117, 120, 179, 155, 118, 130, 85, 120, 112, 94, 109, 114, 102, 114, 114, 156, 105, 84, 112, 155, 101, 90, 81, 94, 129, 99, 176, 114, 72, 117, 162, 91, 89, 197, 90, 138, 91, 86, 115, 93, 103, 116, 95, 126, 138, 136, 105, 136, 116, 99, 106, 57, 92, 129, 151, 99, 88, 157, 181, 132, 101, 108, 106, 107, 108, 128, 95, 107, 73, 108, 97, 122, 173, 125, 105, 136, 111, 96, 99, 112, 130, 176, 168, 67, 116, 153, 120, 128, 92, 83, 110, 89, 79, 165, 105, 122, 106, 182, 102, 140, 88, 193, 133, 98, 125, 100, 92, 114, 119, 116, 75, 137, 158, 129, 127, 117, 97, 118, 110, 139, 163, 125, 103, 100, 102, 162, 123, 149, 144, 99, 91, 143, 120, 88, 156, 196, 131, 131, 120, 125, 137, 147, 107, 168, 187, 93, 98, 115, 0, 71, 88, 113, 96, 97, 121, 142, 194, 156, 96, 83, 166, 132, 195, 129, 44, 137, 179, 117, 81, 68, 114, 166, 99, 180, 99, 93, 128, 109, 88, 115, 151, 129, 71, 175, 121, 146, 138, 102, 124, 137, 105, 126, 95, 100, 85, 94, 198, 113, 111, 122, 84, 181, 100, 124, 123, 178, 91, 126, 91, 189, 112, 108, 105, 71, 148, 170, 167, 145, 136, 96, 119, 99, 87, 130, 139, 118, 137, 162, 84, 146, 114, 125, 90, 99, 113, 134, 151, 106, 123, 119, 143, 89, 122, 128, 199, 173, 145, 122, 84, 100, 148, 118, 112, 74, 111, 138, 126, 122, 139, 96, 101, 141, 125], \"xaxis\": \"x\", \"y\": [0, 1, 0, 0, 1, 0, 1, 1, 0, 0, 0, 1, 0, 0, 0, 1, 0, 1, 1, 0, 0, 0, 0, 0, 1, 1, 0, 0, 0, 1, 1, 0, 0, 0, 1, 0, 1, 0, 1, 0, 0, 0, 0, 0, 1, 1, 0, 0, 1, 0, 0, 0, 0, 0, 1, 1, 0, 0, 0, 0, 1, 0, 0, 1, 0, 0, 1, 0, 0, 0, 0, 0, 1, 1, 0, 0, 0, 0, 0, 1, 0, 0, 0, 0, 1, 1, 0, 0, 1, 0, 0, 0, 0, 0, 0, 0, 1, 0, 1, 0, 0, 0, 0, 1, 0, 0, 0, 1, 0, 0, 0, 0, 0, 0, 0, 0, 0, 0, 1, 1, 0, 0, 0, 1, 0, 0, 0, 1, 1, 1, 0, 0, 1, 1, 0, 0, 0, 0, 1, 0, 1, 0, 0, 1, 1, 0, 0, 1, 1, 0, 0, 0, 0, 0, 0, 1, 0, 1, 1, 0, 0, 0, 1, 0, 0, 0, 1, 1, 1, 0, 1, 0, 0, 0, 0, 0, 0, 0, 0, 1, 1, 0, 1, 1, 0, 0, 1, 0, 0, 1, 1, 1, 0, 0, 0, 0, 0, 1, 0, 1, 0, 0, 0, 0, 0, 0, 0, 1, 1, 0, 0, 0, 0, 0, 0, 0, 1, 0, 1, 1, 1, 0, 0, 0, 0, 0, 1, 1, 1, 1, 0, 0, 1, 0, 0, 1, 1, 0, 1, 1, 0, 1, 0, 0, 0, 1, 0, 1, 0, 1, 0, 0, 0, 1, 1, 0, 1, 0, 0, 1, 0, 1, 0, 0, 1, 0, 0, 1, 0, 0, 1, 0, 1, 1, 0, 0, 0, 0, 1, 1, 0, 1, 0, 0, 1, 0, 1, 0, 1, 0, 0, 0, 0, 1, 1, 1, 1, 1, 0, 0, 0, 0, 1, 1, 0, 0, 0, 1, 0, 1, 0, 0, 0, 0, 0, 1, 1, 0, 1, 1, 1, 1, 1, 0, 0, 0, 0, 0, 1, 1, 0, 1, 1, 0, 0, 1, 0, 1, 0, 0, 0, 0, 0, 0, 1, 0, 1, 0, 0, 0, 1, 0, 1, 1, 1, 0, 0, 0, 0, 0, 0, 0, 0, 0, 0, 0, 1, 0, 0, 0, 1, 0, 1, 0, 0, 1, 0, 1, 0, 0, 0, 1, 0, 0, 1, 0, 0, 0, 0, 1, 0, 0, 0, 0, 0, 1, 0, 0, 0, 0, 0, 0, 0, 0, 1, 1, 0, 0, 0, 1, 0, 0, 1, 0, 1, 0, 1, 1, 0, 0, 0, 0, 0, 1, 1, 1, 1, 0, 0, 0, 1, 1, 1, 1, 0, 1, 0, 0, 0, 0, 0, 0, 0, 0, 0, 0, 0, 0, 1, 0, 0, 0, 0, 0, 0, 0, 0, 0, 1, 0, 0, 0, 0, 0, 1, 0, 0, 0, 1, 0, 1, 1, 0, 0, 1, 1, 0, 0, 1, 0, 0, 0, 0, 0, 0, 1, 1, 0, 1, 0, 0, 1, 1, 0, 1, 1, 0, 0, 1, 1, 0, 0, 0, 0, 0, 1, 1, 0, 1, 0, 0, 1, 1, 1, 0, 0, 0, 1, 1, 0, 0, 1, 1, 0, 0, 0, 0, 1, 1, 0, 1, 0, 0, 0, 1, 0, 1, 0, 0, 0, 0, 1, 0, 0, 0, 0, 0, 1, 0, 0, 0, 0, 1, 0, 1, 0, 1, 0, 0, 0, 1, 0, 0, 1, 0, 0, 1, 1, 1, 1, 0, 1, 0, 0, 0, 1, 0, 0, 1, 1, 0, 0, 1, 0, 0, 0, 0, 0, 1, 0, 0, 0, 0, 0, 1, 1, 1, 1, 1, 0, 0, 1, 0, 1, 0, 0, 1, 0, 0, 0, 0, 1, 1, 0], \"yaxis\": \"y\"}],\n",
       "                        {\"legend\": {\"tracegroupgap\": 0}, \"margin\": {\"t\": 60}, \"template\": {\"data\": {\"bar\": [{\"error_x\": {\"color\": \"#2a3f5f\"}, \"error_y\": {\"color\": \"#2a3f5f\"}, \"marker\": {\"line\": {\"color\": \"#E5ECF6\", \"width\": 0.5}}, \"type\": \"bar\"}], \"barpolar\": [{\"marker\": {\"line\": {\"color\": \"#E5ECF6\", \"width\": 0.5}}, \"type\": \"barpolar\"}], \"carpet\": [{\"aaxis\": {\"endlinecolor\": \"#2a3f5f\", \"gridcolor\": \"white\", \"linecolor\": \"white\", \"minorgridcolor\": \"white\", \"startlinecolor\": \"#2a3f5f\"}, \"baxis\": {\"endlinecolor\": \"#2a3f5f\", \"gridcolor\": \"white\", \"linecolor\": \"white\", \"minorgridcolor\": \"white\", \"startlinecolor\": \"#2a3f5f\"}, \"type\": \"carpet\"}], \"choropleth\": [{\"colorbar\": {\"outlinewidth\": 0, \"ticks\": \"\"}, \"type\": \"choropleth\"}], \"contour\": [{\"colorbar\": {\"outlinewidth\": 0, \"ticks\": \"\"}, \"colorscale\": [[0.0, \"#0d0887\"], [0.1111111111111111, \"#46039f\"], [0.2222222222222222, \"#7201a8\"], [0.3333333333333333, \"#9c179e\"], [0.4444444444444444, \"#bd3786\"], [0.5555555555555556, \"#d8576b\"], [0.6666666666666666, \"#ed7953\"], [0.7777777777777778, \"#fb9f3a\"], [0.8888888888888888, \"#fdca26\"], [1.0, \"#f0f921\"]], \"type\": \"contour\"}], \"contourcarpet\": [{\"colorbar\": {\"outlinewidth\": 0, \"ticks\": \"\"}, \"type\": \"contourcarpet\"}], \"heatmap\": [{\"colorbar\": {\"outlinewidth\": 0, \"ticks\": \"\"}, \"colorscale\": [[0.0, \"#0d0887\"], [0.1111111111111111, \"#46039f\"], [0.2222222222222222, \"#7201a8\"], [0.3333333333333333, \"#9c179e\"], [0.4444444444444444, \"#bd3786\"], [0.5555555555555556, \"#d8576b\"], [0.6666666666666666, \"#ed7953\"], [0.7777777777777778, \"#fb9f3a\"], [0.8888888888888888, \"#fdca26\"], [1.0, \"#f0f921\"]], \"type\": \"heatmap\"}], \"heatmapgl\": [{\"colorbar\": {\"outlinewidth\": 0, \"ticks\": \"\"}, \"colorscale\": [[0.0, \"#0d0887\"], [0.1111111111111111, \"#46039f\"], [0.2222222222222222, \"#7201a8\"], [0.3333333333333333, \"#9c179e\"], [0.4444444444444444, \"#bd3786\"], [0.5555555555555556, \"#d8576b\"], [0.6666666666666666, \"#ed7953\"], [0.7777777777777778, \"#fb9f3a\"], [0.8888888888888888, \"#fdca26\"], [1.0, \"#f0f921\"]], \"type\": \"heatmapgl\"}], \"histogram\": [{\"marker\": {\"colorbar\": {\"outlinewidth\": 0, \"ticks\": \"\"}}, \"type\": \"histogram\"}], \"histogram2d\": [{\"colorbar\": {\"outlinewidth\": 0, \"ticks\": \"\"}, \"colorscale\": [[0.0, \"#0d0887\"], [0.1111111111111111, \"#46039f\"], [0.2222222222222222, \"#7201a8\"], [0.3333333333333333, \"#9c179e\"], [0.4444444444444444, \"#bd3786\"], [0.5555555555555556, \"#d8576b\"], [0.6666666666666666, \"#ed7953\"], [0.7777777777777778, \"#fb9f3a\"], [0.8888888888888888, \"#fdca26\"], [1.0, \"#f0f921\"]], \"type\": \"histogram2d\"}], \"histogram2dcontour\": [{\"colorbar\": {\"outlinewidth\": 0, \"ticks\": \"\"}, \"colorscale\": [[0.0, \"#0d0887\"], [0.1111111111111111, \"#46039f\"], [0.2222222222222222, \"#7201a8\"], [0.3333333333333333, \"#9c179e\"], [0.4444444444444444, \"#bd3786\"], [0.5555555555555556, \"#d8576b\"], [0.6666666666666666, \"#ed7953\"], [0.7777777777777778, \"#fb9f3a\"], [0.8888888888888888, \"#fdca26\"], [1.0, \"#f0f921\"]], \"type\": \"histogram2dcontour\"}], \"mesh3d\": [{\"colorbar\": {\"outlinewidth\": 0, \"ticks\": \"\"}, \"type\": \"mesh3d\"}], \"parcoords\": [{\"line\": {\"colorbar\": {\"outlinewidth\": 0, \"ticks\": \"\"}}, \"type\": \"parcoords\"}], \"pie\": [{\"automargin\": true, \"type\": \"pie\"}], \"scatter\": [{\"marker\": {\"colorbar\": {\"outlinewidth\": 0, \"ticks\": \"\"}}, \"type\": \"scatter\"}], \"scatter3d\": [{\"line\": {\"colorbar\": {\"outlinewidth\": 0, \"ticks\": \"\"}}, \"marker\": {\"colorbar\": {\"outlinewidth\": 0, \"ticks\": \"\"}}, \"type\": \"scatter3d\"}], \"scattercarpet\": [{\"marker\": {\"colorbar\": {\"outlinewidth\": 0, \"ticks\": \"\"}}, \"type\": \"scattercarpet\"}], \"scattergeo\": [{\"marker\": {\"colorbar\": {\"outlinewidth\": 0, \"ticks\": \"\"}}, \"type\": \"scattergeo\"}], \"scattergl\": [{\"marker\": {\"colorbar\": {\"outlinewidth\": 0, \"ticks\": \"\"}}, \"type\": \"scattergl\"}], \"scattermapbox\": [{\"marker\": {\"colorbar\": {\"outlinewidth\": 0, \"ticks\": \"\"}}, \"type\": \"scattermapbox\"}], \"scatterpolar\": [{\"marker\": {\"colorbar\": {\"outlinewidth\": 0, \"ticks\": \"\"}}, \"type\": \"scatterpolar\"}], \"scatterpolargl\": [{\"marker\": {\"colorbar\": {\"outlinewidth\": 0, \"ticks\": \"\"}}, \"type\": \"scatterpolargl\"}], \"scatterternary\": [{\"marker\": {\"colorbar\": {\"outlinewidth\": 0, \"ticks\": \"\"}}, \"type\": \"scatterternary\"}], \"surface\": [{\"colorbar\": {\"outlinewidth\": 0, \"ticks\": \"\"}, \"colorscale\": [[0.0, \"#0d0887\"], [0.1111111111111111, \"#46039f\"], [0.2222222222222222, \"#7201a8\"], [0.3333333333333333, \"#9c179e\"], [0.4444444444444444, \"#bd3786\"], [0.5555555555555556, \"#d8576b\"], [0.6666666666666666, \"#ed7953\"], [0.7777777777777778, \"#fb9f3a\"], [0.8888888888888888, \"#fdca26\"], [1.0, \"#f0f921\"]], \"type\": \"surface\"}], \"table\": [{\"cells\": {\"fill\": {\"color\": \"#EBF0F8\"}, \"line\": {\"color\": \"white\"}}, \"header\": {\"fill\": {\"color\": \"#C8D4E3\"}, \"line\": {\"color\": \"white\"}}, \"type\": \"table\"}]}, \"layout\": {\"annotationdefaults\": {\"arrowcolor\": \"#2a3f5f\", \"arrowhead\": 0, \"arrowwidth\": 1}, \"coloraxis\": {\"colorbar\": {\"outlinewidth\": 0, \"ticks\": \"\"}}, \"colorscale\": {\"diverging\": [[0, \"#8e0152\"], [0.1, \"#c51b7d\"], [0.2, \"#de77ae\"], [0.3, \"#f1b6da\"], [0.4, \"#fde0ef\"], [0.5, \"#f7f7f7\"], [0.6, \"#e6f5d0\"], [0.7, \"#b8e186\"], [0.8, \"#7fbc41\"], [0.9, \"#4d9221\"], [1, \"#276419\"]], \"sequential\": [[0.0, \"#0d0887\"], [0.1111111111111111, \"#46039f\"], [0.2222222222222222, \"#7201a8\"], [0.3333333333333333, \"#9c179e\"], [0.4444444444444444, \"#bd3786\"], [0.5555555555555556, \"#d8576b\"], [0.6666666666666666, \"#ed7953\"], [0.7777777777777778, \"#fb9f3a\"], [0.8888888888888888, \"#fdca26\"], [1.0, \"#f0f921\"]], \"sequentialminus\": [[0.0, \"#0d0887\"], [0.1111111111111111, \"#46039f\"], [0.2222222222222222, \"#7201a8\"], [0.3333333333333333, \"#9c179e\"], [0.4444444444444444, \"#bd3786\"], [0.5555555555555556, \"#d8576b\"], [0.6666666666666666, \"#ed7953\"], [0.7777777777777778, \"#fb9f3a\"], [0.8888888888888888, \"#fdca26\"], [1.0, \"#f0f921\"]]}, \"colorway\": [\"#636efa\", \"#EF553B\", \"#00cc96\", \"#ab63fa\", \"#FFA15A\", \"#19d3f3\", \"#FF6692\", \"#B6E880\", \"#FF97FF\", \"#FECB52\"], \"font\": {\"color\": \"#2a3f5f\"}, \"geo\": {\"bgcolor\": \"white\", \"lakecolor\": \"white\", \"landcolor\": \"#E5ECF6\", \"showlakes\": true, \"showland\": true, \"subunitcolor\": \"white\"}, \"hoverlabel\": {\"align\": \"left\"}, \"hovermode\": \"closest\", \"mapbox\": {\"style\": \"light\"}, \"paper_bgcolor\": \"white\", \"plot_bgcolor\": \"#E5ECF6\", \"polar\": {\"angularaxis\": {\"gridcolor\": \"white\", \"linecolor\": \"white\", \"ticks\": \"\"}, \"bgcolor\": \"#E5ECF6\", \"radialaxis\": {\"gridcolor\": \"white\", \"linecolor\": \"white\", \"ticks\": \"\"}}, \"scene\": {\"xaxis\": {\"backgroundcolor\": \"#E5ECF6\", \"gridcolor\": \"white\", \"gridwidth\": 2, \"linecolor\": \"white\", \"showbackground\": true, \"ticks\": \"\", \"zerolinecolor\": \"white\"}, \"yaxis\": {\"backgroundcolor\": \"#E5ECF6\", \"gridcolor\": \"white\", \"gridwidth\": 2, \"linecolor\": \"white\", \"showbackground\": true, \"ticks\": \"\", \"zerolinecolor\": \"white\"}, \"zaxis\": {\"backgroundcolor\": \"#E5ECF6\", \"gridcolor\": \"white\", \"gridwidth\": 2, \"linecolor\": \"white\", \"showbackground\": true, \"ticks\": \"\", \"zerolinecolor\": \"white\"}}, \"shapedefaults\": {\"line\": {\"color\": \"#2a3f5f\"}}, \"ternary\": {\"aaxis\": {\"gridcolor\": \"white\", \"linecolor\": \"white\", \"ticks\": \"\"}, \"baxis\": {\"gridcolor\": \"white\", \"linecolor\": \"white\", \"ticks\": \"\"}, \"bgcolor\": \"#E5ECF6\", \"caxis\": {\"gridcolor\": \"white\", \"linecolor\": \"white\", \"ticks\": \"\"}}, \"title\": {\"x\": 0.05}, \"xaxis\": {\"automargin\": true, \"gridcolor\": \"white\", \"linecolor\": \"white\", \"ticks\": \"\", \"title\": {\"standoff\": 15}, \"zerolinecolor\": \"white\", \"zerolinewidth\": 2}, \"yaxis\": {\"automargin\": true, \"gridcolor\": \"white\", \"linecolor\": \"white\", \"ticks\": \"\", \"title\": {\"standoff\": 15}, \"zerolinecolor\": \"white\", \"zerolinewidth\": 2}}}, \"xaxis\": {\"anchor\": \"y\", \"domain\": [0.0, 1.0], \"title\": {\"text\": \"Glucose\"}}, \"yaxis\": {\"anchor\": \"x\", \"domain\": [0.0, 1.0], \"title\": {\"text\": \"Outcome\"}}},\n",
       "                        {\"responsive\": true}\n",
       "                    ).then(function(){\n",
       "                            \n",
       "var gd = document.getElementById('5b3ea67a-b81d-46aa-b2d7-b6a757716866');\n",
       "var x = new MutationObserver(function (mutations, observer) {{\n",
       "        var display = window.getComputedStyle(gd).display;\n",
       "        if (!display || display === 'none') {{\n",
       "            console.log([gd, 'removed!']);\n",
       "            Plotly.purge(gd);\n",
       "            observer.disconnect();\n",
       "        }}\n",
       "}});\n",
       "\n",
       "// Listen for the removal of the full notebook cells\n",
       "var notebookContainer = gd.closest('#notebook-container');\n",
       "if (notebookContainer) {{\n",
       "    x.observe(notebookContainer, {childList: true});\n",
       "}}\n",
       "\n",
       "// Listen for the clearing of the current output cell\n",
       "var outputEl = gd.closest('.output');\n",
       "if (outputEl) {{\n",
       "    x.observe(outputEl, {childList: true});\n",
       "}}\n",
       "\n",
       "                        })\n",
       "                };\n",
       "                });\n",
       "            </script>\n",
       "        </div>"
      ]
     },
     "metadata": {},
     "output_type": "display_data"
    }
   ],
   "source": [
    "px.scatter(diabetes, x='Glucose', y='Outcome', opacity=0.5)"
   ]
  },
  {
   "cell_type": "markdown",
   "metadata": {},
   "source": [
    "↳ hight correlation with glucosse in the blood"
   ]
  },
  {
   "cell_type": "markdown",
   "metadata": {},
   "source": [
    "## Experimenting with attribute combination"
   ]
  },
  {
   "cell_type": "code",
   "execution_count": 76,
   "metadata": {},
   "outputs": [
    {
     "data": {
      "text/plain": [
       "Outcome                     1.000000\n",
       "Glucose                     0.456117\n",
       "BMI                         0.306335\n",
       "Age                         0.280654\n",
       "Pregnancies                 0.207550\n",
       "DiabetesPedigreeFunction    0.154560\n",
       "Insulin                     0.108498\n",
       "BloodPressure               0.082046\n",
       "SkinThickness               0.057912\n",
       "Name: Outcome, dtype: float64"
      ]
     },
     "execution_count": 76,
     "metadata": {},
     "output_type": "execute_result"
    }
   ],
   "source": [
    "corr_matrix['Outcome'].sort_values(ascending=False)"
   ]
  },
  {
   "cell_type": "markdown",
   "metadata": {},
   "source": [
    "### Features aggregation"
   ]
  },
  {
   "cell_type": "code",
   "execution_count": 77,
   "metadata": {},
   "outputs": [],
   "source": [
    "diabetes['Glucose_per_BMI'] = diabetes['Glucose'] / diabetes['BMI']\n",
    "diabetes['Insulin_per_Glucose'] = diabetes['Insulin'] / diabetes['Glucose']"
   ]
  },
  {
   "cell_type": "markdown",
   "metadata": {},
   "source": [
    "    1. underweight → BMI < 18.5      \n",
    "    2. normal      → 18.5 < BMI < 25\n",
    "    3. overweight  → 25.0 < BMI < 30\n",
    "    4. obese       → BMI > 30.0"
   ]
  },
  {
   "cell_type": "markdown",
   "metadata": {},
   "source": [
    "### Discretization"
   ]
  },
  {
   "cell_type": "code",
   "execution_count": 78,
   "metadata": {},
   "outputs": [],
   "source": [
    "# discrete BMI\n",
    "bins = [-1,18.5,25,30, np.inf]\n",
    "cats = pd.cut(diabetes['BMI'], bins)\n",
    "diabetes['cats_BMI'] = cats.values.codes"
   ]
  },
  {
   "cell_type": "code",
   "execution_count": 79,
   "metadata": {},
   "outputs": [
    {
     "data": {
      "text/plain": [
       "Outcome                     1.000000\n",
       "Glucose                     0.456117\n",
       "cats_BMI                    0.318542\n",
       "BMI                         0.306335\n",
       "Age                         0.280654\n",
       "Pregnancies                 0.207550\n",
       "Glucose_per_BMI             0.157617\n",
       "DiabetesPedigreeFunction    0.154560\n",
       "Insulin                     0.108498\n",
       "BloodPressure               0.082046\n",
       "SkinThickness               0.057912\n",
       "Insulin_per_Glucose         0.038298\n",
       "Name: Outcome, dtype: float64"
      ]
     },
     "execution_count": 79,
     "metadata": {},
     "output_type": "execute_result"
    }
   ],
   "source": [
    "corr_matrix = diabetes.corr()\n",
    "corr_matrix['Outcome'].sort_values(ascending=False)"
   ]
  },
  {
   "cell_type": "markdown",
   "metadata": {},
   "source": [
    "↳ __Transforming BMI in cats augment is correlation with the target__. The 2 features aggregation are not really relevant "
   ]
  },
  {
   "cell_type": "markdown",
   "metadata": {},
   "source": [
    "# 3. Prepare the Data \n",
    "---"
   ]
  },
  {
   "cell_type": "code",
   "execution_count": 80,
   "metadata": {},
   "outputs": [],
   "source": [
    "X = train_set.drop(\"Outcome\", axis=1)\n",
    "y = train_set[\"Outcome\"]"
   ]
  },
  {
   "cell_type": "markdown",
   "metadata": {},
   "source": [
    "## Data cleaning"
   ]
  },
  {
   "cell_type": "markdown",
   "metadata": {},
   "source": [
    "\n",
    "- [x] fill the missing values, __no missing values__\n",
    "- [x] Vategorical data → numerical, __only numerical data__ \n",
    "- [ ] outliers\n"
   ]
  },
  {
   "cell_type": "markdown",
   "metadata": {},
   "source": [
    "### Remove outliers\n",
    "Need to remove the instance where `Glucose`, `BloodPressure` and `BMI` are still equal to 0"
   ]
  },
  {
   "cell_type": "code",
   "execution_count": 81,
   "metadata": {},
   "outputs": [],
   "source": [
    "outliers_columns = ['BloodPressure', 'BMI', 'Glucose']\n",
    "non_zero_mask = ~(X[outliers_columns] == 0).any(1)\n",
    "X = X[non_zero_mask]\n",
    "y = y[non_zero_mask]"
   ]
  },
  {
   "cell_type": "code",
   "execution_count": 171,
   "metadata": {},
   "outputs": [
    {
     "data": {
      "text/plain": [
       "array([[<matplotlib.axes._subplots.AxesSubplot object at 0x7f898dcf5ac0>,\n",
       "        <matplotlib.axes._subplots.AxesSubplot object at 0x7f898fef24f0>,\n",
       "        <matplotlib.axes._subplots.AxesSubplot object at 0x7f898ff13c10>],\n",
       "       [<matplotlib.axes._subplots.AxesSubplot object at 0x7f898ff4a1f0>,\n",
       "        <matplotlib.axes._subplots.AxesSubplot object at 0x7f898ff728b0>,\n",
       "        <matplotlib.axes._subplots.AxesSubplot object at 0x7f898ff9b0d0>],\n",
       "       [<matplotlib.axes._subplots.AxesSubplot object at 0x7f898ffa70a0>,\n",
       "        <matplotlib.axes._subplots.AxesSubplot object at 0x7f898ffcf880>,\n",
       "        <matplotlib.axes._subplots.AxesSubplot object at 0x7f8991136670>]],\n",
       "      dtype=object)"
      ]
     },
     "execution_count": 171,
     "metadata": {},
     "output_type": "execute_result"
    },
    {
     "data": {
      "image/png": "[encoded data removed]",
      "text/plain": [
       "<Figure size 1440x1080 with 9 Axes>"
      ]
     },
     "metadata": {
      "needs_background": "light"
     },
     "output_type": "display_data"
    }
   ],
   "source": [
    "X.hist(bins=50, figsize=(20,15))"
   ]
  },
  {
   "cell_type": "markdown",
   "metadata": {},
   "source": [
    "🥳 Look's much better ! However lot's of Insulin is equal to 0. Is it normal for diabetes people ?\n",
    "- [x] outliers\n",
    "\n"
   ]
  },
  {
   "cell_type": "markdown",
   "metadata": {},
   "source": [
    "## Custom transformer\n",
    "↳ embed data cleaning step in sklearn function"
   ]
  },
  {
   "cell_type": "code",
   "execution_count": 172,
   "metadata": {},
   "outputs": [],
   "source": [
    "from sklearn.preprocessing import FunctionTransformer"
   ]
  },
  {
   "cell_type": "markdown",
   "metadata": {},
   "source": [
    "1. __Get rid of the attributes SkinThcikness__\n",
    "<p>↳ A lot of outliers and not to much correlation between this attributes and the targets "
   ]
  },
  {
   "cell_type": "code",
   "execution_count": 84,
   "metadata": {},
   "outputs": [],
   "source": [
    "def feature_select(df, drop_col=['SkinThickness'], action=True):\n",
    "    if action:\n",
    "        return df.drop(drop_col, axis=1, errors='ignore')\n",
    "    else:\n",
    "        return df\n",
    "\n",
    "# test\n",
    "select_features = FunctionTransformer(feature_select, kw_args={\"action\": True})\n",
    "# select_features.transform(X)"
   ]
  },
  {
   "cell_type": "markdown",
   "metadata": {},
   "source": [
    "2. __Discretize BMI__"
   ]
  },
  {
   "cell_type": "code",
   "execution_count": 85,
   "metadata": {},
   "outputs": [],
   "source": [
    "bins = [-1,18.5,25,30, np.inf]\n",
    "\n",
    "def disc_bmi(df, buckets=bins, discretize=True):\n",
    "    if discretize:\n",
    "        cats = pd.cut(df['BMI'], bins)\n",
    "        df['BMI'] = cats.values.codes\n",
    "        return df\n",
    "    else:\n",
    "        return df  \n",
    "\n",
    "# test\n",
    "discrete_BMI = FunctionTransformer(disc_bmi, kw_args={\"discretize\": True})\n",
    "# discrete_BMI.transform(X1)"
   ]
  },
  {
   "cell_type": "markdown",
   "metadata": {},
   "source": [
    "## Transform Pipelines"
   ]
  },
  {
   "cell_type": "code",
   "execution_count": 86,
   "metadata": {},
   "outputs": [],
   "source": [
    "from sklearn.pipeline import Pipeline\n",
    "from sklearn.preprocessing import StandardScaler \n",
    "\n",
    "pd.options.mode.chained_assignment = None  # default='warn'"
   ]
  },
  {
   "cell_type": "markdown",
   "metadata": {},
   "source": [
    "### Pipeline process\n",
    "1. Feature selection\n",
    "2. discretize BMI\n",
    "3. Standardization"
   ]
  },
  {
   "cell_type": "code",
   "execution_count": 87,
   "metadata": {},
   "outputs": [],
   "source": [
    "pipeline = Pipeline([\n",
    "    ('feature_select', FunctionTransformer(\n",
    "        feature_select,\n",
    "        kw_args={\"action\": True, \"drop_col\":[\"SkinThickness\", \"Pregnancies\"]}\n",
    "    )),\n",
    "    ('discrete_BMI', FunctionTransformer(disc_bmi, kw_args={\"discretize\": True})),\n",
    "    ('std_scaler', StandardScaler())\n",
    "])\n",
    "\n",
    "X_prepared = pipeline.fit_transform(X)"
   ]
  },
  {
   "cell_type": "markdown",
   "metadata": {},
   "source": [
    "# 4. Short-List Promising Model\n",
    "---"
   ]
  },
  {
   "cell_type": "markdown",
   "metadata": {},
   "source": [
    "## Baseline model\n",
    "↳ set all prediction to 0"
   ]
  },
  {
   "cell_type": "code",
   "execution_count": 131,
   "metadata": {},
   "outputs": [
    {
     "data": {
      "text/plain": [
       "0.6557659208261618"
      ]
     },
     "execution_count": 131,
     "metadata": {},
     "output_type": "execute_result"
    }
   ],
   "source": [
    "X_predict_0 = np.array([0]*len(y))\n",
    "baseline_score = accuracy_score(y, X_predict_0)\n",
    "baseline_score"
   ]
  },
  {
   "cell_type": "markdown",
   "metadata": {},
   "source": [
    "## Train many quick and dirty model from different categories "
   ]
  },
  {
   "cell_type": "markdown",
   "metadata": {},
   "source": [
    "### Stochastic Gradient Descent"
   ]
  },
  {
   "cell_type": "code",
   "execution_count": 164,
   "metadata": {},
   "outputs": [
    {
     "data": {
      "text/plain": [
       "SGDClassifier()"
      ]
     },
     "execution_count": 164,
     "metadata": {},
     "output_type": "execute_result"
    }
   ],
   "source": [
    "from sklearn.linear_model import SGDClassifier\n",
    "np.random.seed(42)\n",
    "\n",
    "SGD_clf = SGDClassifier()\n",
    "SGD_clf.fit(X_prepared, y)"
   ]
  },
  {
   "cell_type": "code",
   "execution_count": 165,
   "metadata": {},
   "outputs": [
    {
     "data": {
      "text/plain": [
       "array([0.69491525, 0.74137931, 0.62068966, 0.75862069, 0.74137931,\n",
       "       0.79310345, 0.77586207, 0.70689655, 0.82758621, 0.72413793])"
      ]
     },
     "execution_count": 165,
     "metadata": {},
     "output_type": "execute_result"
    }
   ],
   "source": [
    "from sklearn.model_selection import cross_val_score\n",
    "np.random.seed(42)\n",
    "\n",
    "scores = cross_val_score(SGD_clf, X_prepared, y, scoring=\"accuracy\", cv=10)\n",
    "scores"
   ]
  },
  {
   "cell_type": "code",
   "execution_count": 168,
   "metadata": {},
   "outputs": [],
   "source": [
    "def display_scores(scores):\n",
    "    confidence_itv = [scores.mean() - 3 * scores.std(), scores.mean() + 3 * scores.std()]\n",
    "    print(f\"Scores :{scores}\")\n",
    "    print(\"\")\n",
    "    print(f\"Mean: {scores.mean()}\")\n",
    "    print(f\"95% intervals: {confidence_itv}\")"
   ]
  },
  {
   "cell_type": "code",
   "execution_count": 169,
   "metadata": {},
   "outputs": [
    {
     "name": "stdout",
     "output_type": "stream",
     "text": [
      "Scores :[0.69491525 0.74137931 0.62068966 0.75862069 0.74137931 0.79310345\n",
      " 0.77586207 0.70689655 0.82758621 0.72413793]\n",
      "\n",
      "Mean: 0.7384570426651081\n",
      "95% intervals: [0.5749111629883904, 0.9020029223418259]\n"
     ]
    }
   ],
   "source": [
    "display_scores(scores)"
   ]
  },
  {
   "cell_type": "code",
   "execution_count": null,
   "metadata": {},
   "outputs": [],
   "source": []
  }
 ],
 "metadata": {
  "kernelspec": {
   "display_name": "Python 3",
   "language": "python",
   "name": "python3"
  },
  "language_info": {
   "codemirror_mode": {
    "name": "ipython",
    "version": 3
   },
   "file_extension": ".py",
   "mimetype": "text/x-python",
   "name": "python",
   "nbconvert_exporter": "python",
   "pygments_lexer": "ipython3",
   "version": "3.8.3"
  }
 },
 "nbformat": 4,
 "nbformat_minor": 4
}
