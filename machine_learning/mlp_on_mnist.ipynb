{
 "cells": [
  {
   "cell_type": "markdown",
   "metadata": {},
   "source": [
    "# Train a deep MLP on MNIST dataset\n",
    "---\n",
    "## Goal 🔭\n",
    "- get over 98% of precision\n",
    "- find the optimal learning rate\n",
    "- add checkpoint, early stopping and plot learning curves using Tensorboard"
   ]
  },
  {
   "cell_type": "markdown",
   "metadata": {},
   "source": [
    "## What I Learned ?\n",
    "---\n",
    "- blablabla\n",
    "- blablabla\n",
    "- blablabla\n",
    "---"
   ]
  },
  {
   "cell_type": "markdown",
   "metadata": {},
   "source": [
    "## Summary\n",
    "1. Load and preprocess the MNIST dataset\n",
    "2. Implement a deep neural nets\n",
    "3. tune the learning rate\n",
    "4. add early stopping checkpoint, and Tensorboard visu"
   ]
  },
  {
   "cell_type": "code",
   "execution_count": 1,
   "metadata": {},
   "outputs": [],
   "source": [
    "import numpy as np\n",
    "import tensorflow as tf\n",
    "from tensorflow import keras\n",
    "import tensorboard\n",
    "import matplotlib.pyplot as plt\n",
    "%matplotlib inline\n",
    "np.random.seed(42)"
   ]
  },
  {
   "cell_type": "markdown",
   "metadata": {},
   "source": [
    "## 1. Load and preprocess the MNIST dataset\n",
    "___\n",
    "MNIST is a dataset composed by handwritten digits"
   ]
  },
  {
   "cell_type": "code",
   "execution_count": 2,
   "metadata": {},
   "outputs": [],
   "source": [
    "# load the dataset\n",
    "(X_full, y_full), (X_test, y_test) = keras.datasets.mnist.load_data()"
   ]
  },
  {
   "cell_type": "code",
   "execution_count": 3,
   "metadata": {},
   "outputs": [],
   "source": [
    "# split the dataset\n",
    "X_train, X_valid = X_full[:50000], X_full[50000:]\n",
    "y_train, y_valid = y_full[:50000], y_full[50000:]"
   ]
  },
  {
   "cell_type": "code",
   "execution_count": 4,
   "metadata": {},
   "outputs": [
    {
     "name": "stdout",
     "output_type": "stream",
     "text": [
      "Shape:\n",
      "X_train:(50000, 28, 28), y_train:(50000,)\n",
      "X_valid:(10000, 28, 28)\n",
      "X_test:(10000, 28, 28)\n"
     ]
    }
   ],
   "source": [
    "print(\"Shape:\")\n",
    "print(f\"X_train:{X_train.shape}, y_train:{y_train.shape}\")\n",
    "print(f\"X_valid:{X_valid.shape}\")\n",
    "print(f\"X_test:{X_test.shape}\")"
   ]
  },
  {
   "cell_type": "markdown",
   "metadata": {},
   "source": [
    "- 50,000 training instances, 10 000 testing and testing instances of features shape 28 x 28 - _each one is a pixel between 0 and 255_\n",
    "- The label are arrays of digit labels (0-9) of shape (instances,)"
   ]
  },
  {
   "cell_type": "markdown",
   "metadata": {},
   "source": [
    "### Normalise the features"
   ]
  },
  {
   "cell_type": "code",
   "execution_count": 5,
   "metadata": {},
   "outputs": [],
   "source": [
    "X_train, X_valid, X_test = X_train /255, X_valid / 255,  X_test/255"
   ]
  },
  {
   "cell_type": "markdown",
   "metadata": {},
   "source": [
    "### Quick exploration\n",
    "let's take a look at some instances"
   ]
  },
  {
   "cell_type": "code",
   "execution_count": 6,
   "metadata": {},
   "outputs": [
    {
     "data": {
      "image/png": "[encoded data removed]",
      "text/plain": [
       "<Figure size 432x288 with 1 Axes>"
      ]
     },
     "metadata": {
      "needs_background": "light"
     },
     "output_type": "display_data"
    }
   ],
   "source": [
    "# plot an instance\n",
    "def show_image(x):\n",
    "    plt.imshow(x, cmap=\"binary\")\n",
    "    plt.axis(\"off\")\n",
    "    \n",
    "show_image(X_train[0])\n",
    "plt.show()"
   ]
  },
  {
   "cell_type": "code",
   "execution_count": 7,
   "metadata": {},
   "outputs": [
    {
     "data": {
      "image/png": "[encoded data removed]",
      "text/plain": [
       "<Figure size 432x288 with 16 Axes>"
      ]
     },
     "metadata": {
      "needs_background": "light"
     },
     "output_type": "display_data"
    }
   ],
   "source": [
    "# plot few digit in the same time\n",
    "columns = 4\n",
    "rows = 4\n",
    "\n",
    "for row in range(rows):\n",
    "    for column in range(columns):\n",
    "        index = (rows * row + column) + 1 \n",
    "        plt.subplot(rows,columns,index)\n",
    "        show_image(X_train[index])\n",
    "plt.show()"
   ]
  },
  {
   "cell_type": "markdown",
   "metadata": {},
   "source": [
    "## 2. Create the model\n",
    "---\n",
    "Let's start by a simple model with 2 hidden layers of 100 neurones each. Moreover, this is a multi-classification problem where we try to predict the digit of handwritten digit. In that purpose, the last layer need to be composed by 10 neurones with the softmax activation."
   ]
  },
  {
   "cell_type": "code",
   "execution_count": 8,
   "metadata": {},
   "outputs": [],
   "source": [
    "model = keras.models.Sequential([\n",
    "    keras.layers.Flatten(input_shape=[28,28]),\n",
    "    keras.layers.Dense(100, activation=\"relu\"),\n",
    "    keras.layers.Dense(100,activation=\"relu\"),\n",
    "    keras.layers.Dense(10, activation=\"softmax\")\n",
    "])"
   ]
  },
  {
   "cell_type": "code",
   "execution_count": 9,
   "metadata": {},
   "outputs": [
    {
     "name": "stdout",
     "output_type": "stream",
     "text": [
      "Model: \"sequential\"\n",
      "_________________________________________________________________\n",
      "Layer (type)                 Output Shape              Param #   \n",
      "=================================================================\n",
      "flatten (Flatten)            (None, 784)               0         \n",
      "_________________________________________________________________\n",
      "dense (Dense)                (None, 100)               78500     \n",
      "_________________________________________________________________\n",
      "dense_1 (Dense)              (None, 100)               10100     \n",
      "_________________________________________________________________\n",
      "dense_2 (Dense)              (None, 10)                1010      \n",
      "=================================================================\n",
      "Total params: 89,610\n",
      "Trainable params: 89,610\n",
      "Non-trainable params: 0\n",
      "_________________________________________________________________\n"
     ]
    }
   ],
   "source": [
    "model.summary()"
   ]
  },
  {
   "cell_type": "code",
   "execution_count": 10,
   "metadata": {},
   "outputs": [],
   "source": [
    "# compiling the model\n",
    "model.compile(optimizer=\"sgd\", loss=\"sparse_categorical_crossentropy\", metrics=[\"accuracy\"])"
   ]
  },
  {
   "cell_type": "markdown",
   "metadata": {},
   "source": [
    "🗣 here we use `sparse_categorical_crossentropy` beacause the classes are exclusive and we have sparse labels - _label from 0-9_"
   ]
  },
  {
   "cell_type": "code",
   "execution_count": 11,
   "metadata": {},
   "outputs": [],
   "source": [
    "np.random.seed(42)\n",
    "tf.random.set_seed(42)"
   ]
  },
  {
   "cell_type": "code",
   "execution_count": 12,
   "metadata": {},
   "outputs": [
    {
     "name": "stdout",
     "output_type": "stream",
     "text": [
      "Epoch 1/30\n",
      "1563/1563 [==============================] - 2s 1ms/step - loss: 0.7217 - accuracy: 0.8071 - val_loss: 0.3397 - val_accuracy: 0.9070\n",
      "Epoch 2/30\n",
      "1563/1563 [==============================] - 1s 955us/step - loss: 0.3259 - accuracy: 0.9059 - val_loss: 0.2745 - val_accuracy: 0.9225\n",
      "Epoch 3/30\n",
      "1563/1563 [==============================] - 1s 945us/step - loss: 0.2733 - accuracy: 0.9213 - val_loss: 0.2417 - val_accuracy: 0.9314\n",
      "Epoch 4/30\n",
      "1563/1563 [==============================] - 1s 943us/step - loss: 0.2399 - accuracy: 0.9308 - val_loss: 0.2180 - val_accuracy: 0.9390\n",
      "Epoch 5/30\n",
      "1563/1563 [==============================] - 1s 942us/step - loss: 0.2140 - accuracy: 0.9384 - val_loss: 0.1934 - val_accuracy: 0.9451\n",
      "Epoch 6/30\n",
      "1563/1563 [==============================] - 1s 945us/step - loss: 0.1930 - accuracy: 0.9442 - val_loss: 0.1780 - val_accuracy: 0.9518\n",
      "Epoch 7/30\n",
      "1563/1563 [==============================] - 1s 938us/step - loss: 0.1749 - accuracy: 0.9498 - val_loss: 0.1644 - val_accuracy: 0.9548\n",
      "Epoch 8/30\n",
      "1563/1563 [==============================] - 1s 938us/step - loss: 0.1602 - accuracy: 0.9541 - val_loss: 0.1645 - val_accuracy: 0.9535\n",
      "Epoch 9/30\n",
      "1563/1563 [==============================] - 1s 944us/step - loss: 0.1477 - accuracy: 0.9579 - val_loss: 0.1459 - val_accuracy: 0.9592\n",
      "Epoch 10/30\n",
      "1563/1563 [==============================] - 2s 976us/step - loss: 0.1363 - accuracy: 0.9615 - val_loss: 0.1351 - val_accuracy: 0.9622\n",
      "Epoch 11/30\n",
      "1563/1563 [==============================] - 1s 936us/step - loss: 0.1262 - accuracy: 0.9634 - val_loss: 0.1290 - val_accuracy: 0.9632\n",
      "Epoch 12/30\n",
      "1563/1563 [==============================] - 1s 941us/step - loss: 0.1179 - accuracy: 0.9669 - val_loss: 0.1251 - val_accuracy: 0.9651\n",
      "Epoch 13/30\n",
      "1563/1563 [==============================] - 1s 945us/step - loss: 0.1101 - accuracy: 0.9691 - val_loss: 0.1184 - val_accuracy: 0.9656\n",
      "Epoch 14/30\n",
      "1563/1563 [==============================] - 1s 942us/step - loss: 0.1035 - accuracy: 0.9703 - val_loss: 0.1150 - val_accuracy: 0.9668\n",
      "Epoch 15/30\n",
      "1563/1563 [==============================] - 1s 939us/step - loss: 0.0973 - accuracy: 0.9723 - val_loss: 0.1128 - val_accuracy: 0.9684\n",
      "Epoch 16/30\n",
      "1563/1563 [==============================] - 1s 940us/step - loss: 0.0915 - accuracy: 0.9743 - val_loss: 0.1090 - val_accuracy: 0.9684\n",
      "Epoch 17/30\n",
      "1563/1563 [==============================] - 1s 940us/step - loss: 0.0868 - accuracy: 0.9753 - val_loss: 0.1058 - val_accuracy: 0.9696\n",
      "Epoch 18/30\n",
      "1563/1563 [==============================] - 1s 945us/step - loss: 0.0821 - accuracy: 0.9768 - val_loss: 0.1031 - val_accuracy: 0.9703\n",
      "Epoch 19/30\n",
      "1563/1563 [==============================] - 1s 951us/step - loss: 0.0779 - accuracy: 0.9778 - val_loss: 0.1000 - val_accuracy: 0.9715\n",
      "Epoch 20/30\n",
      "1563/1563 [==============================] - 2s 973us/step - loss: 0.0744 - accuracy: 0.9792 - val_loss: 0.0968 - val_accuracy: 0.9720\n",
      "Epoch 21/30\n",
      "1563/1563 [==============================] - 1s 940us/step - loss: 0.0707 - accuracy: 0.9799 - val_loss: 0.0982 - val_accuracy: 0.9731\n",
      "Epoch 22/30\n",
      "1563/1563 [==============================] - 1s 945us/step - loss: 0.0673 - accuracy: 0.9814 - val_loss: 0.0944 - val_accuracy: 0.9733\n",
      "Epoch 23/30\n",
      "1563/1563 [==============================] - 1s 943us/step - loss: 0.0641 - accuracy: 0.9821 - val_loss: 0.0934 - val_accuracy: 0.9730\n",
      "Epoch 24/30\n",
      "1563/1563 [==============================] - 1s 942us/step - loss: 0.0611 - accuracy: 0.9835 - val_loss: 0.0909 - val_accuracy: 0.9730\n",
      "Epoch 25/30\n",
      "1563/1563 [==============================] - 1s 941us/step - loss: 0.0586 - accuracy: 0.9839 - val_loss: 0.0906 - val_accuracy: 0.9750\n",
      "Epoch 26/30\n",
      "1563/1563 [==============================] - 1s 942us/step - loss: 0.0559 - accuracy: 0.9852 - val_loss: 0.0918 - val_accuracy: 0.9739\n",
      "Epoch 27/30\n",
      "1563/1563 [==============================] - 1s 942us/step - loss: 0.0535 - accuracy: 0.9851 - val_loss: 0.0903 - val_accuracy: 0.9742\n",
      "Epoch 28/30\n",
      "1563/1563 [==============================] - 1s 942us/step - loss: 0.0510 - accuracy: 0.9863 - val_loss: 0.0879 - val_accuracy: 0.9754\n",
      "Epoch 29/30\n",
      "1563/1563 [==============================] - 2s 974us/step - loss: 0.0488 - accuracy: 0.9870 - val_loss: 0.0871 - val_accuracy: 0.9756\n",
      "Epoch 30/30\n",
      "1563/1563 [==============================] - 1s 956us/step - loss: 0.0466 - accuracy: 0.9871 - val_loss: 0.0872 - val_accuracy: 0.9748\n"
     ]
    }
   ],
   "source": [
    "# training the model\n",
    "history = model.fit(X_train, y_train, epochs=30, validation_data=(X_valid, y_valid))"
   ]
  },
  {
   "cell_type": "code",
   "execution_count": 18,
   "metadata": {},
   "outputs": [
    {
     "data": {
      "text/plain": [
       "{'verbose': 1, 'epochs': 30, 'steps': 1563}"
      ]
     },
     "execution_count": 18,
     "metadata": {},
     "output_type": "execute_result"
    }
   ],
   "source": [
    "history.params"
   ]
  },
  {
   "cell_type": "code",
   "execution_count": 14,
   "metadata": {},
   "outputs": [
    {
     "data": {
      "image/png": "[encoded data removed]",
      "text/plain": [
       "<Figure size 576x432 with 1 Axes>"
      ]
     },
     "metadata": {
      "needs_background": "light"
     },
     "output_type": "display_data"
    }
   ],
   "source": [
    "import pandas as pd\n",
    "pd.DataFrame(history.history).plot(figsize=(8,6))\n",
    "plt.show()"
   ]
  },
  {
   "cell_type": "code",
   "execution_count": 15,
   "metadata": {},
   "outputs": [
    {
     "name": "stdout",
     "output_type": "stream",
     "text": [
      "313/313 [==============================] - 0s 646us/step - loss: 0.0871 - accuracy: 0.9736\n"
     ]
    },
    {
     "data": {
      "text/plain": [
       "[0.08710134774446487, 0.9735999703407288]"
      ]
     },
     "execution_count": 15,
     "metadata": {},
     "output_type": "execute_result"
    }
   ],
   "source": [
    "model.evaluate(X_test, y_test)"
   ]
  },
  {
   "cell_type": "markdown",
   "metadata": {},
   "source": [
    "- precision close to 98%\n",
    "- the model start overfiting a bit after $20^{th}$ epochs\n",
    "\n",
    "\n",
    "💡Let's tune the model wiht early stopping and then fine the best learning rate"
   ]
  },
  {
   "cell_type": "markdown",
   "metadata": {},
   "source": [
    "## 3. Add Early stopping and other Callbacks\n",
    "---\n",
    "Let's reset the previous model and change the first hidden layer by a layer of 300 neurones"
   ]
  },
  {
   "cell_type": "code",
   "execution_count": 24,
   "metadata": {},
   "outputs": [],
   "source": [
    "keras.backend.clear_session()\n",
    "np.random.seed(42)\n",
    "tf.random.set_seed(42)\n",
    "\n",
    "model = keras.models.Sequential([\n",
    "    keras.layers.Flatten(input_shape=[28,28]),\n",
    "    keras.layers.Dense(300, activation=\"relu\"),\n",
    "    keras.layers.Dense(100,activation=\"relu\"),\n",
    "    keras.layers.Dense(10, activation=\"softmax\")\n",
    "])\n",
    "\n",
    "# compiling the model\n",
    "model.compile(optimizer=\"sgd\", loss=\"sparse_categorical_crossentropy\", metrics=[\"accuracy\"])"
   ]
  },
  {
   "cell_type": "code",
   "execution_count": 25,
   "metadata": {},
   "outputs": [
    {
     "name": "stdout",
     "output_type": "stream",
     "text": [
      "Epoch 1/100\n",
      "1563/1563 [==============================] - 2s 1ms/step - loss: 0.6487 - accuracy: 0.8332 - val_loss: 0.3208 - val_accuracy: 0.9111\n",
      "Epoch 2/100\n",
      "1563/1563 [==============================] - 2s 1ms/step - loss: 0.3055 - accuracy: 0.9123 - val_loss: 0.2577 - val_accuracy: 0.9270\n",
      "Epoch 3/100\n",
      "1563/1563 [==============================] - 2s 1ms/step - loss: 0.2521 - accuracy: 0.9279 - val_loss: 0.2207 - val_accuracy: 0.9366\n",
      "Epoch 4/100\n",
      "1563/1563 [==============================] - 2s 1ms/step - loss: 0.2171 - accuracy: 0.9373 - val_loss: 0.1994 - val_accuracy: 0.9446\n",
      "Epoch 5/100\n",
      "1563/1563 [==============================] - 2s 1ms/step - loss: 0.1901 - accuracy: 0.9456 - val_loss: 0.1734 - val_accuracy: 0.9538\n",
      "Epoch 6/100\n",
      "1563/1563 [==============================] - 2s 1ms/step - loss: 0.1685 - accuracy: 0.9515 - val_loss: 0.1584 - val_accuracy: 0.9574\n",
      "Epoch 7/100\n",
      "1563/1563 [==============================] - 2s 1ms/step - loss: 0.1506 - accuracy: 0.9564 - val_loss: 0.1436 - val_accuracy: 0.9624\n",
      "Epoch 8/100\n",
      "1563/1563 [==============================] - 2s 1ms/step - loss: 0.1361 - accuracy: 0.9609 - val_loss: 0.1436 - val_accuracy: 0.9613\n",
      "Epoch 9/100\n",
      "1563/1563 [==============================] - 2s 1ms/step - loss: 0.1243 - accuracy: 0.9646 - val_loss: 0.1273 - val_accuracy: 0.9659\n",
      "Epoch 10/100\n",
      "1563/1563 [==============================] - 2s 1ms/step - loss: 0.1138 - accuracy: 0.9677 - val_loss: 0.1205 - val_accuracy: 0.9678\n",
      "Epoch 11/100\n",
      "1563/1563 [==============================] - 2s 1ms/step - loss: 0.1042 - accuracy: 0.9704 - val_loss: 0.1144 - val_accuracy: 0.9691\n",
      "Epoch 12/100\n",
      "1563/1563 [==============================] - 2s 1ms/step - loss: 0.0963 - accuracy: 0.9727 - val_loss: 0.1097 - val_accuracy: 0.9691\n",
      "Epoch 13/100\n",
      "1563/1563 [==============================] - 2s 2ms/step - loss: 0.0891 - accuracy: 0.9744 - val_loss: 0.1059 - val_accuracy: 0.9706\n",
      "Epoch 14/100\n",
      "1563/1563 [==============================] - 2s 1ms/step - loss: 0.0830 - accuracy: 0.9765 - val_loss: 0.1026 - val_accuracy: 0.9702\n",
      "Epoch 15/100\n",
      "1563/1563 [==============================] - 2s 1ms/step - loss: 0.0771 - accuracy: 0.9779 - val_loss: 0.0986 - val_accuracy: 0.9720\n",
      "Epoch 16/100\n",
      "1563/1563 [==============================] - 2s 1ms/step - loss: 0.0717 - accuracy: 0.9798 - val_loss: 0.0969 - val_accuracy: 0.9724\n",
      "Epoch 17/100\n",
      "1563/1563 [==============================] - 2s 1ms/step - loss: 0.0671 - accuracy: 0.9813 - val_loss: 0.0945 - val_accuracy: 0.9722\n",
      "Epoch 18/100\n",
      "1563/1563 [==============================] - 2s 2ms/step - loss: 0.0626 - accuracy: 0.9828 - val_loss: 0.0915 - val_accuracy: 0.9732\n",
      "Epoch 19/100\n",
      "1563/1563 [==============================] - 2s 1ms/step - loss: 0.0587 - accuracy: 0.9837 - val_loss: 0.0897 - val_accuracy: 0.9734\n",
      "Epoch 20/100\n",
      "1563/1563 [==============================] - 2s 1ms/step - loss: 0.0553 - accuracy: 0.9850 - val_loss: 0.0889 - val_accuracy: 0.9740\n",
      "Epoch 21/100\n",
      "1563/1563 [==============================] - 2s 1ms/step - loss: 0.0517 - accuracy: 0.9854 - val_loss: 0.0888 - val_accuracy: 0.9740\n",
      "Epoch 22/100\n",
      "1563/1563 [==============================] - 2s 1ms/step - loss: 0.0487 - accuracy: 0.9873 - val_loss: 0.0878 - val_accuracy: 0.9740\n",
      "Epoch 23/100\n",
      "1563/1563 [==============================] - 2s 1ms/step - loss: 0.0458 - accuracy: 0.9877 - val_loss: 0.0855 - val_accuracy: 0.9745\n",
      "Epoch 24/100\n",
      "1563/1563 [==============================] - 2s 1ms/step - loss: 0.0430 - accuracy: 0.9889 - val_loss: 0.0821 - val_accuracy: 0.9761\n",
      "Epoch 25/100\n",
      "1563/1563 [==============================] - 2s 1ms/step - loss: 0.0407 - accuracy: 0.9896 - val_loss: 0.0815 - val_accuracy: 0.9770\n",
      "Epoch 26/100\n",
      "1563/1563 [==============================] - 2s 1ms/step - loss: 0.0385 - accuracy: 0.9904 - val_loss: 0.0828 - val_accuracy: 0.9766\n",
      "Epoch 27/100\n",
      "1563/1563 [==============================] - 2s 2ms/step - loss: 0.0360 - accuracy: 0.9912 - val_loss: 0.0812 - val_accuracy: 0.9767\n",
      "Epoch 28/100\n",
      "1563/1563 [==============================] - 3s 2ms/step - loss: 0.0340 - accuracy: 0.9921 - val_loss: 0.0802 - val_accuracy: 0.9766\n",
      "Epoch 29/100\n",
      "1563/1563 [==============================] - 2s 1ms/step - loss: 0.0321 - accuracy: 0.9926 - val_loss: 0.0789 - val_accuracy: 0.9778\n",
      "Epoch 30/100\n",
      "1563/1563 [==============================] - 2s 1ms/step - loss: 0.0302 - accuracy: 0.9934 - val_loss: 0.0804 - val_accuracy: 0.9768\n",
      "Epoch 31/100\n",
      "1563/1563 [==============================] - 2s 1ms/step - loss: 0.0285 - accuracy: 0.9939 - val_loss: 0.0773 - val_accuracy: 0.9792\n",
      "Epoch 32/100\n",
      "1563/1563 [==============================] - 3s 2ms/step - loss: 0.0271 - accuracy: 0.9945 - val_loss: 0.0796 - val_accuracy: 0.9775\n",
      "Epoch 33/100\n",
      "1563/1563 [==============================] - 2s 2ms/step - loss: 0.0256 - accuracy: 0.9947 - val_loss: 0.0771 - val_accuracy: 0.9771\n",
      "Epoch 34/100\n",
      "1563/1563 [==============================] - 2s 2ms/step - loss: 0.0240 - accuracy: 0.9954 - val_loss: 0.0778 - val_accuracy: 0.9774\n",
      "Epoch 35/100\n",
      "1563/1563 [==============================] - 2s 2ms/step - loss: 0.0229 - accuracy: 0.9960 - val_loss: 0.0771 - val_accuracy: 0.9773\n",
      "Epoch 36/100\n",
      "1563/1563 [==============================] - 3s 2ms/step - loss: 0.0217 - accuracy: 0.9963 - val_loss: 0.0760 - val_accuracy: 0.9780\n",
      "Epoch 37/100\n",
      "1563/1563 [==============================] - 2s 2ms/step - loss: 0.0206 - accuracy: 0.9964 - val_loss: 0.0778 - val_accuracy: 0.9783\n",
      "Epoch 38/100\n",
      "1563/1563 [==============================] - 2s 1ms/step - loss: 0.0195 - accuracy: 0.9967 - val_loss: 0.0772 - val_accuracy: 0.9782\n",
      "Epoch 39/100\n",
      "1563/1563 [==============================] - 2s 1ms/step - loss: 0.0185 - accuracy: 0.9970 - val_loss: 0.0763 - val_accuracy: 0.9779\n"
     ]
    }
   ],
   "source": [
    "checkpoint_cb = keras.callbacks.ModelCheckpoint(\"my_model.h5\", save_best_only=True)\n",
    "early_stopping_cb = keras.callbacks.EarlyStopping(patience=3, restore_best_weights=True)\n",
    "\n",
    "history = model.fit(X_train, y_train, epochs=100, \n",
    "                    validation_data=(X_valid,y_valid), \n",
    "                    callbacks=[checkpoint_cb, early_stopping_cb])"
   ]
  },
  {
   "cell_type": "code",
   "execution_count": 26,
   "metadata": {},
   "outputs": [],
   "source": [
    "model = keras.models.load_model(\"my_model.h5\")"
   ]
  },
  {
   "cell_type": "code",
   "execution_count": 27,
   "metadata": {},
   "outputs": [
    {
     "name": "stdout",
     "output_type": "stream",
     "text": [
      "313/313 [==============================] - 0s 809us/step - loss: 0.0707 - accuracy: 0.9788\n"
     ]
    },
    {
     "data": {
      "text/plain": [
       "[0.07071075588464737, 0.9787999987602234]"
      ]
     },
     "execution_count": 27,
     "metadata": {},
     "output_type": "execute_result"
    }
   ],
   "source": [
    "model.evaluate(X_test, y_test)"
   ]
  },
  {
   "cell_type": "markdown",
   "metadata": {},
   "source": [
    "↳ We are almost touching the 98% accuract threshold, let's have a look to the learning curves with Tensorboard"
   ]
  },
  {
   "cell_type": "code",
   "execution_count": null,
   "metadata": {},
   "outputs": [],
   "source": []
  }
 ],
 "metadata": {
  "kernelspec": {
   "display_name": "Python 3",
   "language": "python",
   "name": "python3"
  },
  "language_info": {
   "codemirror_mode": {
    "name": "ipython",
    "version": 3
   },
   "file_extension": ".py",
   "mimetype": "text/x-python",
   "name": "python",
   "nbconvert_exporter": "python",
   "pygments_lexer": "ipython3",
   "version": "3.8.3"
  }
 },
 "nbformat": 4,
 "nbformat_minor": 4
}
