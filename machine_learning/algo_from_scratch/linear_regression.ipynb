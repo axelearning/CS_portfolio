{
 "cells": [
  {
   "cell_type": "code",
   "execution_count": 464,
   "metadata": {},
   "outputs": [],
   "source": [
    "import numpy as np\n",
    "import pandas as pd\n",
    "import matplotlib.pyplot as plt\n",
    "from sklearn.datasets import make_regression "
   ]
  },
  {
   "cell_type": "code",
   "execution_count": 465,
   "metadata": {},
   "outputs": [
    {
     "data": {
      "text/plain": [
       "<matplotlib.collections.PathCollection at 0x7f8ad8c27be0>"
      ]
     },
     "execution_count": 465,
     "metadata": {},
     "output_type": "execute_result"
    },
    {
     "data": {
      "image/png": "[encoded data removed]",
      "text/plain": [
       "<Figure size 432x288 with 1 Axes>"
      ]
     },
     "metadata": {
      "needs_background": "light"
     },
     "output_type": "display_data"
    }
   ],
   "source": [
    "x,y = make_regression(n_samples=100, n_features=1, noise=10)\n",
    "\n",
    "plt.scatter(x,y)"
   ]
  },
  {
   "cell_type": "code",
   "execution_count": 466,
   "metadata": {},
   "outputs": [
    {
     "name": "stdout",
     "output_type": "stream",
     "text": [
      "X:(100, 1)\n",
      "X:(100, 1)\n"
     ]
    }
   ],
   "source": [
    "y = y.reshape(-1,1)\n",
    "print(f\"X:{x.shape}\")\n",
    "print(f\"X:{y.shape}\")"
   ]
  },
  {
   "cell_type": "code",
   "execution_count": 467,
   "metadata": {},
   "outputs": [
    {
     "data": {
      "text/plain": [
       "(100, 2)"
      ]
     },
     "execution_count": 467,
     "metadata": {},
     "output_type": "execute_result"
    }
   ],
   "source": [
    "# add the bias\n",
    "X = np.concatenate((x, np.ones((100,1))), axis=1)\n",
    "X.shape"
   ]
  },
  {
   "cell_type": "code",
   "execution_count": 468,
   "metadata": {},
   "outputs": [
    {
     "data": {
      "text/plain": [
       "array([[0.35560687],\n",
       "       [0.54108651]])"
      ]
     },
     "execution_count": 468,
     "metadata": {},
     "output_type": "execute_result"
    }
   ],
   "source": [
    "# random theta\n",
    "theta = np.random.rand(2,1)\n",
    "theta"
   ]
  },
  {
   "cell_type": "code",
   "execution_count": 469,
   "metadata": {},
   "outputs": [
    {
     "data": {
      "text/plain": [
       "[<matplotlib.lines.Line2D at 0x7f8abcb009d0>]"
      ]
     },
     "execution_count": 469,
     "metadata": {},
     "output_type": "execute_result"
    },
    {
     "data": {
      "image/png": "[encoded data removed]",
      "text/plain": [
       "<Figure size 432x288 with 1 Axes>"
      ]
     },
     "metadata": {
      "needs_background": "light"
     },
     "output_type": "display_data"
    }
   ],
   "source": [
    "def create_model(X,theta):\n",
    "    return X.dot(theta)\n",
    "\n",
    "plt.scatter(x,y)\n",
    "plt.plot(x,create_model(X,theta), c=\"r\")"
   ]
  },
  {
   "cell_type": "code",
   "execution_count": 470,
   "metadata": {},
   "outputs": [
    {
     "data": {
      "text/plain": [
       "568.2078374661116"
      ]
     },
     "execution_count": 470,
     "metadata": {},
     "output_type": "execute_result"
    }
   ],
   "source": [
    "m = len(X)\n",
    "def cost_fct(X, y, theta):\n",
    "    return 1/(2*m) * np.sum(create_model(X, theta) - y)**2\n",
    "\n",
    "cost_fct(X, y, theta)"
   ]
  },
  {
   "cell_type": "markdown",
   "metadata": {},
   "source": [
    "# Gradient Descent\n",
    "---"
   ]
  },
  {
   "cell_type": "code",
   "execution_count": 496,
   "metadata": {},
   "outputs": [
    {
     "data": {
      "text/plain": [
       "array([[-20.20406974],\n",
       "       [  3.3710765 ]])"
      ]
     },
     "execution_count": 496,
     "metadata": {},
     "output_type": "execute_result"
    }
   ],
   "source": [
    "def gradient(X, y, theta):\n",
    "    return 1/m * X.T.dot(create_model(X, theta)-y)\n",
    "\n",
    "gradient(X, y, theta)"
   ]
  },
  {
   "cell_type": "code",
   "execution_count": 505,
   "metadata": {},
   "outputs": [],
   "source": [
    "def gradient_descent(X, y, theta, n_iteration=1000, learning_rate=0.01):\n",
    "    plt.figure()\n",
    "    plt.scatter(x,y)\n",
    "    for i in range(n_iteration):\n",
    "        mse = cost_fct(X, y, theta)\n",
    "        grad = gradient(X, y, theta)\n",
    "        theta = theta - learning_rate * gradient(X, y, theta)\n",
    "        if i % 250 == 0:\n",
    "            print(f\"iteration {i}: {mse:.4f}\")\n",
    "            y_pred = create_model(X, theta)\n",
    "            plt.plot(x, y_pred, c=\"b\", alpha=0.2)\n",
    "            \n",
    "    y_pred = create_model(X, theta)\n",
    "    plt.plot(x, y_pred, c=\"r\")\n",
    "    return theta"
   ]
  },
  {
   "cell_type": "code",
   "execution_count": 506,
   "metadata": {
    "scrolled": false
   },
   "outputs": [
    {
     "name": "stdout",
     "output_type": "stream",
     "text": [
      "iteration 0: 568.2078\n",
      "iteration 250: 0.0446\n",
      "iteration 500: 0.0469\n",
      "iteration 750: 0.0013\n"
     ]
    },
    {
     "data": {
      "image/png": "[encoded data removed]",
      "text/plain": [
       "<Figure size 432x288 with 1 Axes>"
      ]
     },
     "metadata": {
      "needs_background": "light"
     },
     "output_type": "display_data"
    }
   ],
   "source": [
    "theta_gradient_descent = gradient_descent(X, y, theta)"
   ]
  },
  {
   "cell_type": "markdown",
   "metadata": {},
   "source": [
    "# Normal equation\n",
    "---\n",
    "Get directly the coefficient of θ, however matrix inversion can be slow for large matrix ...  \n",
    "\n",
    "$θ = (X^T.X)^{-1}.X^T.Y$"
   ]
  },
  {
   "cell_type": "code",
   "execution_count": 507,
   "metadata": {},
   "outputs": [],
   "source": [
    "theta_normal_eq = np.linalg.inv(X.T.dot(X)).dot(X.T).dot(y)"
   ]
  },
  {
   "cell_type": "code",
   "execution_count": 508,
   "metadata": {},
   "outputs": [
    {
     "name": "stdout",
     "output_type": "stream",
     "text": [
      "Coef normal equation:  [21.56021868 -1.364343  ]\n",
      "Coef gradient descent: [21.55839712 -1.36515229]\n"
     ]
    }
   ],
   "source": [
    "print(f\"Coef normal equation:  {theta_normal_eq.reshape(-1)}\")\n",
    "print(f\"Coef gradient descent: {theta_gradient_descent.reshape(-1)}\")"
   ]
  },
  {
   "cell_type": "code",
   "execution_count": null,
   "metadata": {},
   "outputs": [],
   "source": []
  }
 ],
 "metadata": {
  "kernelspec": {
   "display_name": "Python 3",
   "language": "python",
   "name": "python3"
  },
  "language_info": {
   "codemirror_mode": {
    "name": "ipython",
    "version": 3
   },
   "file_extension": ".py",
   "mimetype": "text/x-python",
   "name": "python",
   "nbconvert_exporter": "python",
   "pygments_lexer": "ipython3",
   "version": "3.8.3"
  }
 },
 "nbformat": 4,
 "nbformat_minor": 4
}
