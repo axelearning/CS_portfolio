{
 "cells": [
  {
   "cell_type": "markdown",
   "metadata": {},
   "source": [
    "# Logistic Regression from scratch\n",
    "---\n",
    "## What I Learned ?\n",
    "- deeper understanding of the algorithm\n",
    "- transform math equation to python code\n",
    "- handeling matrix multiplication with numpy"
   ]
  },
  {
   "cell_type": "code",
   "execution_count": 1,
   "metadata": {},
   "outputs": [],
   "source": [
    "from sklearn import datasets\n",
    "import numpy as np\n",
    "import matplotlib.pyplot as plt"
   ]
  },
  {
   "cell_type": "markdown",
   "metadata": {},
   "source": [
    "## 1. Load the Data"
   ]
  },
  {
   "cell_type": "code",
   "execution_count": 22,
   "metadata": {},
   "outputs": [
    {
     "data": {
      "text/plain": [
       "dict_keys(['data', 'target', 'frame', 'target_names', 'DESCR', 'feature_names', 'filename'])"
      ]
     },
     "execution_count": 22,
     "metadata": {},
     "output_type": "execute_result"
    }
   ],
   "source": [
    "iris = datasets.load_iris()\n",
    "iris.keys()"
   ]
  },
  {
   "cell_type": "code",
   "execution_count": 33,
   "metadata": {},
   "outputs": [],
   "source": [
    "X = iris[\"data\"][:,:2]\n",
    "# normalize\n",
    "X = (X - X.mean())/X.std()"
   ]
  },
  {
   "cell_type": "code",
   "execution_count": 34,
   "metadata": {},
   "outputs": [],
   "source": [
    "y = (iris[\"target\"] == 2).astype(int)\n",
    "# add an axis to create a column vector\n",
    "y = y[:, np.newaxis]\n",
    "# add bias\n",
    "X = np.concatenate((np.zeros([len(X), 1]), X), axis=1)"
   ]
  },
  {
   "cell_type": "code",
   "execution_count": 35,
   "metadata": {},
   "outputs": [
    {
     "name": "stdout",
     "output_type": "stream",
     "text": [
      "X shape: (150, 3)\n",
      "y shape: (150, 1)\n"
     ]
    }
   ],
   "source": [
    "print(f\"X shape: {X.shape}\")\n",
    "print(f\"y shape: {y.shape}\")"
   ]
  },
  {
   "cell_type": "code",
   "execution_count": 36,
   "metadata": {},
   "outputs": [
    {
     "data": {
      "text/plain": [
       "<matplotlib.collections.PathCollection at 0x7ff50a332be0>"
      ]
     },
     "execution_count": 36,
     "metadata": {},
     "output_type": "execute_result"
    },
    {
     "data": {
      "image/png": "[encoded data removed]",
      "text/plain": [
       "<Figure size 432x288 with 1 Axes>"
      ]
     },
     "metadata": {
      "needs_background": "light"
     },
     "output_type": "display_data"
    }
   ],
   "source": [
    "plt.figure()\n",
    "plt.scatter(X[:,1], X[:,2], c=y)"
   ]
  },
  {
   "cell_type": "code",
   "execution_count": 37,
   "metadata": {},
   "outputs": [],
   "source": [
    "# initialise theta\n",
    "theta = np.random.randn(X.shape[1]).reshape(-1,1)"
   ]
  },
  {
   "cell_type": "markdown",
   "metadata": {},
   "source": [
    "## 2. create the sigmoid fct \n",
    "$p_k=\\sigma(X\\theta)$"
   ]
  },
  {
   "cell_type": "code",
   "execution_count": 38,
   "metadata": {},
   "outputs": [],
   "source": [
    "def sigmoid(x):\n",
    "    return 1/(1+np.exp(-x))"
   ]
  },
  {
   "cell_type": "code",
   "execution_count": 39,
   "metadata": {},
   "outputs": [
    {
     "data": {
      "text/plain": [
       "array([[0.24365388],\n",
       "       [0.18272956],\n",
       "       [0.22572272],\n",
       "       [0.21753141],\n",
       "       [0.26892563]])"
      ]
     },
     "execution_count": 39,
     "metadata": {},
     "output_type": "execute_result"
    }
   ],
   "source": [
    "y_prob = sigmoid(X.dot(theta))\n",
    "y_prob[:5]"
   ]
  },
  {
   "cell_type": "markdown",
   "metadata": {},
   "source": [
    "## Cost fct\n",
    "binary cross entropy : $J(\\theta)=-\\dfrac{1}{m}\\sum_{i=0}^{m}[ y^{(i)}\\log(p_{k}^{(i)}) + (1-y_{(i)})\\log(1-p_{k}^{(i)})]$"
   ]
  },
  {
   "cell_type": "code",
   "execution_count": 40,
   "metadata": {},
   "outputs": [
    {
     "data": {
      "text/plain": [
       "0.9124047328530059"
      ]
     },
     "execution_count": 40,
     "metadata": {},
     "output_type": "execute_result"
    }
   ],
   "source": [
    "def cst_fct(y, y_prob):\n",
    "    espsilon = 1e-7\n",
    "    return -np.mean(y*np.log(y_prob+espsilon) + (1-y)*np.log(1-y_prob+espsilon))\n",
    "\n",
    "cst_fct(y, y_prob)"
   ]
  },
  {
   "cell_type": "markdown",
   "metadata": {},
   "source": [
    "## Gradient descent"
   ]
  },
  {
   "cell_type": "code",
   "execution_count": 41,
   "metadata": {},
   "outputs": [],
   "source": [
    "def gradient_descent(X, y, theta, lr=0.1, max_iter=1000):\n",
    "    espsilon = 1e-7\n",
    "    m = X.shape[0]\n",
    "    # initialise theta\n",
    "    theta = np.random.randn(X.shape[1]).reshape(-1,1)\n",
    "    \n",
    "    for epoch in range(max_iter):\n",
    "        y_prob = sigmoid(X.dot(theta))\n",
    "        cost_fct = -np.mean(y*np.log(y_prob+espsilon) + (1-y)*np.log(1-y_prob+espsilon))\n",
    "        gradient = (2/m)*X.T.dot(y_prob -y)\n",
    "        theta -= lr * gradient\n",
    "        #display the cost fct 4 times\n",
    "        if epoch %(max_iter/10) == 0:\n",
    "            print(f\"Cost_fct iter {epoch}:\")\n",
    "            print(f\"{cost_fct:.2f}\")\n",
    "            print(\"---\")\n",
    "        \n",
    "    return theta"
   ]
  },
  {
   "cell_type": "code",
   "execution_count": 42,
   "metadata": {},
   "outputs": [
    {
     "name": "stdout",
     "output_type": "stream",
     "text": [
      "Cost_fct iter 0:\n",
      "0.68\n",
      "---\n",
      "Cost_fct iter 100:\n",
      "0.56\n",
      "---\n",
      "Cost_fct iter 200:\n",
      "0.53\n",
      "---\n",
      "Cost_fct iter 300:\n",
      "0.52\n",
      "---\n",
      "Cost_fct iter 400:\n",
      "0.52\n",
      "---\n",
      "Cost_fct iter 500:\n",
      "0.52\n",
      "---\n",
      "Cost_fct iter 600:\n",
      "0.52\n",
      "---\n",
      "Cost_fct iter 700:\n",
      "0.52\n",
      "---\n",
      "Cost_fct iter 800:\n",
      "0.52\n",
      "---\n",
      "Cost_fct iter 900:\n",
      "0.52\n",
      "---\n"
     ]
    }
   ],
   "source": [
    "theta = gradient_descent(X,y,theta)"
   ]
  },
  {
   "cell_type": "markdown",
   "metadata": {},
   "source": [
    "## Predict\n",
    "$ p_k(x) > 0.5 → y=1$  \n",
    "$ p_k(x) < 0.5 → y=0$ "
   ]
  },
  {
   "cell_type": "code",
   "execution_count": 43,
   "metadata": {},
   "outputs": [],
   "source": [
    "def predict(X, theta):\n",
    "    y_prob = sigmoid(X.dot(theta))\n",
    "    return ( y_prob > .5).astype(int)"
   ]
  },
  {
   "cell_type": "code",
   "execution_count": 44,
   "metadata": {},
   "outputs": [],
   "source": [
    "y_pred = predict(X, theta)"
   ]
  },
  {
   "cell_type": "code",
   "execution_count": 45,
   "metadata": {},
   "outputs": [
    {
     "data": {
      "text/plain": [
       "0.7466666666666667"
      ]
     },
     "execution_count": 45,
     "metadata": {},
     "output_type": "execute_result"
    }
   ],
   "source": [
    "# accuracy\n",
    "(y == y_pred).mean()"
   ]
  }
 ],
 "metadata": {
  "kernelspec": {
   "display_name": "Python 3",
   "language": "python",
   "name": "python3"
  },
  "language_info": {
   "codemirror_mode": {
    "name": "ipython",
    "version": 3
   },
   "file_extension": ".py",
   "mimetype": "text/x-python",
   "name": "python",
   "nbconvert_exporter": "python",
   "pygments_lexer": "ipython3",
   "version": "3.8.3"
  }
 },
 "nbformat": 4,
 "nbformat_minor": 4
}
