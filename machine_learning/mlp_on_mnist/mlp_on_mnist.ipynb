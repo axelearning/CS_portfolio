{
 "cells": [
  {
   "cell_type": "markdown",
   "metadata": {},
   "source": [
    "# Train a deep MLP on MNIST dataset\n",
    "---\n",
    "## Goal 🔭\n",
    "- get over 98% of precision\n",
    "- find the optimal learning rate\n",
    "- add checkpoint, early stopping and plot learning curves using Tensorboard"
   ]
  },
  {
   "cell_type": "markdown",
   "metadata": {},
   "source": [
    "## What I Learned ?\n",
    "---\n",
    "- blablabla\n",
    "- blablabla\n",
    "- blablabla\n",
    "---"
   ]
  },
  {
   "cell_type": "markdown",
   "metadata": {},
   "source": [
    "## Summary\n",
    "1. Load and preprocess the MNIST dataset\n",
    "2. Implement a deep neural nets\n",
    "3. tune the learning rate\n",
    "4. add early stopping checkpoint, and Tensorboard visu"
   ]
  },
  {
   "cell_type": "code",
   "execution_count": 1,
   "metadata": {},
   "outputs": [],
   "source": [
    "import numpy as np\n",
    "import tensorflow as tf\n",
    "from tensorflow import keras\n",
    "import tensorboard\n",
    "import matplotlib.pyplot as plt\n",
    "%matplotlib inline\n",
    "np.random.seed(42)"
   ]
  },
  {
   "cell_type": "markdown",
   "metadata": {},
   "source": [
    "## 1. Load and preprocess the MNIST dataset\n",
    "___\n",
    "MNIST is a dataset composed by handwritten digits"
   ]
  },
  {
   "cell_type": "code",
   "execution_count": 2,
   "metadata": {},
   "outputs": [],
   "source": [
    "# load the dataset\n",
    "(X_full, y_full), (X_test, y_test) = keras.datasets.mnist.load_data()"
   ]
  },
  {
   "cell_type": "code",
   "execution_count": 3,
   "metadata": {},
   "outputs": [],
   "source": [
    "# split the dataset\n",
    "X_train, X_valid = X_full[:50000], X_full[50000:]\n",
    "y_train, y_valid = y_full[:50000], y_full[50000:]"
   ]
  },
  {
   "cell_type": "code",
   "execution_count": 4,
   "metadata": {},
   "outputs": [
    {
     "name": "stdout",
     "output_type": "stream",
     "text": [
      "Shape:\n",
      "X_train:(50000, 28, 28), y_train:(50000,)\n",
      "X_valid:(10000, 28, 28)\n",
      "X_test:(10000, 28, 28)\n"
     ]
    }
   ],
   "source": [
    "print(\"Shape:\")\n",
    "print(f\"X_train:{X_train.shape}, y_train:{y_train.shape}\")\n",
    "print(f\"X_valid:{X_valid.shape}\")\n",
    "print(f\"X_test:{X_test.shape}\")"
   ]
  },
  {
   "cell_type": "markdown",
   "metadata": {},
   "source": [
    "- 50,000 training instances, 10 000 testing and testing instances of features shape 28 x 28 - _each one is a pixel between 0 and 255_\n",
    "- The label are arrays of digit labels (0-9) of shape (instances,)"
   ]
  },
  {
   "cell_type": "markdown",
   "metadata": {},
   "source": [
    "### Normalise the features"
   ]
  },
  {
   "cell_type": "code",
   "execution_count": 5,
   "metadata": {},
   "outputs": [],
   "source": [
    "X_train, X_valid, X_test = X_train /255, X_valid / 255,  X_test/255"
   ]
  },
  {
   "cell_type": "markdown",
   "metadata": {},
   "source": [
    "### Quick exploration\n",
    "let's take a look at some instances"
   ]
  },
  {
   "cell_type": "code",
   "execution_count": 6,
   "metadata": {},
   "outputs": [
    {
     "data": {
      "image/png": "[encoded data removed]",
      "text/plain": [
       "<Figure size 432x288 with 1 Axes>"
      ]
     },
     "metadata": {
      "needs_background": "light"
     },
     "output_type": "display_data"
    }
   ],
   "source": [
    "# plot an instance\n",
    "def show_image(x):\n",
    "    plt.imshow(x, cmap=\"binary\")\n",
    "    plt.axis(\"off\")\n",
    "    \n",
    "show_image(X_train[0])\n",
    "plt.show()"
   ]
  },
  {
   "cell_type": "code",
   "execution_count": 7,
   "metadata": {},
   "outputs": [
    {
     "data": {
      "image/png": "[encoded data removed]",
      "text/plain": [
       "<Figure size 432x288 with 16 Axes>"
      ]
     },
     "metadata": {
      "needs_background": "light"
     },
     "output_type": "display_data"
    }
   ],
   "source": [
    "# plot few digit in the same time\n",
    "columns = 4\n",
    "rows = 4\n",
    "\n",
    "for row in range(rows):\n",
    "    for column in range(columns):\n",
    "        index = (rows * row + column) + 1 \n",
    "        plt.subplot(rows,columns,index)\n",
    "        show_image(X_train[index])\n",
    "plt.show()"
   ]
  },
  {
   "cell_type": "markdown",
   "metadata": {},
   "source": [
    "## 2. Create the model\n",
    "---\n",
    "Let's start by a simple model with 2 hidden layers of 100 neurones each. Moreover, this is a multi-classification problem where we try to predict the digit of handwritten digit. In that purpose, the last layer need to be composed by 10 neurones with the softmax activation."
   ]
  },
  {
   "cell_type": "code",
   "execution_count": 8,
   "metadata": {},
   "outputs": [],
   "source": [
    "model = keras.models.Sequential([\n",
    "    keras.layers.Flatten(input_shape=[28,28]),\n",
    "    keras.layers.Dense(100, activation=\"relu\"),\n",
    "    keras.layers.Dense(100,activation=\"relu\"),\n",
    "    keras.layers.Dense(10, activation=\"softmax\")\n",
    "])"
   ]
  },
  {
   "cell_type": "code",
   "execution_count": 9,
   "metadata": {},
   "outputs": [
    {
     "name": "stdout",
     "output_type": "stream",
     "text": [
      "Model: \"sequential\"\n",
      "_________________________________________________________________\n",
      "Layer (type)                 Output Shape              Param #   \n",
      "=================================================================\n",
      "flatten (Flatten)            (None, 784)               0         \n",
      "_________________________________________________________________\n",
      "dense (Dense)                (None, 100)               78500     \n",
      "_________________________________________________________________\n",
      "dense_1 (Dense)              (None, 100)               10100     \n",
      "_________________________________________________________________\n",
      "dense_2 (Dense)              (None, 10)                1010      \n",
      "=================================================================\n",
      "Total params: 89,610\n",
      "Trainable params: 89,610\n",
      "Non-trainable params: 0\n",
      "_________________________________________________________________\n"
     ]
    }
   ],
   "source": [
    "model.summary()"
   ]
  },
  {
   "cell_type": "code",
   "execution_count": 10,
   "metadata": {},
   "outputs": [],
   "source": [
    "# compiling the model\n",
    "model.compile(optimizer=\"sgd\", loss=\"sparse_categorical_crossentropy\", metrics=[\"accuracy\"])"
   ]
  },
  {
   "cell_type": "markdown",
   "metadata": {},
   "source": [
    "🗣 here we use `sparse_categorical_crossentropy` beacause the classes are exclusive and we have sparse labels - _label from 0-9_"
   ]
  },
  {
   "cell_type": "code",
   "execution_count": 20,
   "metadata": {},
   "outputs": [],
   "source": [
    "np.random.seed(42)\n",
    "tf.random.set_seed(42)"
   ]
  },
  {
   "cell_type": "code",
   "execution_count": 11,
   "metadata": {},
   "outputs": [
    {
     "name": "stdout",
     "output_type": "stream",
     "text": [
      "Epoch 1/30\n",
      "1563/1563 [==============================] - 2s 1ms/step - loss: 0.7203 - accuracy: 0.8153 - val_loss: 0.3325 - val_accuracy: 0.9068\n",
      "Epoch 2/30\n",
      "1563/1563 [==============================] - 2s 997us/step - loss: 0.3250 - accuracy: 0.9063 - val_loss: 0.2682 - val_accuracy: 0.9224\n",
      "Epoch 3/30\n",
      "1563/1563 [==============================] - 2s 962us/step - loss: 0.2699 - accuracy: 0.9224 - val_loss: 0.2334 - val_accuracy: 0.9326\n",
      "Epoch 4/30\n",
      "1563/1563 [==============================] - 2s 996us/step - loss: 0.2349 - accuracy: 0.9317 - val_loss: 0.2081 - val_accuracy: 0.9403\n",
      "Epoch 5/30\n",
      "1563/1563 [==============================] - 2s 991us/step - loss: 0.2081 - accuracy: 0.9395 - val_loss: 0.1861 - val_accuracy: 0.9481\n",
      "Epoch 6/30\n",
      "1563/1563 [==============================] - 2s 1ms/step - loss: 0.1872 - accuracy: 0.9454 - val_loss: 0.1715 - val_accuracy: 0.9530\n",
      "Epoch 7/30\n",
      "1563/1563 [==============================] - 2s 1ms/step - loss: 0.1695 - accuracy: 0.9507 - val_loss: 0.1595 - val_accuracy: 0.9560\n",
      "Epoch 8/30\n",
      "1563/1563 [==============================] - 2s 995us/step - loss: 0.1552 - accuracy: 0.9551 - val_loss: 0.1457 - val_accuracy: 0.9588\n",
      "Epoch 9/30\n",
      "1563/1563 [==============================] - 2s 1ms/step - loss: 0.1423 - accuracy: 0.9588 - val_loss: 0.1402 - val_accuracy: 0.9605\n",
      "Epoch 10/30\n",
      "1563/1563 [==============================] - 2s 985us/step - loss: 0.1317 - accuracy: 0.9619 - val_loss: 0.1311 - val_accuracy: 0.9636\n",
      "Epoch 11/30\n",
      "1563/1563 [==============================] - 2s 972us/step - loss: 0.1219 - accuracy: 0.9659 - val_loss: 0.1247 - val_accuracy: 0.9658\n",
      "Epoch 12/30\n",
      "1563/1563 [==============================] - 2s 965us/step - loss: 0.1134 - accuracy: 0.9678 - val_loss: 0.1185 - val_accuracy: 0.9677\n",
      "Epoch 13/30\n",
      "1563/1563 [==============================] - 2s 978us/step - loss: 0.1063 - accuracy: 0.9696 - val_loss: 0.1131 - val_accuracy: 0.9697\n",
      "Epoch 14/30\n",
      "1563/1563 [==============================] - 2s 985us/step - loss: 0.0993 - accuracy: 0.9726 - val_loss: 0.1108 - val_accuracy: 0.9691\n",
      "Epoch 15/30\n",
      "1563/1563 [==============================] - 2s 990us/step - loss: 0.0936 - accuracy: 0.9733 - val_loss: 0.1092 - val_accuracy: 0.9697\n",
      "Epoch 16/30\n",
      "1563/1563 [==============================] - 2s 995us/step - loss: 0.0885 - accuracy: 0.9746 - val_loss: 0.1035 - val_accuracy: 0.9710\n",
      "Epoch 17/30\n",
      "1563/1563 [==============================] - 2s 995us/step - loss: 0.0834 - accuracy: 0.9766 - val_loss: 0.1042 - val_accuracy: 0.9717\n",
      "Epoch 18/30\n",
      "1563/1563 [==============================] - 2s 964us/step - loss: 0.0790 - accuracy: 0.9780 - val_loss: 0.1006 - val_accuracy: 0.9724\n",
      "Epoch 19/30\n",
      "1563/1563 [==============================] - 2s 982us/step - loss: 0.0747 - accuracy: 0.9787 - val_loss: 0.1000 - val_accuracy: 0.9731\n",
      "Epoch 20/30\n",
      "1563/1563 [==============================] - 2s 1ms/step - loss: 0.0710 - accuracy: 0.9803 - val_loss: 0.0952 - val_accuracy: 0.9726\n",
      "Epoch 21/30\n",
      "1563/1563 [==============================] - 2s 1ms/step - loss: 0.0677 - accuracy: 0.9808 - val_loss: 0.0955 - val_accuracy: 0.9738\n",
      "Epoch 22/30\n",
      "1563/1563 [==============================] - 2s 997us/step - loss: 0.0638 - accuracy: 0.9823 - val_loss: 0.0922 - val_accuracy: 0.9742\n",
      "Epoch 23/30\n",
      "1563/1563 [==============================] - 2s 1ms/step - loss: 0.0611 - accuracy: 0.9829 - val_loss: 0.0908 - val_accuracy: 0.9741\n",
      "Epoch 24/30\n",
      "1563/1563 [==============================] - 2s 1ms/step - loss: 0.0581 - accuracy: 0.9839 - val_loss: 0.0920 - val_accuracy: 0.9745\n",
      "Epoch 25/30\n",
      "1563/1563 [==============================] - 1s 938us/step - loss: 0.0553 - accuracy: 0.9849 - val_loss: 0.0899 - val_accuracy: 0.9742\n",
      "Epoch 26/30\n",
      "1563/1563 [==============================] - 1s 927us/step - loss: 0.0529 - accuracy: 0.9858 - val_loss: 0.0880 - val_accuracy: 0.9758\n",
      "Epoch 27/30\n",
      "1563/1563 [==============================] - 1s 928us/step - loss: 0.0508 - accuracy: 0.9864 - val_loss: 0.0865 - val_accuracy: 0.9751\n",
      "Epoch 28/30\n",
      "1563/1563 [==============================] - 1s 934us/step - loss: 0.0484 - accuracy: 0.9869 - val_loss: 0.0876 - val_accuracy: 0.9749\n",
      "Epoch 29/30\n",
      "1563/1563 [==============================] - 1s 948us/step - loss: 0.0463 - accuracy: 0.9877 - val_loss: 0.0903 - val_accuracy: 0.9748\n",
      "Epoch 30/30\n",
      "1563/1563 [==============================] - 1s 930us/step - loss: 0.0443 - accuracy: 0.9884 - val_loss: 0.0866 - val_accuracy: 0.9748\n"
     ]
    }
   ],
   "source": [
    "# training the model\n",
    "history = model.fit(X_train, y_train, epochs=30, validation_data=(X_valid, y_valid))"
   ]
  },
  {
   "cell_type": "code",
   "execution_count": 24,
   "metadata": {},
   "outputs": [
    {
     "data": {
      "image/png": "[encoded data removed]",
      "text/plain": [
       "<Figure size 576x432 with 1 Axes>"
      ]
     },
     "metadata": {
      "needs_background": "light"
     },
     "output_type": "display_data"
    }
   ],
   "source": [
    "import pandas as pd\n",
    "pd.DataFrame(history.history).plot(figsize=(8,6))\n",
    "plt.show()"
   ]
  },
  {
   "cell_type": "code",
   "execution_count": 13,
   "metadata": {},
   "outputs": [
    {
     "name": "stdout",
     "output_type": "stream",
     "text": [
      "313/313 [==============================] - 0s 632us/step - loss: 0.0800 - accuracy: 0.9754\n"
     ]
    },
    {
     "data": {
      "text/plain": [
       "[0.07995694875717163, 0.9753999710083008]"
      ]
     },
     "execution_count": 13,
     "metadata": {},
     "output_type": "execute_result"
    }
   ],
   "source": [
    "model.evaluate(X_test, y_test)"
   ]
  },
  {
   "cell_type": "markdown",
   "metadata": {},
   "source": [
    "- precision close to 98%\n",
    "- the model start overfiting a bit after $20^{th}$ epochs\n",
    "\n",
    "\n",
    "💡Let's tune the model wiht early stopping and then fine the best learning rate"
   ]
  },
  {
   "cell_type": "markdown",
   "metadata": {},
   "source": [
    "## 3. Add Early stopping and other Callbacks\n",
    "---"
   ]
  },
  {
   "cell_type": "code",
   "execution_count": null,
   "metadata": {},
   "outputs": [],
   "source": [
    "keras.backend.clear_session()\n",
    "np.random.seed(42)\n",
    "tf.random.set_seed(42)\n",
    "\n",
    "model = keras.models.Sequential([\n",
    "    keras.layers.Flatten(input_shape=[28,28]),\n",
    "    keras.layers.Dense(100, activation=\"relu\"),\n",
    "    keras.layers.Dense(100,activation=\"relu\"),\n",
    "    keras.layers.Dense(10, activation=\"softmax\")\n",
    "])"
   ]
  },
  {
   "cell_type": "code",
   "execution_count": 15,
   "metadata": {},
   "outputs": [
    {
     "name": "stdout",
     "output_type": "stream",
     "text": [
      "Epoch 1/100\n",
      "1563/1563 [==============================] - 2s 968us/step - loss: 0.0423 - accuracy: 0.9889 - val_loss: 0.0863 - val_accuracy: 0.9758\n",
      "Epoch 2/100\n",
      "1563/1563 [==============================] - 2s 963us/step - loss: 0.0405 - accuracy: 0.9895 - val_loss: 0.0850 - val_accuracy: 0.9756\n",
      "Epoch 3/100\n",
      "1563/1563 [==============================] - 2s 960us/step - loss: 0.0391 - accuracy: 0.9900 - val_loss: 0.0856 - val_accuracy: 0.9757\n",
      "Epoch 4/100\n",
      "1563/1563 [==============================] - 2s 961us/step - loss: 0.0373 - accuracy: 0.9908 - val_loss: 0.0851 - val_accuracy: 0.9760\n",
      "Epoch 5/100\n",
      "1563/1563 [==============================] - 1s 958us/step - loss: 0.0358 - accuracy: 0.9913 - val_loss: 0.0860 - val_accuracy: 0.9764\n"
     ]
    }
   ],
   "source": [
    "checkpoint_cb = keras.callbacks.ModelCheckpoint(\"my_model.h5\", save_best_only=True)\n",
    "early_stopping_cb = keras.callbacks.EarlyStopping(patience=3, restore_best_weights=True)\n",
    "\n",
    "history = model.fit(X_train, y_train, epochs=100, \n",
    "                    validation_data=(X_valid,y_valid), \n",
    "                    callbacks=[checkpoint_cb, early_stopping_cb])"
   ]
  },
  {
   "cell_type": "code",
   "execution_count": null,
   "metadata": {},
   "outputs": [],
   "source": [
    "model = keras.model.load_model(\"my_model.h5\")"
   ]
  },
  {
   "cell_type": "code",
   "execution_count": 16,
   "metadata": {},
   "outputs": [
    {
     "name": "stdout",
     "output_type": "stream",
     "text": [
      "313/313 [==============================] - 0s 652us/step - loss: 0.0794 - accuracy: 0.9755\n"
     ]
    },
    {
     "data": {
      "text/plain": [
       "[0.07941634953022003, 0.9754999876022339]"
      ]
     },
     "execution_count": 16,
     "metadata": {},
     "output_type": "execute_result"
    }
   ],
   "source": [
    "model.evaluate(X_test, y_test)"
   ]
  },
  {
   "cell_type": "code",
   "execution_count": null,
   "metadata": {},
   "outputs": [],
   "source": []
  }
 ],
 "metadata": {
  "kernelspec": {
   "display_name": "Python 3",
   "language": "python",
   "name": "python3"
  },
  "language_info": {
   "codemirror_mode": {
    "name": "ipython",
    "version": 3
   },
   "file_extension": ".py",
   "mimetype": "text/x-python",
   "name": "python",
   "nbconvert_exporter": "python",
   "pygments_lexer": "ipython3",
   "version": "3.8.3"
  }
 },
 "nbformat": 4,
 "nbformat_minor": 4
}
