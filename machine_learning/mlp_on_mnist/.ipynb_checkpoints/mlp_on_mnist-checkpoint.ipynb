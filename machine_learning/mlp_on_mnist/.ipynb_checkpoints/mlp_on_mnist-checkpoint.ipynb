{
 "cells": [
  {
   "cell_type": "markdown",
   "metadata": {},
   "source": [
    "# Train a deep MLP on MNIST dataset\n",
    "---\n",
    "## Goal 🔭\n",
    "- get over 98% of precision\n",
    "- find the optimal learning rate\n",
    "- add checkpoint, early stopping and plot learning curves using Tensorboard"
   ]
  },
  {
   "cell_type": "markdown",
   "metadata": {},
   "source": [
    "## What I Learned ?\n",
    "---\n",
    "- Train a neural network on Tensorflow\n",
    "- Saving and loading a model\n",
    "- Analyzing the learning curve with TensorBoard\n",
    "- Hyperparameters tuning\n",
    "---"
   ]
  },
  {
   "cell_type": "markdown",
   "metadata": {},
   "source": [
    "## Summary\n",
    "1. Load and preprocess the MNIST dataset\n",
    "2. Train a model with Tensorflow\n",
    "3. Add Early Stopping, TensorBoard and Checkpoints\n",
    "4. Tune the Learning Rate"
   ]
  },
  {
   "cell_type": "code",
   "execution_count": 1,
   "metadata": {},
   "outputs": [],
   "source": [
    "import numpy as np\n",
    "import tensorflow as tf\n",
    "from tensorflow import keras\n",
    "import tensorboard\n",
    "import matplotlib.pyplot as plt\n",
    "%matplotlib inline\n",
    "np.random.seed(42)"
   ]
  },
  {
   "cell_type": "markdown",
   "metadata": {},
   "source": [
    "## 1. Load and Preprocess the MNIST Dataset\n",
    "___\n",
    "MNIST is a dataset composed by handwritten digits"
   ]
  },
  {
   "cell_type": "code",
   "execution_count": 2,
   "metadata": {},
   "outputs": [],
   "source": [
    "# load the dataset\n",
    "(X_full, y_full), (X_test, y_test) = keras.datasets.mnist.load_data()"
   ]
  },
  {
   "cell_type": "code",
   "execution_count": 3,
   "metadata": {},
   "outputs": [],
   "source": [
    "# split the dataset\n",
    "X_train, X_valid = X_full[:50000], X_full[50000:]\n",
    "y_train, y_valid = y_full[:50000], y_full[50000:]"
   ]
  },
  {
   "cell_type": "code",
   "execution_count": 4,
   "metadata": {},
   "outputs": [
    {
     "name": "stdout",
     "output_type": "stream",
     "text": [
      "Shape:\n",
      "X_train:(50000, 28, 28), y_train:(50000,)\n",
      "X_valid:(10000, 28, 28)\n",
      "X_test:(10000, 28, 28)\n"
     ]
    }
   ],
   "source": [
    "print(\"Shape:\")\n",
    "print(f\"X_train:{X_train.shape}, y_train:{y_train.shape}\")\n",
    "print(f\"X_valid:{X_valid.shape}\")\n",
    "print(f\"X_test:{X_test.shape}\")"
   ]
  },
  {
   "cell_type": "markdown",
   "metadata": {},
   "source": [
    "- 50,000 training instances, 10 000 testing and testing instances of features shape 28 x 28 - _each one is a pixel between 0 and 255_\n",
    "- The label are arrays of digit labels (0-9) of shape (instances,)"
   ]
  },
  {
   "cell_type": "markdown",
   "metadata": {},
   "source": [
    "### Normalise the features"
   ]
  },
  {
   "cell_type": "code",
   "execution_count": 5,
   "metadata": {},
   "outputs": [],
   "source": [
    "X_train, X_valid, X_test = X_train /255, X_valid / 255,  X_test/255"
   ]
  },
  {
   "cell_type": "markdown",
   "metadata": {},
   "source": [
    "### Quick exploration\n",
    "let's take a look at some instances"
   ]
  },
  {
   "cell_type": "code",
   "execution_count": 8,
   "metadata": {},
   "outputs": [
    {
     "data": {
      "image/png": "[encoded data removed]",
      "text/plain": [
       "<Figure size 432x288 with 1 Axes>"
      ]
     },
     "metadata": {
      "needs_background": "light"
     },
     "output_type": "display_data"
    }
   ],
   "source": [
    "# plot an instance\n",
    "def show_image(x):\n",
    "    plt.imshow(x, cmap=\"binary\")\n",
    "    plt.axis(\"off\")\n",
    "    \n",
    "show_image(X_train[0])\n",
    "plt.show()"
   ]
  },
  {
   "cell_type": "code",
   "execution_count": 9,
   "metadata": {},
   "outputs": [
    {
     "data": {
      "image/png": "[encoded data removed]",
      "text/plain": [
       "<Figure size 345.6x345.6 with 16 Axes>"
      ]
     },
     "metadata": {
      "needs_background": "light"
     },
     "output_type": "display_data"
    }
   ],
   "source": [
    "# plot few digit in the same time\n",
    "columns = 4\n",
    "rows = 4\n",
    "plt.figure(figsize=(columns * 1.2, rows * 1.2))\n",
    "for row in range(rows):\n",
    "    for column in range(columns):\n",
    "        index = (rows * row + column) \n",
    "        plt.subplot(rows,columns,index + 1)\n",
    "        show_image(X_train[index])\n",
    "        plt.title(y_train[index])\n",
    "plt.subplots_adjust(wspace=0.2, hspace=1)\n",
    "plt.show()"
   ]
  },
  {
   "cell_type": "markdown",
   "metadata": {},
   "source": [
    "## 2. Train the Model with TF\n",
    "---\n",
    "Let's start by a simple model with 2 hidden layers of 100 neurones each. Moreover, this is a multi-classification problem where we try to predict the digit of handwritten digit. In that purpose, the last layer need to be composed by 10 neurones with the softmax activation."
   ]
  },
  {
   "cell_type": "code",
   "execution_count": 8,
   "metadata": {},
   "outputs": [],
   "source": [
    "model = keras.models.Sequential([\n",
    "    keras.layers.Flatten(input_shape=[28,28]),\n",
    "    keras.layers.Dense(100, activation=\"relu\"),\n",
    "    keras.layers.Dense(100,activation=\"relu\"),\n",
    "    keras.layers.Dense(10, activation=\"softmax\")\n",
    "])"
   ]
  },
  {
   "cell_type": "code",
   "execution_count": 9,
   "metadata": {},
   "outputs": [
    {
     "name": "stdout",
     "output_type": "stream",
     "text": [
      "Model: \"sequential\"\n",
      "_________________________________________________________________\n",
      "Layer (type)                 Output Shape              Param #   \n",
      "=================================================================\n",
      "flatten (Flatten)            (None, 784)               0         \n",
      "_________________________________________________________________\n",
      "dense (Dense)                (None, 100)               78500     \n",
      "_________________________________________________________________\n",
      "dense_1 (Dense)              (None, 100)               10100     \n",
      "_________________________________________________________________\n",
      "dense_2 (Dense)              (None, 10)                1010      \n",
      "=================================================================\n",
      "Total params: 89,610\n",
      "Trainable params: 89,610\n",
      "Non-trainable params: 0\n",
      "_________________________________________________________________\n"
     ]
    }
   ],
   "source": [
    "model.summary()"
   ]
  },
  {
   "cell_type": "code",
   "execution_count": 10,
   "metadata": {},
   "outputs": [],
   "source": [
    "# compiling the model\n",
    "model.compile(optimizer=\"sgd\", loss=\"sparse_categorical_crossentropy\", metrics=[\"accuracy\"])"
   ]
  },
  {
   "cell_type": "markdown",
   "metadata": {},
   "source": [
    "🗣 here we use `sparse_categorical_crossentropy` beacause the classes are exclusive and we have sparse labels - _label from 0-9_"
   ]
  },
  {
   "cell_type": "code",
   "execution_count": 11,
   "metadata": {},
   "outputs": [],
   "source": [
    "np.random.seed(42)\n",
    "tf.random.set_seed(42)"
   ]
  },
  {
   "cell_type": "code",
   "execution_count": 12,
   "metadata": {},
   "outputs": [
    {
     "name": "stdout",
     "output_type": "stream",
     "text": [
      "Epoch 1/30\n",
      "1563/1563 [==============================] - 2s 1ms/step - loss: 0.7307 - accuracy: 0.8024 - val_loss: 0.3422 - val_accuracy: 0.9049\n",
      "Epoch 2/30\n",
      "1563/1563 [==============================] - 1s 946us/step - loss: 0.3273 - accuracy: 0.9057 - val_loss: 0.2738 - val_accuracy: 0.9212\n",
      "Epoch 3/30\n",
      "1563/1563 [==============================] - 1s 937us/step - loss: 0.2720 - accuracy: 0.9222 - val_loss: 0.2370 - val_accuracy: 0.9306\n",
      "Epoch 4/30\n",
      "1563/1563 [==============================] - 2s 1ms/step - loss: 0.2371 - accuracy: 0.9317 - val_loss: 0.2120 - val_accuracy: 0.9396\n",
      "Epoch 5/30\n",
      "1563/1563 [==============================] - 2s 1ms/step - loss: 0.2100 - accuracy: 0.9397 - val_loss: 0.1884 - val_accuracy: 0.9495\n",
      "Epoch 6/30\n",
      "1563/1563 [==============================] - 2s 1ms/step - loss: 0.1887 - accuracy: 0.9454 - val_loss: 0.1714 - val_accuracy: 0.9544\n",
      "Epoch 7/30\n",
      "1563/1563 [==============================] - 2s 1ms/step - loss: 0.1708 - accuracy: 0.9502 - val_loss: 0.1575 - val_accuracy: 0.9578\n",
      "Epoch 8/30\n",
      "1563/1563 [==============================] - 2s 1ms/step - loss: 0.1564 - accuracy: 0.9542 - val_loss: 0.1569 - val_accuracy: 0.9572\n",
      "Epoch 9/30\n",
      "1563/1563 [==============================] - 2s 1ms/step - loss: 0.1448 - accuracy: 0.9577 - val_loss: 0.1390 - val_accuracy: 0.9623\n",
      "Epoch 10/30\n",
      "1563/1563 [==============================] - 2s 1ms/step - loss: 0.1344 - accuracy: 0.9611 - val_loss: 0.1326 - val_accuracy: 0.9643\n",
      "Epoch 11/30\n",
      "1563/1563 [==============================] - 2s 1ms/step - loss: 0.1248 - accuracy: 0.9634 - val_loss: 0.1250 - val_accuracy: 0.9656\n",
      "Epoch 12/30\n",
      "1563/1563 [==============================] - 2s 980us/step - loss: 0.1167 - accuracy: 0.9664 - val_loss: 0.1209 - val_accuracy: 0.9663\n",
      "Epoch 13/30\n",
      "1563/1563 [==============================] - 2s 1ms/step - loss: 0.1090 - accuracy: 0.9692 - val_loss: 0.1157 - val_accuracy: 0.9685\n",
      "Epoch 14/30\n",
      "1563/1563 [==============================] - 1s 954us/step - loss: 0.1025 - accuracy: 0.9706 - val_loss: 0.1119 - val_accuracy: 0.9688\n",
      "Epoch 15/30\n",
      "1563/1563 [==============================] - 1s 941us/step - loss: 0.0964 - accuracy: 0.9721 - val_loss: 0.1120 - val_accuracy: 0.9692\n",
      "Epoch 16/30\n",
      "1563/1563 [==============================] - 2s 1ms/step - loss: 0.0906 - accuracy: 0.9747 - val_loss: 0.1058 - val_accuracy: 0.9703\n",
      "Epoch 17/30\n",
      "1563/1563 [==============================] - 2s 1ms/step - loss: 0.0855 - accuracy: 0.9757 - val_loss: 0.1037 - val_accuracy: 0.9707\n",
      "Epoch 18/30\n",
      "1563/1563 [==============================] - 2s 1ms/step - loss: 0.0808 - accuracy: 0.9772 - val_loss: 0.1012 - val_accuracy: 0.9713\n",
      "Epoch 19/30\n",
      "1563/1563 [==============================] - 2s 999us/step - loss: 0.0766 - accuracy: 0.9781 - val_loss: 0.0992 - val_accuracy: 0.9713\n",
      "Epoch 20/30\n",
      "1563/1563 [==============================] - 2s 1ms/step - loss: 0.0728 - accuracy: 0.9793 - val_loss: 0.0967 - val_accuracy: 0.9732\n",
      "Epoch 21/30\n",
      "1563/1563 [==============================] - 2s 1ms/step - loss: 0.0690 - accuracy: 0.9807 - val_loss: 0.0974 - val_accuracy: 0.9723\n",
      "Epoch 22/30\n",
      "1563/1563 [==============================] - 2s 980us/step - loss: 0.0658 - accuracy: 0.9817 - val_loss: 0.0966 - val_accuracy: 0.9723\n",
      "Epoch 23/30\n",
      "1563/1563 [==============================] - 2s 961us/step - loss: 0.0625 - accuracy: 0.9828 - val_loss: 0.0913 - val_accuracy: 0.9740\n",
      "Epoch 24/30\n",
      "1563/1563 [==============================] - 2s 1ms/step - loss: 0.0595 - accuracy: 0.9837 - val_loss: 0.0897 - val_accuracy: 0.9737\n",
      "Epoch 25/30\n",
      "1563/1563 [==============================] - 2s 1ms/step - loss: 0.0569 - accuracy: 0.9845 - val_loss: 0.0894 - val_accuracy: 0.9748\n",
      "Epoch 26/30\n",
      "1563/1563 [==============================] - 2s 978us/step - loss: 0.0542 - accuracy: 0.9855 - val_loss: 0.0905 - val_accuracy: 0.9744\n",
      "Epoch 27/30\n",
      "1563/1563 [==============================] - 1s 936us/step - loss: 0.0517 - accuracy: 0.9861 - val_loss: 0.0890 - val_accuracy: 0.9736\n",
      "Epoch 28/30\n",
      "1563/1563 [==============================] - 1s 939us/step - loss: 0.0492 - accuracy: 0.9872 - val_loss: 0.0866 - val_accuracy: 0.9750\n",
      "Epoch 29/30\n",
      "1563/1563 [==============================] - 2s 961us/step - loss: 0.0470 - accuracy: 0.9879 - val_loss: 0.0858 - val_accuracy: 0.9755\n",
      "Epoch 30/30\n",
      "1563/1563 [==============================] - 1s 937us/step - loss: 0.0448 - accuracy: 0.9883 - val_loss: 0.0867 - val_accuracy: 0.9751\n"
     ]
    }
   ],
   "source": [
    "# training the model\n",
    "history = model.fit(X_train, y_train, epochs=30, validation_data=(X_valid, y_valid))"
   ]
  },
  {
   "cell_type": "code",
   "execution_count": 13,
   "metadata": {},
   "outputs": [
    {
     "data": {
      "image/png": "[encoded data removed]",
      "text/plain": [
       "<Figure size 576x432 with 1 Axes>"
      ]
     },
     "metadata": {
      "needs_background": "light"
     },
     "output_type": "display_data"
    }
   ],
   "source": [
    "import pandas as pd\n",
    "pd.DataFrame(history.history).plot(figsize=(8,6))\n",
    "plt.show()"
   ]
  },
  {
   "cell_type": "code",
   "execution_count": 14,
   "metadata": {},
   "outputs": [
    {
     "name": "stdout",
     "output_type": "stream",
     "text": [
      "313/313 [==============================] - 0s 668us/step - loss: 0.0801 - accuracy: 0.9750\n"
     ]
    },
    {
     "data": {
      "text/plain": [
       "[0.08010410517454147, 0.9750000238418579]"
      ]
     },
     "execution_count": 14,
     "metadata": {},
     "output_type": "execute_result"
    }
   ],
   "source": [
    "model.evaluate(X_test, y_test)"
   ]
  },
  {
   "cell_type": "markdown",
   "metadata": {},
   "source": [
    "- precision close to 98%\n",
    "- the model start overfiting a bit after $20^{th}$ epochs\n",
    "\n",
    "\n",
    "💡Let's tune the model wiht early stopping and then fine the best learning rate"
   ]
  },
  {
   "cell_type": "markdown",
   "metadata": {},
   "source": [
    "## 3. Add Early stopping, Tensorboard and Checkpoints\n",
    "---\n",
    "First, let's reset and change the shape of the model"
   ]
  },
  {
   "cell_type": "code",
   "execution_count": 15,
   "metadata": {},
   "outputs": [],
   "source": [
    "keras.backend.clear_session()\n",
    "np.random.seed(42)\n",
    "tf.random.set_seed(42)\n",
    "\n",
    "\n",
    "model = keras.models.Sequential([\n",
    "    keras.layers.Flatten(input_shape=[28,28]),\n",
    "    keras.layers.Dense(300, activation=\"relu\"),\n",
    "    keras.layers.Dense(100,activation=\"relu\"),\n",
    "    keras.layers.Dense(10, activation=\"softmax\")\n",
    "])\n",
    "\n",
    "model.compile(optimizer=\"sgd\", loss=\"sparse_categorical_crossentropy\", metrics=[\"accuracy\"])"
   ]
  },
  {
   "cell_type": "markdown",
   "metadata": {},
   "source": [
    "Then we create a directory which will be use by TensorBoard. "
   ]
  },
  {
   "cell_type": "code",
   "execution_count": 16,
   "metadata": {},
   "outputs": [],
   "source": [
    "import os\n",
    "import time\n",
    "\n",
    "root_logdir = os.path.join(os.curdir,\"my_logs\")\n",
    "run_logdir = os.path.join(root_logdir, \"basic_lr\")"
   ]
  },
  {
   "cell_type": "markdown",
   "metadata": {},
   "source": [
    "We are using 3 callbacks:\n",
    "- __Early Stopping__, to stop the training on the best epochs\n",
    "- __Model Checkpoint__, to save and keep the best model\n",
    "- __TensorBoard__, to visualize the learning curves of the different run"
   ]
  },
  {
   "cell_type": "code",
   "execution_count": 17,
   "metadata": {},
   "outputs": [],
   "source": [
    "# callback\n",
    "checkpoint_cb = keras.callbacks.ModelCheckpoint(\"saved_model/my_model.h5\", save_best_only=True)\n",
    "early_stopping_cb = keras.callbacks.EarlyStopping(patience=3, restore_best_weights=True)\n",
    "tensorboard_cb = keras.callbacks.TensorBoard(run_logdir)"
   ]
  },
  {
   "cell_type": "markdown",
   "metadata": {},
   "source": [
    "Then we just need to train the model with the callback"
   ]
  },
  {
   "cell_type": "code",
   "execution_count": 18,
   "metadata": {},
   "outputs": [
    {
     "name": "stdout",
     "output_type": "stream",
     "text": [
      "Epoch 1/100\n",
      "1563/1563 [==============================] - 3s 2ms/step - loss: 0.6487 - accuracy: 0.8332 - val_loss: 0.3208 - val_accuracy: 0.9111\n",
      "Epoch 2/100\n",
      "1563/1563 [==============================] - 3s 2ms/step - loss: 0.3055 - accuracy: 0.9123 - val_loss: 0.2577 - val_accuracy: 0.9270\n",
      "Epoch 3/100\n",
      "1563/1563 [==============================] - 3s 2ms/step - loss: 0.2521 - accuracy: 0.9279 - val_loss: 0.2207 - val_accuracy: 0.9366\n",
      "Epoch 4/100\n",
      "1563/1563 [==============================] - 3s 2ms/step - loss: 0.2171 - accuracy: 0.9373 - val_loss: 0.1994 - val_accuracy: 0.9446\n",
      "Epoch 5/100\n",
      "1563/1563 [==============================] - 3s 2ms/step - loss: 0.1901 - accuracy: 0.9456 - val_loss: 0.1734 - val_accuracy: 0.9538\n",
      "Epoch 6/100\n",
      "1563/1563 [==============================] - 3s 2ms/step - loss: 0.1685 - accuracy: 0.9515 - val_loss: 0.1584 - val_accuracy: 0.9574\n",
      "Epoch 7/100\n",
      "1563/1563 [==============================] - 3s 2ms/step - loss: 0.1506 - accuracy: 0.9564 - val_loss: 0.1436 - val_accuracy: 0.9624\n",
      "Epoch 8/100\n",
      "1563/1563 [==============================] - 3s 2ms/step - loss: 0.1361 - accuracy: 0.9609 - val_loss: 0.1436 - val_accuracy: 0.9613\n",
      "Epoch 9/100\n",
      "1563/1563 [==============================] - 3s 2ms/step - loss: 0.1243 - accuracy: 0.9646 - val_loss: 0.1273 - val_accuracy: 0.9659\n",
      "Epoch 10/100\n",
      "1563/1563 [==============================] - 3s 2ms/step - loss: 0.1138 - accuracy: 0.9677 - val_loss: 0.1205 - val_accuracy: 0.9678\n",
      "Epoch 11/100\n",
      "1563/1563 [==============================] - 3s 2ms/step - loss: 0.1042 - accuracy: 0.9704 - val_loss: 0.1144 - val_accuracy: 0.9691\n",
      "Epoch 12/100\n",
      "1563/1563 [==============================] - 3s 2ms/step - loss: 0.0963 - accuracy: 0.9727 - val_loss: 0.1097 - val_accuracy: 0.9691\n",
      "Epoch 13/100\n",
      "1563/1563 [==============================] - 3s 2ms/step - loss: 0.0891 - accuracy: 0.9744 - val_loss: 0.1059 - val_accuracy: 0.9706\n",
      "Epoch 14/100\n",
      "1563/1563 [==============================] - 3s 2ms/step - loss: 0.0830 - accuracy: 0.9765 - val_loss: 0.1026 - val_accuracy: 0.9702\n",
      "Epoch 15/100\n",
      "1563/1563 [==============================] - 3s 2ms/step - loss: 0.0771 - accuracy: 0.9779 - val_loss: 0.0986 - val_accuracy: 0.9720\n",
      "Epoch 16/100\n",
      "1563/1563 [==============================] - 3s 2ms/step - loss: 0.0717 - accuracy: 0.9798 - val_loss: 0.0969 - val_accuracy: 0.9724\n",
      "Epoch 17/100\n",
      "1563/1563 [==============================] - 3s 2ms/step - loss: 0.0671 - accuracy: 0.9813 - val_loss: 0.0945 - val_accuracy: 0.9722\n",
      "Epoch 18/100\n",
      "1563/1563 [==============================] - 3s 2ms/step - loss: 0.0626 - accuracy: 0.9828 - val_loss: 0.0915 - val_accuracy: 0.9732\n",
      "Epoch 19/100\n",
      "1563/1563 [==============================] - 3s 2ms/step - loss: 0.0587 - accuracy: 0.9837 - val_loss: 0.0897 - val_accuracy: 0.9734\n",
      "Epoch 20/100\n",
      "1563/1563 [==============================] - 3s 2ms/step - loss: 0.0553 - accuracy: 0.9850 - val_loss: 0.0889 - val_accuracy: 0.9740\n",
      "Epoch 21/100\n",
      "1563/1563 [==============================] - 3s 2ms/step - loss: 0.0517 - accuracy: 0.9854 - val_loss: 0.0888 - val_accuracy: 0.9740\n",
      "Epoch 22/100\n",
      "1563/1563 [==============================] - 3s 2ms/step - loss: 0.0487 - accuracy: 0.9873 - val_loss: 0.0878 - val_accuracy: 0.9740\n",
      "Epoch 23/100\n",
      "1563/1563 [==============================] - 3s 2ms/step - loss: 0.0458 - accuracy: 0.9877 - val_loss: 0.0855 - val_accuracy: 0.9745\n",
      "Epoch 24/100\n",
      "1563/1563 [==============================] - 3s 2ms/step - loss: 0.0430 - accuracy: 0.9889 - val_loss: 0.0821 - val_accuracy: 0.9761\n",
      "Epoch 25/100\n",
      "1563/1563 [==============================] - 3s 2ms/step - loss: 0.0407 - accuracy: 0.9896 - val_loss: 0.0815 - val_accuracy: 0.9770\n",
      "Epoch 26/100\n",
      "1563/1563 [==============================] - 3s 2ms/step - loss: 0.0385 - accuracy: 0.9904 - val_loss: 0.0828 - val_accuracy: 0.9766\n",
      "Epoch 27/100\n",
      "1563/1563 [==============================] - 3s 2ms/step - loss: 0.0360 - accuracy: 0.9912 - val_loss: 0.0812 - val_accuracy: 0.9767\n",
      "Epoch 28/100\n",
      "1563/1563 [==============================] - 3s 2ms/step - loss: 0.0340 - accuracy: 0.9921 - val_loss: 0.0802 - val_accuracy: 0.9766\n",
      "Epoch 29/100\n",
      "1563/1563 [==============================] - 3s 2ms/step - loss: 0.0321 - accuracy: 0.9926 - val_loss: 0.0789 - val_accuracy: 0.9778\n",
      "Epoch 30/100\n",
      "1563/1563 [==============================] - 3s 2ms/step - loss: 0.0302 - accuracy: 0.9934 - val_loss: 0.0804 - val_accuracy: 0.9768\n",
      "Epoch 31/100\n",
      "1563/1563 [==============================] - 3s 2ms/step - loss: 0.0285 - accuracy: 0.9939 - val_loss: 0.0773 - val_accuracy: 0.9792\n",
      "Epoch 32/100\n",
      "1563/1563 [==============================] - 3s 2ms/step - loss: 0.0271 - accuracy: 0.9945 - val_loss: 0.0796 - val_accuracy: 0.9775\n",
      "Epoch 33/100\n",
      "1563/1563 [==============================] - 3s 2ms/step - loss: 0.0256 - accuracy: 0.9947 - val_loss: 0.0771 - val_accuracy: 0.9771\n",
      "Epoch 34/100\n",
      "1563/1563 [==============================] - 3s 2ms/step - loss: 0.0240 - accuracy: 0.9954 - val_loss: 0.0778 - val_accuracy: 0.9774\n",
      "Epoch 35/100\n",
      "1563/1563 [==============================] - 3s 2ms/step - loss: 0.0229 - accuracy: 0.9960 - val_loss: 0.0771 - val_accuracy: 0.9773\n",
      "Epoch 36/100\n",
      "1563/1563 [==============================] - 3s 2ms/step - loss: 0.0217 - accuracy: 0.9963 - val_loss: 0.0760 - val_accuracy: 0.9780\n",
      "Epoch 37/100\n",
      "1563/1563 [==============================] - 3s 2ms/step - loss: 0.0206 - accuracy: 0.9964 - val_loss: 0.0778 - val_accuracy: 0.9783\n",
      "Epoch 38/100\n",
      "1563/1563 [==============================] - 3s 2ms/step - loss: 0.0195 - accuracy: 0.9967 - val_loss: 0.0772 - val_accuracy: 0.9782\n",
      "Epoch 39/100\n",
      "1563/1563 [==============================] - 3s 2ms/step - loss: 0.0185 - accuracy: 0.9970 - val_loss: 0.0763 - val_accuracy: 0.9779\n"
     ]
    }
   ],
   "source": [
    "history = model.fit(X_train, y_train, epochs=100, \n",
    "                    validation_data=(X_valid,y_valid), \n",
    "                    callbacks=[checkpoint_cb, early_stopping_cb, tensorboard_cb])"
   ]
  },
  {
   "cell_type": "code",
   "execution_count": 3,
   "metadata": {},
   "outputs": [],
   "source": [
    "model = keras.models.load_model(\"saved_model/my_model.h5\")"
   ]
  },
  {
   "cell_type": "code",
   "execution_count": 20,
   "metadata": {},
   "outputs": [
    {
     "name": "stdout",
     "output_type": "stream",
     "text": [
      "313/313 [==============================] - 0s 955us/step - loss: 0.0707 - accuracy: 0.9788\n"
     ]
    },
    {
     "data": {
      "text/plain": [
       "[0.07071075588464737, 0.9787999987602234]"
      ]
     },
     "execution_count": 20,
     "metadata": {},
     "output_type": "execute_result"
    }
   ],
   "source": [
    "model.evaluate(X_test, y_test)"
   ]
  },
  {
   "cell_type": "markdown",
   "metadata": {},
   "source": [
    "↳ We are really close to achiev 98% accuracy on the test set. \n",
    "\n",
    "Let's take a look at the learning curves with Tensorboard."
   ]
  },
  {
   "cell_type": "code",
   "execution_count": 21,
   "metadata": {},
   "outputs": [
    {
     "data": {
      "text/plain": [
       "Reusing TensorBoard on port 6006 (pid 1283), started 4:50:57 ago. (Use '!kill 1283' to kill it.)"
      ]
     },
     "metadata": {},
     "output_type": "display_data"
    },
    {
     "data": {
      "text/html": [
       "\n",
       "      <iframe id=\"tensorboard-frame-444ab0f423020559\" width=\"100%\" height=\"800\" frameborder=\"0\">\n",
       "      </iframe>\n",
       "      <script>\n",
       "        (function() {\n",
       "          const frame = document.getElementById(\"tensorboard-frame-444ab0f423020559\");\n",
       "          const url = new URL(\"/\", window.location);\n",
       "          url.port = 6006;\n",
       "          frame.src = url;\n",
       "        })();\n",
       "      </script>\n",
       "  "
      ],
      "text/plain": [
       "<IPython.core.display.HTML object>"
      ]
     },
     "metadata": {},
     "output_type": "display_data"
    }
   ],
   "source": [
    "%load_ext tensorboard\n",
    "%tensorboard --logdir=./my_logs --port=6006"
   ]
  },
  {
   "cell_type": "markdown",
   "metadata": {},
   "source": [
    "You can also run the command bellow at the root of your project and go to http://localhost:6006\n",
    "```bash\n",
    "tensorboard --logdir=./my_logs --port=6006\n",
    "```"
   ]
  },
  {
   "cell_type": "markdown",
   "metadata": {},
   "source": [
    "## 4. Tune the Learning Rate\n",
    "---\n",
    "One way to find a good learning rate is to train the model for a few iterations, starting with a very low learning rate (e.g., $10^{-5}$) and gradually increasing it up to a very large value (e.g., 10). \n",
    "This is done by multiplying the learning rate by a constant factor at each iteration. Then we just plot the loss as a function of the learning rate and find the value where the loss diverge. \n",
    "\n",
    "↳ the optimal learning rate will be a bit lower than the point at which the loss starts to climb"
   ]
  },
  {
   "cell_type": "markdown",
   "metadata": {},
   "source": [
    "For that we create a callback which will increase and save the learning rate at the end of each mini_batch iteration. We also save the losses to be able to plot the loss as a function of the learning rates"
   ]
  },
  {
   "cell_type": "code",
   "execution_count": 22,
   "metadata": {},
   "outputs": [],
   "source": [
    "K = keras.backend\n",
    "\n",
    "class ExponentialLearningRate(keras.callbacks.Callback):\n",
    "        def __init__(self, factor):\n",
    "            self.factor = factor\n",
    "            self.rates = []\n",
    "            self.losses = []\n",
    "        def on_batch_end(self, batch, logs):\n",
    "            self.rates.append(K.get_value(self.model.optimizer.lr))\n",
    "            self.losses.append(logs[\"loss\"])\n",
    "            K.set_value(self.model.optimizer.lr, self.model.optimizer.lr * self.factor)      "
   ]
  },
  {
   "cell_type": "markdown",
   "metadata": {},
   "source": [
    "Let's simply run our model with the given callback"
   ]
  },
  {
   "cell_type": "code",
   "execution_count": 23,
   "metadata": {},
   "outputs": [
    {
     "name": "stdout",
     "output_type": "stream",
     "text": [
      "1563/1563 [==============================] - 3s 2ms/step - loss: nan - accuracy: 0.5120 - val_loss: nan - val_accuracy: 0.0991\n"
     ]
    }
   ],
   "source": [
    "keras.backend.clear_session()\n",
    "np.random.seed(42)\n",
    "tf.random.set_seed(42)\n",
    "\n",
    "model = keras.models.Sequential([\n",
    "    keras.layers.Flatten(input_shape=[28,28]),\n",
    "    keras.layers.Dense(300, activation=\"relu\"),\n",
    "    keras.layers.Dense(100,activation=\"relu\"),\n",
    "    keras.layers.Dense(10, activation=\"softmax\")\n",
    "])\n",
    "\n",
    "model.compile(optimizer=\"sgd\", loss=\"sparse_categorical_crossentropy\", metrics=[\"accuracy\"])\n",
    "\n",
    "# callback\n",
    "expon_lr = ExponentialLearningRate(factor=1.005)\n",
    "\n",
    "history = model.fit(X_train, y_train, epochs=1,\n",
    "                    validation_data=(X_valid, y_valid),\n",
    "                    callbacks=[expon_lr])"
   ]
  },
  {
   "cell_type": "markdown",
   "metadata": {},
   "source": [
    "Then plot the loss as a function of the learning rate"
   ]
  },
  {
   "cell_type": "code",
   "execution_count": 24,
   "metadata": {},
   "outputs": [
    {
     "data": {
      "image/png": "[encoded data removed]",
      "text/plain": [
       "<Figure size 1440x432 with 1 Axes>"
      ]
     },
     "metadata": {
      "needs_background": "light"
     },
     "output_type": "display_data"
    }
   ],
   "source": [
    "plt.figure(figsize=(20, 6))\n",
    "plt.plot(expon_lr.rates, expon_lr.losses)\n",
    "plt.gca().set_xscale('log')\n",
    "plt.xlabel(\"Learning rate\")\n",
    "plt.ylabel(\"Loss\")\n",
    "plt.hlines(min(expon_lr.losses), min(expon_lr.rates), max(expon_lr.rates))\n",
    "plt.axis([min(expon_lr.rates), max(expon_lr.rates), 0, expon_lr.losses[0]])\n",
    "plt.show()"
   ]
  },
  {
   "cell_type": "markdown",
   "metadata": {},
   "source": [
    "As we can see the losses start shooting back up around 1. __Let's try a learning rate of 1e-1__:"
   ]
  },
  {
   "cell_type": "code",
   "execution_count": 28,
   "metadata": {},
   "outputs": [
    {
     "name": "stdout",
     "output_type": "stream",
     "text": [
      "Epoch 1/100\n",
      "1563/1563 [==============================] - 3s 2ms/step - loss: 0.2854 - accuracy: 0.9154 - val_loss: 0.1495 - val_accuracy: 0.9560\n",
      "Epoch 2/100\n",
      "1563/1563 [==============================] - 2s 2ms/step - loss: 0.1181 - accuracy: 0.9641 - val_loss: 0.1123 - val_accuracy: 0.9676\n",
      "Epoch 3/100\n",
      "1563/1563 [==============================] - 2s 2ms/step - loss: 0.0807 - accuracy: 0.9752 - val_loss: 0.0947 - val_accuracy: 0.9733\n",
      "Epoch 4/100\n",
      "1563/1563 [==============================] - 2s 2ms/step - loss: 0.0573 - accuracy: 0.9822 - val_loss: 0.0971 - val_accuracy: 0.9724\n",
      "Epoch 5/100\n",
      "1563/1563 [==============================] - 2s 2ms/step - loss: 0.0433 - accuracy: 0.9865 - val_loss: 0.0789 - val_accuracy: 0.9770\n",
      "Epoch 6/100\n",
      "1563/1563 [==============================] - 2s 2ms/step - loss: 0.0332 - accuracy: 0.9900 - val_loss: 0.0861 - val_accuracy: 0.9760\n",
      "Epoch 7/100\n",
      "1563/1563 [==============================] - 2s 2ms/step - loss: 0.0244 - accuracy: 0.9928 - val_loss: 0.0765 - val_accuracy: 0.9794\n",
      "Epoch 8/100\n",
      "1563/1563 [==============================] - 2s 2ms/step - loss: 0.0175 - accuracy: 0.9951 - val_loss: 0.0758 - val_accuracy: 0.9806\n",
      "Epoch 9/100\n",
      "1563/1563 [==============================] - 3s 2ms/step - loss: 0.0117 - accuracy: 0.9972 - val_loss: 0.0764 - val_accuracy: 0.9810\n",
      "Epoch 10/100\n",
      "1563/1563 [==============================] - 3s 2ms/step - loss: 0.0092 - accuracy: 0.9977 - val_loss: 0.0755 - val_accuracy: 0.9813\n",
      "Epoch 11/100\n",
      "1563/1563 [==============================] - 3s 2ms/step - loss: 0.0059 - accuracy: 0.9988 - val_loss: 0.0755 - val_accuracy: 0.9814\n",
      "Epoch 12/100\n",
      "1563/1563 [==============================] - 3s 2ms/step - loss: 0.0040 - accuracy: 0.9995 - val_loss: 0.0758 - val_accuracy: 0.9829\n",
      "Epoch 13/100\n",
      "1563/1563 [==============================] - 3s 2ms/step - loss: 0.0022 - accuracy: 0.9999 - val_loss: 0.0745 - val_accuracy: 0.9828\n",
      "Epoch 14/100\n",
      "1563/1563 [==============================] - 3s 2ms/step - loss: 0.0017 - accuracy: 0.9999 - val_loss: 0.0762 - val_accuracy: 0.9829\n",
      "Epoch 15/100\n",
      "1563/1563 [==============================] - 3s 2ms/step - loss: 0.0012 - accuracy: 1.0000 - val_loss: 0.0786 - val_accuracy: 0.9824\n",
      "Epoch 16/100\n",
      "1563/1563 [==============================] - 3s 2ms/step - loss: 9.9484e-04 - accuracy: 1.0000 - val_loss: 0.0785 - val_accuracy: 0.9823\n"
     ]
    }
   ],
   "source": [
    "keras.backend.clear_session()\n",
    "np.random.seed(42)\n",
    "tf.random.set_seed(42)\n",
    "\n",
    "# build\n",
    "model = keras.models.Sequential([\n",
    "    keras.layers.Flatten(input_shape=[28,28]),\n",
    "    keras.layers.Dense(300, activation=\"relu\"),\n",
    "    keras.layers.Dense(100,activation=\"relu\"),\n",
    "    keras.layers.Dense(10, activation=\"softmax\")\n",
    "])\n",
    "\n",
    "# set the learning rate\n",
    "lr = keras.optimizers.SGD(lr=1e-1)\n",
    "\n",
    "# compiler\n",
    "model.compile(optimizer=lr , loss=\"sparse_categorical_crossentropy\", metrics=[\"accuracy\"])\n",
    "run_logdir\n",
    "\n",
    "# summary name and callback\n",
    "run_logdir = os.path.join(root_logdir, \"optimize_lr\")\n",
    "tensorboard_cb = keras.callbacks.TensorBoard(run_logdir)\n",
    "checkpoint_cb = keras.callbacks.ModelCheckpoint(\"saved_model/optimize_lr_model.h5\", save_best_only=True)\n",
    "early_stopping_cb = keras.callbacks.EarlyStopping(patience=3, restore_best_weights=True)\n",
    "\n",
    "\n",
    "history = model.fit(X_train, y_train, epochs=100, \n",
    "                    validation_data=(X_valid,y_valid), \n",
    "                    callbacks=[checkpoint_cb, early_stopping_cb, tensorboard_cb])"
   ]
  },
  {
   "cell_type": "code",
   "execution_count": 29,
   "metadata": {},
   "outputs": [
    {
     "name": "stdout",
     "output_type": "stream",
     "text": [
      "313/313 [==============================] - 0s 798us/step - loss: 0.0688 - accuracy: 0.9821\n"
     ]
    },
    {
     "data": {
      "text/plain": [
       "[0.06877809762954712, 0.9821000099182129]"
      ]
     },
     "execution_count": 29,
     "metadata": {},
     "output_type": "execute_result"
    }
   ],
   "source": [
    "model.evaluate(X_test, y_test)"
   ]
  },
  {
   "cell_type": "markdown",
   "metadata": {},
   "source": [
    "↳ We achieve an accuracy above 98% 🥳\n",
    "\n",
    "Let's take a quick look at the learning curves on TensorBoard to see the difference between the different scenarios"
   ]
  },
  {
   "cell_type": "code",
   "execution_count": 30,
   "metadata": {
    "scrolled": false
   },
   "outputs": [
    {
     "name": "stdout",
     "output_type": "stream",
     "text": [
      "The tensorboard extension is already loaded. To reload it, use:\n",
      "  %reload_ext tensorboard\n"
     ]
    },
    {
     "data": {
      "text/plain": [
       "Reusing TensorBoard on port 6006 (pid 1283), started 4:53:08 ago. (Use '!kill 1283' to kill it.)"
      ]
     },
     "metadata": {},
     "output_type": "display_data"
    },
    {
     "data": {
      "text/html": [
       "\n",
       "      <iframe id=\"tensorboard-frame-6d8ea28ae9651d88\" width=\"100%\" height=\"800\" frameborder=\"0\">\n",
       "      </iframe>\n",
       "      <script>\n",
       "        (function() {\n",
       "          const frame = document.getElementById(\"tensorboard-frame-6d8ea28ae9651d88\");\n",
       "          const url = new URL(\"/\", window.location);\n",
       "          url.port = 6006;\n",
       "          frame.src = url;\n",
       "        })();\n",
       "      </script>\n",
       "  "
      ],
      "text/plain": [
       "<IPython.core.display.HTML object>"
      ]
     },
     "metadata": {},
     "output_type": "display_data"
    }
   ],
   "source": [
    "%load_ext tensorboard\n",
    "%tensorboard --logdir=./my_logs --port=6006"
   ]
  },
  {
   "cell_type": "markdown",
   "metadata": {},
   "source": [
    "It seems like the learning curves with the optimize learning rate escape a local minimun at the epoch 8 ! However it is weird to get more than one loss value for the first epoches.."
   ]
  },
  {
   "cell_type": "code",
   "execution_count": null,
   "metadata": {},
   "outputs": [],
   "source": []
  }
 ],
 "metadata": {
  "kernelspec": {
   "display_name": "Python 3",
   "language": "python",
   "name": "python3"
  },
  "language_info": {
   "codemirror_mode": {
    "name": "ipython",
    "version": 3
   },
   "file_extension": ".py",
   "mimetype": "text/x-python",
   "name": "python",
   "nbconvert_exporter": "python",
   "pygments_lexer": "ipython3",
   "version": "3.8.3"
  }
 },
 "nbformat": 4,
 "nbformat_minor": 4
}
